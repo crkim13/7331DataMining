{
 "cells": [
  {
   "cell_type": "markdown",
   "metadata": {},
   "source": [
    "# Lab One: Visualization and Data Preprocessing\n",
    "### Ryan Bass, Brett Benefield, Cho Kim, Nicole Wittlin"
   ]
  },
  {
   "cell_type": "code",
   "execution_count": null,
   "metadata": {},
   "outputs": [],
   "source": [
    "# https://stackoverflow.com/questions/38918653/pandas-invalid-literal-for-long-with-base-10-error\n",
    "# https://stackoverflow.com/questions/15325182/how-to-filter-rows-in-pandas-by-regex"
   ]
  },
  {
   "cell_type": "code",
   "execution_count": 1,
   "metadata": {},
   "outputs": [],
   "source": [
    "import pandas as pd\n",
    "import numpy as np\n",
    "from IPython.display import HTML, display"
   ]
  },
  {
   "cell_type": "code",
   "execution_count": 114,
   "metadata": {},
   "outputs": [
    {
     "name": "stdout",
     "output_type": "stream",
     "text": [
      "C:\\sandbox\\SMU\\dataMining\\7331DataMining\\EducationDataNC\\2017\\Raw Datasets\n"
     ]
    }
   ],
   "source": [
    "%cd \"C:\\sandbox\\SMU\\dataMining\\7331DataMining\\EducationDataNC\\2017\\Raw Datasets\"\n",
    "dfCollege = pd.read_csv(\"college-enrollment.csv\")\n",
    "dfTeachers = pd.read_csv(\"personnel.csv\")"
   ]
  },
  {
   "cell_type": "code",
   "execution_count": 115,
   "metadata": {},
   "outputs": [],
   "source": [
    "# Create a list of columns that are a specific data type\n",
    "nominal = ['graduation_year', 'unit_code', 'leaname', 'schname', 'status', 'subgroup', 'subgroup_name']\n",
    "continuous = ['schcount', 'leacount', 'seacount']\n",
    "ordinal = ['sch_percent_enrolled', 'lea_percent_enrolled', 'sea_percent_enrolled']\n",
    "\n",
    "# Convert data to correct data type\n",
    "dfCollege[nominal] = dfCollege[nominal].astype(object)\n",
    "dfCollege[continuous] = dfCollege[continuous].astype(float)\n",
    "dfCollege[ordinal] = dfCollege[ordinal].astype(float)"
   ]
  },
  {
   "cell_type": "code",
   "execution_count": 116,
   "metadata": {},
   "outputs": [],
   "source": [
    "# Only look at the overall total of students that enrolled in college\n",
    "# The dataset further divides it based on various categories which we can explore later\n",
    "dfCollegeAll = dfCollege[(dfCollege.subgroup == \"ALL\") & (dfCollege.status == \"ENROLL\")]\n",
    "\n",
    "# Remove schools identified by LEA and SEA unit_codes\n",
    "# Not sure why this grouping of schools is treated as an invidual school (warrants further investigation)\n",
    "dfCollegeAll = dfCollegeAll[~dfCollegeAll.unit_code.str.contains('LEA|SEA')]\n",
    "\n",
    "# Remove schools that didn't report number of students enrolled in college courses (warrents further investigation)\n",
    "dfCollegeAll = dfCollegeAll[~dfCollegeAll.schcount.isna()]\n",
    "dfCollegeAll = dfCollegeAll[~dfCollegeAll.leacount.isna()]"
   ]
  },
  {
   "cell_type": "code",
   "execution_count": 117,
   "metadata": {},
   "outputs": [],
   "source": [
    "# dfCollegeAll.info()"
   ]
  },
  {
   "cell_type": "code",
   "execution_count": 118,
   "metadata": {},
   "outputs": [],
   "source": [
    "# dfCollegeAll.describe()"
   ]
  },
  {
   "cell_type": "code",
   "execution_count": 119,
   "metadata": {},
   "outputs": [],
   "source": [
    "# Drop principle information since it's blank\n",
    "#delCols = ['prin_other_pct', 'prinyrs_0thru3_pct', 'prinyrs_4thru10_pct', 'prinyrs_11plus_pct', 'prin_advance_dgr_pct', '_1yr_prin_trnovr_pct', 'prin_male_pct', 'prin_female_pct', 'prin_black_pct', 'prin_white_pct']\n",
    "#dfTeachersHS = dfTeachersHS.drop(axis = 1, columns = prinCols, errors = 'ignore')\n",
    "\n",
    "# Other columns with no data\n",
    "#delCols = ['highqual_class_pct', 'lea_highqual_class_pct', 'lea_highqual_class_hp_pct', 'lea_highqual_class_lp_pct', 'lea_highqual_class_all_pct', 'lea_not_highqual_class_hp_pct', 'lea_not_highqual_class_lp_pct', 'lea_not_highqual_class_all_pct', 'st_highqual_class_pct', 'st_highqual_class_hp_pct', 'st_highqual_class_lp_pct', 'st_highqual_class_all_pct', 'st_not_highqual_class_hp_pct', 'st_not_highqual_class_lp_pct', 'st_not_highqual_class_all_pct']\n",
    "#dfTeachersHS = dfTeachersHS.drop(axis = 1, columns = delCols, errors = 'ignore')\n",
    "\n",
    "# Columns we won't be looking at for now\n",
    "#delCols = ['_1yr_tchr_trnovr_pct', 'emer_prov_teach_pct', 'lea_emer_prov_teach_pct']\n",
    "#dfTeachersHS = dfTeachersHS.drop(axis = 1, columns = delCols, errors = 'ignore')"
   ]
  },
  {
   "cell_type": "code",
   "execution_count": 120,
   "metadata": {},
   "outputs": [],
   "source": [
    "#if category_cd E or M, delete. These schools only have elementary and middle school grades, and might want to focus on HS\n",
    "#since HS's reported the college enrollment rates\n",
    "dfTeachersHS = dfTeachers[(dfTeachers.category_cd != \"E\") & (dfTeachers.category_cd != \"M\")]"
   ]
  },
  {
   "cell_type": "code",
   "execution_count": 121,
   "metadata": {},
   "outputs": [],
   "source": [
    "# Remove schools identified by LEA and SEA unit_codes\n",
    "# Not sure why this grouping of schools is treated as an invidual school (warrants further investigation)\n",
    "# note for group: i think this is the way to get the district stats (LEA) and state stats (SEA)\n",
    "#                 but i think we should borderline ignore district stats because districts might vary widely in their quality of \n",
    "#                 schools (i know mine did), we could later go in and accept districts with low variance on certain statistics \n",
    "#                 but we might want to do that in later projects and not this one if we don't have time\n",
    "dfTeachersHS = dfTeachersHS[~dfTeachersHS.unit_code.str.contains('LEA|SEA')]"
   ]
  },
  {
   "cell_type": "code",
   "execution_count": 122,
   "metadata": {},
   "outputs": [],
   "source": [
    "# renaming School_Name to schname and Lea_Name to leaname to match dfCollege variable names for merging later\n",
    "dfTeachersHS['schname'] = dfTeachersHS['School_Name']\n",
    "dfTeachersHS['leaname'] = dfTeachersHS['Lea_Name']"
   ]
  },
  {
   "cell_type": "code",
   "execution_count": 123,
   "metadata": {},
   "outputs": [],
   "source": [
    "dfMergedSet = pd.merge(dfTeachersHS, dfCollegeAll, on = 'unit_code')\n",
    "\n",
    "# deleting variables with no observations\n",
    "delCols = ['prin_other_pct',\n",
    "'prinyrs_0thru3_pct',\n",
    "'prinyrs_4thru10_pct',\n",
    "'prinyrs_11plus_pct',\n",
    "'prin_advance_dgr_pct',\n",
    "'_1yr_prin_trnovr_pct',\n",
    "'prin_male_pct',\n",
    "'prin_female_pct',\n",
    "'prin_black_pct',\n",
    "'prin_white_pct',\n",
    "'emer_prov_teach_pct',\n",
    "'highqual_class_pct',\n",
    "'lea_highqual_class_pct',\n",
    "'lea_highqual_class_hp_pct',\n",
    "'lea_highqual_class_lp_pct',\n",
    "'lea_highqual_class_all_pct',\n",
    "'lea_not_highqual_class_hp_pct',\n",
    "'lea_not_highqual_class_lp_pct',\n",
    "'lea_not_highqual_class_all_pct',\n",
    "'st_highqual_class_pct',\n",
    "'st_highqual_class_hp_pct',\n",
    "'st_highqual_class_lp_pct',\n",
    "'st_highqual_class_all_pct',\n",
    "'st_not_highqual_class_hp_pct',\n",
    "'st_not_highqual_class_lp_pct',\n",
    "'st_not_highqual_class_all_pct']\n",
    "dfMergedSet = dfMergedSet.drop(axis = 1, columns = delCols, errors = 'ignore')"
   ]
  },
  {
   "cell_type": "code",
   "execution_count": 124,
   "metadata": {},
   "outputs": [
    {
     "name": "stdout",
     "output_type": "stream",
     "text": [
      "<class 'pandas.core.frame.DataFrame'>\n",
      "Int64Index: 489 entries, 0 to 488\n",
      "Data columns (total 87 columns):\n",
      "year                              489 non-null int64\n",
      "unit_code                         489 non-null object\n",
      "category_cd                       489 non-null object\n",
      "total_class_teacher_num           489 non-null int64\n",
      "total_nbpts_num                   489 non-null int64\n",
      "prin_other_pct                    0 non-null float64\n",
      "prinyrs_0thru3_pct                0 non-null float64\n",
      "prinyrs_4thru10_pct               0 non-null float64\n",
      "prinyrs_11plus_pct                0 non-null float64\n",
      "prin_advance_dgr_pct              0 non-null float64\n",
      "_1yr_prin_trnovr_pct              0 non-null float64\n",
      "prin_male_pct                     0 non-null float64\n",
      "prin_female_pct                   0 non-null float64\n",
      "prin_black_pct                    0 non-null float64\n",
      "prin_white_pct                    0 non-null float64\n",
      "School_Name                       489 non-null object\n",
      "Lea_Name                          489 non-null object\n",
      "State_Name                        489 non-null object\n",
      "flicensed_teach_pct               489 non-null float64\n",
      "tchyrs_0thru3_pct                 489 non-null float64\n",
      "tchyrs_4thru10_pct                489 non-null float64\n",
      "tchyrs_11plus_pct                 489 non-null float64\n",
      "class_teach_num                   489 non-null float64\n",
      "nbpts_num                         489 non-null float64\n",
      "advance_dgr_pct                   489 non-null float64\n",
      "_1yr_tchr_trnovr_pct              489 non-null float64\n",
      "emer_prov_teach_pct               50 non-null float64\n",
      "lateral_teach_pct                 423 non-null float64\n",
      "highqual_class_pct                0 non-null float64\n",
      "lea_flicensed_teach_pct           489 non-null float64\n",
      "lea_tchyrs_0thru3_pct             489 non-null float64\n",
      "lea_tchyrs_4thru10_pct            489 non-null float64\n",
      "lea_tchyrs_11plus_pct             489 non-null float64\n",
      "lea_class_teach_num               489 non-null float64\n",
      "lea_nbpts_num                     489 non-null float64\n",
      "lea_advance_dgr_pct               489 non-null float64\n",
      "lea_1yr_tchr_trnovr_pct           489 non-null float64\n",
      "lea_emer_prov_teach_pct           225 non-null float64\n",
      "lea_lateral_teach_pct             482 non-null float64\n",
      "lea_highqual_class_pct            0 non-null float64\n",
      "lea_highqual_class_hp_pct         0 non-null float64\n",
      "lea_highqual_class_lp_pct         0 non-null float64\n",
      "lea_highqual_class_all_pct        0 non-null float64\n",
      "lea_not_highqual_class_hp_pct     0 non-null float64\n",
      "lea_not_highqual_class_lp_pct     0 non-null float64\n",
      "lea_not_highqual_class_all_pct    0 non-null float64\n",
      "st_flicensed_teach_pct            489 non-null float64\n",
      "st_tchyrs_0thru3_pct              489 non-null float64\n",
      "st_tchyrs_4thru10_pct             489 non-null float64\n",
      "st_tchyrs_11plus_pct              489 non-null float64\n",
      "st_class_teach_num                489 non-null float64\n",
      "st_nbpts_num                      489 non-null float64\n",
      "st_advance_dgr_pct                489 non-null float64\n",
      "st_1yr_tchr_trnovr_pct            489 non-null float64\n",
      "st_emer_prov_teach_pct            489 non-null float64\n",
      "st_lateral_teach_pct              489 non-null float64\n",
      "st_highqual_class_pct             0 non-null float64\n",
      "st_highqual_class_hp_pct          0 non-null float64\n",
      "st_highqual_class_lp_pct          0 non-null float64\n",
      "st_highqual_class_all_pct         0 non-null float64\n",
      "st_not_highqual_class_hp_pct      0 non-null float64\n",
      "st_not_highqual_class_lp_pct      0 non-null float64\n",
      "st_not_highqual_class_all_pct     0 non-null float64\n",
      "st_prinyrs_0thru3_pct             489 non-null float64\n",
      "st_prinyrs_4thru10_pct            489 non-null float64\n",
      "st_prinyrs_11plus_pct             489 non-null float64\n",
      "st_prin_advance_dgr_pct           489 non-null float64\n",
      "st_1yr_prin_trnovr_pct            489 non-null float64\n",
      "st_prin_male_pct                  489 non-null float64\n",
      "st_prin_female_pct                489 non-null float64\n",
      "st_prin_black_pct                 489 non-null float64\n",
      "st_prin_white_pct                 489 non-null float64\n",
      "st_prin_other_pct                 489 non-null float64\n",
      "schname_x                         489 non-null object\n",
      "leaname_x                         489 non-null object\n",
      "graduation_year                   489 non-null object\n",
      "leaname_y                         489 non-null object\n",
      "schname_y                         489 non-null object\n",
      "status                            489 non-null object\n",
      "subgroup                          489 non-null object\n",
      "subgroup_name                     489 non-null object\n",
      "schcount                          489 non-null float64\n",
      "leacount                          489 non-null float64\n",
      "seacount                          489 non-null float64\n",
      "sch_percent_enrolled              489 non-null float64\n",
      "lea_percent_enrolled              489 non-null float64\n",
      "sea_percent_enrolled              489 non-null float64\n",
      "dtypes: float64(71), int64(3), object(13)\n",
      "memory usage: 336.2+ KB\n"
     ]
    }
   ],
   "source": [
    "dfMergedSet.info()"
   ]
  },
  {
   "cell_type": "markdown",
   "metadata": {},
   "source": [
    "### Business Understanding"
   ]
  },
  {
   "cell_type": "markdown",
   "metadata": {},
   "source": [
    "Describe the purpose of the data set you selected (i.e., why was this data collected in the first place?). Describe how you would define and measure the outcomes from the dataset. That is, why is this data important and how do you know if you have mined useful knowledge from the dataset? How would you measure the effectiveness of a good prediction algorithm? Be specific."
   ]
  },
  {
   "cell_type": "markdown",
   "metadata": {},
   "source": [
    "#### Why data was collected?\n",
    " - Data was made possible by John M. Belk Endowment. The founder and the endowment believe in the value of education. \n",
    " - One of their operating principles is \"closing achievement gaps\" which is defined as follows: \"Increasing access to postsecondary education can bolster educational and economic success. We will focus our resource to eliminate barriers for students who are underrepresented on the pathways to success\"\n",
    " - Purpose is to identify features that directly impact measures of academic success. How is academic success measured by school? Could it be college standardized exam scores (ACT, SAT)? State standardized testing scores? Percentage of students in AP or IB courses and corresponding results?\n",
    " \n",
    "#### Define and Measure outcomes:\n",
    " - see last bullet above \n",
    " - or find a new variable (from existing data) that explains school performance?"
   ]
  },
  {
   "cell_type": "markdown",
   "metadata": {},
   "source": [
    "### Data Meaning Type\n",
    "Describe the meaning and type of data (scale, values, etc.) for each attribute in the data file."
   ]
  },
  {
   "cell_type": "code",
   "execution_count": 8,
   "metadata": {},
   "outputs": [
    {
     "data": {
      "text/html": [
       "<table><tr><td>Column Name</td><td>Description</td></tr><tr><td>Graduation_year</td><td>Year students graduated from high school</td></tr><tr><td>Unit_code</td><td>Code to identify School/LEAState. \"Unit codes belonging to individual schools may be mapped to a given district using the first 3 characters of the unit code. For example, schools belonging to the district \"995LEA\" will each have unit code that begins with \"995.\"\"</td></tr><tr><td>lea name</td><td>LEA (Local Education Agency) Name. LEA is a commonly used acronym for a school district.</td></tr><tr><td>schname</td><td>School Name</td></tr><tr><td>status</td><td>The postsecondary enrollment action as defined in the US Department of Education C160 EDEN (Education Data Exchange Network) specification.<table><tr><td>ENROLL</td><td>Enrolled in an IHE within 16 months of receiving a regular high school diploma.</td></tr><tr><td>NOENROLL</td><td>Did not enroll in an IHE within 16 months of receiving a regular high school diploma</td></tr></table></td></tr></table>"
      ],
      "text/plain": [
       "<IPython.core.display.HTML object>"
      ]
     },
     "metadata": {},
     "output_type": "display_data"
    }
   ],
   "source": [
    "display(HTML('<table><tr><td>Column Name</td><td>Description</td></tr><tr><td>Graduation_year</td><td>Year students graduated from high school</td></tr><tr><td>Unit_code</td><td>Code to identify School/LEAState. \"Unit codes belonging to individual schools may be mapped to a given district using the first 3 characters of the unit code. For example, schools belonging to the district \"995LEA\" will each have unit code that begins with \"995.\"\"</td></tr><tr><td>lea name</td><td>LEA (Local Education Agency) Name. LEA is a commonly used acronym for a school district.</td></tr><tr><td>schname</td><td>School Name</td></tr><tr><td>status</td><td>The postsecondary enrollment action as defined in the US Department of Education C160 EDEN (Education Data Exchange Network) specification.<table><tr><td>ENROLL</td><td>Enrolled in an IHE within 16 months of receiving a regular high school diploma.</td></tr><tr><td>NOENROLL</td><td>Did not enroll in an IHE within 16 months of receiving a regular high school diploma</td></tr></table></td></tr></table>'))"
   ]
  },
  {
   "cell_type": "markdown",
   "metadata": {},
   "source": [
    "### Data Quality\n",
    "Verify data quality: Explain any missing values, duplicate data, and outliers. Are those mistakes? How do you deal with these problems? Give justifications for your methods."
   ]
  },
  {
   "cell_type": "markdown",
   "metadata": {},
   "source": [
    "### Simple Statistics\n",
    "Visualize appropriate statistics (e.g., range, mode, mean, median, variance, counts) for a subset of attributes. Describe anything meaningful you found from this or if you found something potentially interesting. Note: You can also use data from other sources for comparison. Explain why the statistics are meaningful."
   ]
  },
  {
   "cell_type": "markdown",
   "metadata": {},
   "source": [
    "### Visualize Attributes\n",
    "Visualize the most interesting attributes (at least 5 attributes, your opinion on what is interesting). Important: Interpret the implications for each visualization. Explain for each attribute why the chosen visualization is appropriate. "
   ]
  },
  {
   "cell_type": "markdown",
   "metadata": {},
   "source": [
    "### Explore Joint Attributes\n",
    "Visualize relationships between attributes: Look at the attributes via scatter plots, correlation, cross-tabulation, group-wise averages, etc. as appropriate. Explain any interesting relationships."
   ]
  },
  {
   "cell_type": "markdown",
   "metadata": {},
   "source": [
    "### Explore Attributes and Class\n",
    "Identify and explain interesting relationships between features and the class you are trying to predict (i.e., relationships with variables and the target classification)."
   ]
  },
  {
   "cell_type": "markdown",
   "metadata": {},
   "source": [
    "### New Features\n",
    "Are there other features that could be added to the data or created from existing features. Which ones?"
   ]
  },
  {
   "cell_type": "markdown",
   "metadata": {},
   "source": [
    "### Exceptional Work\n",
    "You have free reign to provide additional analyses. One idea: implement dimensionality reduction, then visualize and interpret the results."
   ]
  },
  {
   "cell_type": "code",
   "execution_count": null,
   "metadata": {},
   "outputs": [],
   "source": []
  }
 ],
 "metadata": {
  "kernelspec": {
   "display_name": "Python 3",
   "language": "python",
   "name": "python3"
  },
  "language_info": {
   "codemirror_mode": {
    "name": "ipython",
    "version": 3
   },
   "file_extension": ".py",
   "mimetype": "text/x-python",
   "name": "python",
   "nbconvert_exporter": "python",
   "pygments_lexer": "ipython3",
   "version": "3.6.6"
  }
 },
 "nbformat": 4,
 "nbformat_minor": 2
}
