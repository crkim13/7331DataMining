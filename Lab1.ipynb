{
 "cells": [
  {
   "cell_type": "markdown",
   "metadata": {},
   "source": [
    "# Lab One: Visualization and Data Preprocessing\n",
    "### Ryan Bass, Brett Benefield, Cho Kim, Nicole Wittlin"
   ]
  },
  {
   "cell_type": "markdown",
   "metadata": {},
   "source": [
    "# <span style=\"color:blue\">Resubmission Summary</span>\n",
    "<span style=\"color:red; background-color:yellow\">SUMMARIZE CHANGES THAT WERE DONE AND HIGHLIGHT THE CHANGES IN THE NOTEBOOK BELOW. DELETE THIS AFTER IT'S COMPLETE</span>\n",
    "## Simple Statistics\n",
    "## Visualize Attributes\n",
    "## Explore Attributes and Class\n",
    "## New Features\n",
    "## Business Understanding (if there is time)\n",
    "\n",
    "<span style=\"color:red; background-color:yellow\">From our data cleaning, we are only focusing on public schools, do we need to change our business understanding or any other places where we talk about schools?</span>\n"
   ]
  },
  {
   "cell_type": "markdown",
   "metadata": {},
   "source": [
    "# Business Understanding"
   ]
  },
  {
   "cell_type": "markdown",
   "metadata": {},
   "source": [
    "The team selected data from the Belk Endowment Educational Attainment Data for North Carolina Public Schools, which contains the North Carolina Public Schools Report Card as well as the Statistical Profiles Databases. This data was compiled by Dr. Jake Drew from original sources provided by the Public Schools of North Carolina (http://ncpublicschools.org), and the compilation, research, and analysis of the educational attainment data was funded by the John M. Belk Endowment (JMBE).\n",
    "\n",
    "JMBE’s mission is focused on postsecondary education in North Carolina to help underrepresented students access and complete postsecondary education and be better prepared for entering the workforce. The educational attainment data set contains comprehensive statistics, demographics, and achievement metrics about North Carolina public, charter, and alternative elementary, middle, and high schools. This wealth of data is the foundation for research to help JMBE understand trends and improve postsecondary pathways in the state.\n",
    "\n",
    "Our team has selected a subset from the larger educational attainment data to explore the relationship between enrollment in postsecondary education within 16 months of high school graduation and teacher metrics related to teacher education, licensing, and certification, in addition to years of experience. This is important to help identify both positive and negative factors influencing students’ enrollment decisions and understand how educators can impact the pipeline to higher education.\n",
    "\n",
    "Our efforts will include a model that will attempt to identify key attributes that will increase or decrease the percentage of students enrolled in a postsecondary education. The effectiveness of the model will be measured by how accurately our model performs against a test set of data. Our goal is to build a model that can predit the percentage of students who enrolled in postsecondary education within 25% of the real value."
   ]
  },
  {
   "cell_type": "markdown",
   "metadata": {},
   "source": [
    "# Data Meaning Type"
   ]
  },
  {
   "cell_type": "markdown",
   "metadata": {},
   "source": [
    "We used the <a href=\"https://github.com/jakemdrew/EducationDataNC/blob/master/2017/Raw%20Datasets/college-enrollment.csv\">College Enrollment data set</a> and the <a href=\"https://github.com/jakemdrew/EducationDataNC/blob/master/2017/Raw%20Datasets/personnel.csv\">Personnel data set</a> available in the <a href=\"https://github.com/jakemdrew/EducationDataNC\">EducationDataNC</a> repository published by Dr. Drew. \n",
    "\n",
    "#### College Enrollment data set\n",
    "The college enrollment data set we examined has 12,827 rows of data, with 13 attributes. The data set contains counts and percentages of postsecondary enrollment action as defined by the US Department of Education C160 EDEN (Education Data Exchange Network) for students who graduated in 2015. The data has subgroups of counts and percentages by school, district, and the state. A status of ENROLL means the count or percentage enrolled in an institution of higher education (IHE) within 16 months of receiving a regular high school diploma, and NOENROLL means the count or percentage of students who did not enroll in an IHE within 16 months of receiving a high school diploma. \n",
    "\n",
    "The description of the attributes below can be found in the <a href=\"http://www.ncpublicschools.org/docs/src/researchers/data-dictionary.pdf\">data dictionary</a> published by the NC Public Schools. "
   ]
  },
  {
   "cell_type": "markdown",
   "metadata": {},
   "source": [
    "| Attribute | Description | Type | % missing (in %) |\n",
    "|----------------------|----------------------------------------------------------------------------------------------------------------------------------------------------------------------------------------------------------------------------------------------------------------------------------------------------------------------------------------------------------------------------------------------------------|------------|------------------|\n",
    "| Graduation_year | Year students graduated from high school | Nominal | 0 |\n",
    "| Unit_code | Code to identify school/LEA/State<br> Unit codes belonging to individual schools may be mapped to a given district using the first 3 characters of the unit code. For example, schools belonging to the district \"995LEA\" will each have unit code that begins with 995. | Nominal | 0 |\n",
    "| leaname | LEA (Local Education Agency) Name <br> LEA is a commonly used acronym for a school district | Nominal | .2 |\n",
    "| schname | School Name | Nominal | 19.4 |\n",
    "| status | The postsecondary enrollment action as defined in the US Department of Education C160 EDEN (Education Data Exchange Network) specification <br>  <table><tr><td>Enroll</td><td>Enrolled in an IHE within 16 months of receiving a regular high school diploma</td></tr> <tr><td>NOENROLL</td><td>Did not enroll in an IHE within 16 months of receiving a regular high school diploma</td></tr> </table> | Nominal | 0 |\n",
    "| subgroup | A subset of the total population that shares a common characteristic, like sex or race <br> INSERT HTML TABLE HERE | Nominal | 0 |\n",
    "| Subgroup_name | Full description of the subgroup | Nominal | 0 |\n",
    "| schcount | Count of students by subgroup and status (ENROLL, NOENROLL) within a school with masking applied | Continuous | 42.5 |\n",
    "| leacount | Count of students by subgroup and status (ENROLL, NOENROLL) within a LEA/Charter with masking applied | Continuous | 12.9 |\n",
    "| seacount | Count of students by subgroup and status (ENROLL, NOENROLL) within the State (SEA - State Educational Agency) | Continuous | 0 |\n",
    "| sch_percent_enrolled | The percentage of enrolled students among total students (ENROLL Count/ TOTAL Count) within a school with masking applied | Ordinal | 75.1 |\n",
    "| lea_percent_enrolled | The percentage of enrolled students among total students (ENROLL Count/ TOTAL Count) within a LEA/Charter with masking applied | Ordinal | 71.5 |\n",
    "| sea_percent_enrolled | The percentage of enrolled students among total students (ENROLL Count/ TOTAL Count) within the State (SEA)\\ | Ordinal | 70.8 |"
   ]
  },
  {
   "cell_type": "markdown",
   "metadata": {},
   "source": [
    "#### College Enrollment Table Summary\n",
    "\n",
    "The schcount is the count of students within a school that enrolled or did not enroll in an institute of higher education within 16 months of receiving their high school diploma. The values range from 5 to 423 in the data set. \n",
    "\n",
    "The leacount is the count of students within a LEA or Charter by subgroup and status. The values range from 5 to 5844 in the data set.\n",
    "\n",
    "The seacount is the count of students within the state by subgroup and status. The values range from 49 to 51,362.\n",
    "\n",
    "The \"...percent_enrolled\" attributes are on a scale from 0 to 100 and represent the percentage of enrolled students among total students within the school, LEA/Charter, or the state. "
   ]
  },
  {
   "cell_type": "markdown",
   "metadata": {},
   "source": [
    "#### Personnel data set\n",
    "The Personnel data set we examined has 3,096 rows of data, with 68 attributes. The data set contains observations from 2017. The data dictionary available for the data set is from 2014 and only contains descriptions for 55 of the attributes. The description for the 55 attributes can be found in the <a href=\"http://www.ncpublicschools.org/docs/src/researchers/data-dictionary.pdf\">data dictionary</a> published by the NC Public Schools. \n",
    "\n",
    "As part of the data preparation process, we removed data from the personnel set related to grade schools and middle schools (i.e. category codes E, M, and I) because we are focused on the segment of the pipeline that leads from high school to enrollment in postsecondary education. We also removed 26 attributes that contained 84.7% or more missing values. Out of the 26 attributes, 15 attributes contained no values. All 15 attributes were data about highly qualified teachers. "
   ]
  },
  {
   "cell_type": "markdown",
   "metadata": {},
   "source": [
    "| Column Name | Description | Type | % missing (in %) |\n",
    "|-------------------------|--------------------------------------------------------------------------------------------------------------------------------------------------------------------------------------------------------------------------------------------------------------------------------------------------------------------------------------------------------------------------------------------------------------------------------------------------------------------------------|------------|-----------|\n",
    "| Year | School Year | Nominal | 0 |\n",
    "| Unit_code | Code to identify School/LEA/State | Nominal | 0 |\n",
    "| School_Name | School Name | Nominal | 15.4 |\n",
    "| Lea_Name | LEA Name | Nominal | .2 |\n",
    "| State_Name | State Name | Nominal | 0 |\n",
    "| Category_cd | Category code<br> <table><tr><td>E</td><td>School has elementary schools grades (PK-5)</td></tr> <tr><td>M</td><td>School has middle school grades (6-8)</td></tr> <tr><td>H</td><td>School has high school grades (9-13)</td></tr> <tr><td>I</td><td>School has elementary and middle school grades</td></tr> <tr><td>T</td><td>School has middle and high school grades</td></tr> <tr><td>A</td><td>School has elementary, middle, and high school grades</td></tr> </table> | Nominal | .1 |\n",
    "| St_Prin_advance_dgr_pct | Percent of principals with advanced degrees at state level | Ordinal | .1 |\n",
    "| St_1yr_prin_trnovr_pct | One year principal turnover rate at state level | Ordinal | .1 |\n",
    "| St_Prin_male_pct | Percent of male principals at state level | Ordinal | .1 |\n",
    "| St_prin_female_pct | Percent of female principals at state level | Ordinal | .1 |\n",
    "| St_Prin_black_pct | Percent of black principals at state level | Ordinal | .1 |\n",
    "| St_Prin_white_pct | Percent of white principals at state level | Ordinal | .1 |\n",
    "| Prin_other_pct | Percent of principals of other races including Indian, Asian, Hispanic and Pacific-islander at LEA level | Ordinal | 84.7 |\n",
    "| St_Prin_other_pct | Percent of principals of other races including Indian, Asian, Hispanic and Pacific-islander at state level | Ordinal | .1 |\n",
    "| Flicensed_teach_pct | Percent of teachers that meet NC fully licensed definition at school level | Ordinal | 15.5 |\n",
    "| Lea_flicensed_teach_pct | Average Percent of Teachers that meet NC fully licensed definition at LEA level | Ordinal | 6.7 |\n",
    "| St_flicensed_teach_pct | Average Percent of Teachers that meet NC fully licensed definition at state level | Ordinal | .1 |\n",
    "| Class_teach_num | Average number of classroom teachers at School Level | Continuous | 15.5 |\n",
    "| Lea_class_teach_num | Average number of classroom teachers at LEA Level | Continuous | 6.7 |\n",
    "| St_class_teach_num | Average number of classroom teachers at State Level | Continuous | .1 |\n",
    "| nbpts_num | Number of National Board Certified staff at LEA level | Continuous | 20.9 |\n",
    "| Lea_nbpts_num | Average number of National Board Certified staff at LEA level | Continuous | 6.7 |\n",
    "| St_nbpts_num | Average number of National Board Certified staff at state level | Continuous | .1 |\n",
    "| advance_dgr_pct | Percent of teachers with masters or higher degree at school level | Ordinal | 20.9 |\n",
    "| Lea_advance_dgr_pct | Average percent of teachers with masters or higher degree at LEA level | Ordinal | 209 |\n",
    "| St_advance_dgr_pct | Average percent of teachers with masters or higher degree at state level | Ordinal | .1 |\n",
    "| _1yr_tchr_trnovr_pct | One Year Teacher turnover percentage at school level | Ordinal | 21.6 |\n",
    "| Lea_1yr_tchr_trnovr_pct | One Year Teacher turnover percentage at LEA level | Ordinal | 209 |\n",
    "| St_1yr_tchr_trnovr_pct | One Year Teacher turnover percentage at state level | Ordinal | .1 |\n",
    "| Lateral_teach_pct | lateral entry teacher percentage at school level | Ordinal | 45.8 |\n",
    "| Lea_lateral_teach_pct | Average lateral entry teacher percentage at LEA level | Ordinal | 6.7 |\n",
    "| St_lateral_teach_pct | Average lateral entry teacher percentage at state level | Ordinal | .1 |\n",
    "| Total_class_teacher_num | Number of classroom teachers | Continuous | 0 |\n",
    "| Total_nbpts_num | Number of National Board Certified teachers | Continuous | 0 |"
   ]
  },
  {
   "cell_type": "markdown",
   "metadata": {},
   "source": [
    "# Data Quality"
   ]
  },
  {
   "cell_type": "markdown",
   "metadata": {},
   "source": [
    "In the college enrollment data set, we first removed all the records that summarized data at the district and state level. School level data includes enrollment percentages for both district and state level statistics.\n",
    "\n",
    "Next, we examined the data set based on two key attributes: ENROLLED and ALL, which, when combined, created a subset all of the students that enrolled in postsecondary education. We limited this initial analysis to only this highest categorization of all students (rather than drilling down into gender, ethnicity, socio-economic status, etc.).\n",
    "\n",
    "In the end, we found 27 schools that do not have district information and determined that this is because the schools are “charter and non-district affiliated schools.” This was the extent of our “NaN” data, which wasn’t actually missing. This will be important as we continue our analysis."
   ]
  },
  {
   "cell_type": "code",
   "execution_count": 1,
   "metadata": {},
   "outputs": [],
   "source": [
    "%matplotlib inline\n",
    "import seaborn as sns\n",
    "cmap = sns.diverging_palette(220, 10, as_cmap=True) # one of the many color mappings\n",
    "\n",
    "import pandas as pd\n",
    "import numpy as np\n",
    "import matplotlib.pyplot as plt\n",
    "from pandas.plotting import scatter_matrix\n",
    "from IPython.display import HTML, display"
   ]
  },
  {
   "cell_type": "code",
   "execution_count": 2,
   "metadata": {},
   "outputs": [
    {
     "name": "stdout",
     "output_type": "stream",
     "text": [
      "/Users/chostone/Documents/Data Mining/7331DataMining/EducationDataNC/2017/Raw Datasets\n",
      "********* Initial Values Before Cleaning *******************\n",
      "<class 'pandas.core.frame.DataFrame'>\n",
      "RangeIndex: 12827 entries, 0 to 12826\n",
      "Data columns (total 13 columns):\n",
      "graduation_year         12827 non-null int64\n",
      "unit_code               12827 non-null object\n",
      "leaname                 12801 non-null object\n",
      "schname                 10344 non-null object\n",
      "status                  12827 non-null object\n",
      "subgroup                12827 non-null object\n",
      "subgroup_name           12827 non-null object\n",
      "schcount                7371 non-null float64\n",
      "leacount                11174 non-null float64\n",
      "seacount                12827 non-null float64\n",
      "sch_percent_enrolled    3198 non-null float64\n",
      "lea_percent_enrolled    3653 non-null float64\n",
      "sea_percent_enrolled    3747 non-null float64\n",
      "dtypes: float64(6), int64(1), object(6)\n",
      "memory usage: 1.3+ MB\n"
     ]
    }
   ],
   "source": [
    "# Brett's directory\n",
    "# Laptop\n",
    "#%cd \"C:\\Sandbox\\SMU\\dataMining\\ChoRepo\\EducationDataNC\\2017\\Raw Datasets\"\n",
    "# Desktop\n",
    "#%cd \"C:\\sandbox\\SMU\\dataMining\\choNotebook\\EducationDataNC\\2017\\Raw Datasets\"\n",
    "\n",
    "# Ryan's directory\n",
    "#%cd \"C:\\Users\\Clovis\\Documents\\7331DataMining\\EducationDataNC\\2017\\Raw Datasets\"\n",
    "\n",
    "# Cho's directory. Either uncomment the cd statement above or make your own cd.\n",
    "%cd \"/Users/chostone/Documents/Data Mining/7331DataMining/EducationDataNC/2017/Raw Datasets\"\n",
    "\n",
    "dfCollege = pd.read_csv(\"college-enrollment.csv\")\n",
    "dfTeachers = pd.read_csv(\"personnel.csv\")\n",
    "\n",
    "## COMMENT: I commented out the raw csv files above. Should we delete or keep them?\n",
    "\n",
    "#dfPublicHS = pd.read_csv(\"PublicHighSchools2017_ML.csv\")\n",
    "#Review dataset contents after drops\n",
    "print('********* Initial Values Before Cleaning *******************')\n",
    "dfCollege.info(verbose=True)"
   ]
  },
  {
   "cell_type": "markdown",
   "metadata": {},
   "source": [
    "#### New Stuff\n",
    "Code adapted from Dr. Jake Drew's python notebook\n",
    "- link me"
   ]
  },
  {
   "cell_type": "code",
   "execution_count": 3,
   "metadata": {},
   "outputs": [],
   "source": [
    "# Global declaration to turn off scientific notation\n",
    "pd.options.display.float_format = '{:.2f}'.format"
   ]
  },
  {
   "cell_type": "code",
   "execution_count": 4,
   "metadata": {},
   "outputs": [
    {
     "name": "stdout",
     "output_type": "stream",
     "text": [
      "*********After: Removing columns with the same value in every row.*******************\n",
      "<class 'pandas.core.frame.DataFrame'>\n",
      "Int64Index: 9863 entries, 0 to 12783\n",
      "Columns: 13 entries, graduation_year to sea_percent_enrolled\n",
      "dtypes: float64(6), int64(1), object(6)\n",
      "memory usage: 1.1+ MB\n",
      "Rows deleted: 2964\n"
     ]
    }
   ],
   "source": [
    "# Remove charter schools because a lot of information is missing & focus only on public schools\n",
    "# Remove district and state rows as this is duplicate information\n",
    "pattern = r'\\D'\n",
    "filterResult = dfCollege['unit_code'].str.contains(pattern)\n",
    "dfCollege = dfCollege[~filterResult]\n",
    "\n",
    "#Review dataset contents after drops\n",
    "print('*********After: Removing columns with the same value in every row.*******************')\n",
    "dfCollege.info(verbose=False)\n",
    "print(\"Rows deleted: {}\".format(filterResult.sum()))"
   ]
  },
  {
   "cell_type": "code",
   "execution_count": 5,
   "metadata": {},
   "outputs": [
    {
     "name": "stdout",
     "output_type": "stream",
     "text": [
      "*********After: Removing rows with charter/district/state codes.*******************\n",
      "<class 'pandas.core.frame.DataFrame'>\n",
      "Int64Index: 2450 entries, 2 to 3084\n",
      "Columns: 73 entries, year to st_prin_other_pct\n",
      "dtypes: float64(65), int64(3), object(5)\n",
      "memory usage: 1.4+ MB\n",
      "Rows deleted: 646\n"
     ]
    }
   ],
   "source": [
    "# Remove charter schools because a lot of information is missing & focus only on public schools\n",
    "# Remove district and state rows as this is duplicate information\n",
    "pattern = r'\\D'\n",
    "filterResult = dfTeachers['unit_code'].str.contains(pattern)\n",
    "dfTeachers = dfTeachers[~filterResult]\n",
    "\n",
    "#Review dataset contents after drops\n",
    "print('*********After: Removing rows with charter/district/state codes.*******************')\n",
    "dfTeachers.info(verbose=False)\n",
    "print(\"Rows deleted: {}\".format(filterResult.sum()))"
   ]
  },
  {
   "cell_type": "code",
   "execution_count": 6,
   "metadata": {},
   "outputs": [],
   "source": [
    "# Remove any teachers that don't teach high school\n",
    "dfTeachersHS = dfTeachers[(dfTeachers['category_cd'] != 'E') & (dfTeachers['category_cd'] != 'M') & (dfTeachers['category_cd'] != 'I')]"
   ]
  },
  {
   "cell_type": "code",
   "execution_count": 7,
   "metadata": {},
   "outputs": [
    {
     "name": "stdout",
     "output_type": "stream",
     "text": [
      "*********After: Removing columns with null / blank values in every row.*************\n",
      "<class 'pandas.core.frame.DataFrame'>\n",
      "Int64Index: 600 entries, 2 to 3083\n",
      "Columns: 48 entries, year to st_prin_other_pct\n",
      "dtypes: float64(40), int64(3), object(5)\n",
      "memory usage: 229.7+ KB\n",
      "Columns deleted: 25\n"
     ]
    }
   ],
   "source": [
    "#Remove any empty fields (null values in every row)\n",
    "schoolDataRecordCt = dfTeachersHS.shape[0]\n",
    "NullValueCounts = dfTeachersHS.isnull().sum()\n",
    "NullValueCols = NullValueCounts[NullValueCounts == schoolDataRecordCt].index\n",
    "dfTeachersHS = dfTeachersHS.drop(NullValueCols, axis=1)\n",
    "\n",
    "#Review dataset contents after empty field drops\n",
    "print('*********After: Removing columns with null / blank values in every row.*************')\n",
    "dfTeachersHS.info(verbose=False)\n",
    "print(\"Columns deleted: {}\".format(len(NullValueCols)))"
   ]
  },
  {
   "cell_type": "code",
   "execution_count": 8,
   "metadata": {},
   "outputs": [],
   "source": [
    "# Columns below are removed because they contain no information as described in Data Meaning section \n",
    "# or is aggregated at the district and state level and we are only concerned with the school level.\n",
    "delCols = dfTeachersHS.filter(like = 'prin').columns\n",
    "dfTeachersHS = dfTeachersHS.drop(columns = delCols, axis = 1)\n",
    "#intCols = dfTeachersHS.select_dtypes(include=['int64']).columns\n",
    "#dfTeachersHS[intCols] = dfTeachersHS[intCols].astype(float)"
   ]
  },
  {
   "cell_type": "code",
   "execution_count": 9,
   "metadata": {},
   "outputs": [
    {
     "name": "stdout",
     "output_type": "stream",
     "text": [
      "*********After: Removing columns with >= missingThreshold % of missing values******\n",
      "<class 'pandas.core.frame.DataFrame'>\n",
      "Int64Index: 600 entries, 2 to 3083\n",
      "Columns: 36 entries, year to st_lateral_teach_pct\n",
      "dtypes: float64(28), int64(3), object(5)\n",
      "memory usage: 173.4+ KB\n",
      "Columns Deleted: 2\n"
     ]
    }
   ],
   "source": [
    "#Eliminate continuous columns with more than missingThreshold percentage of missing values\n",
    "missingThreshold = .50\n",
    "schoolDataRecordCt = dfTeachersHS.shape[0]\n",
    "missingValueLimit = schoolDataRecordCt * missingThreshold\n",
    "NullValueCounts = dfTeachersHS.isnull().sum()\n",
    "NullValueCols = NullValueCounts[NullValueCounts >= missingValueLimit].index\n",
    "dfTeachersHS = dfTeachersHS.drop(NullValueCols, axis=1)\n",
    "\n",
    "#Review dataset contents after empty field drops\n",
    "print('*********After: Removing columns with >= missingThreshold % of missing values******')\n",
    "dfTeachersHS.info(verbose=False)\n",
    "print(\"Columns Deleted: {}\".format(len(NullValueCols)))"
   ]
  },
  {
   "cell_type": "code",
   "execution_count": 10,
   "metadata": {},
   "outputs": [
    {
     "name": "stdout",
     "output_type": "stream",
     "text": [
      "*********After: Removing rows without ALL status.*******************\n",
      "<class 'pandas.core.frame.DataFrame'>\n",
      "Int64Index: 9863 entries, 0 to 12783\n",
      "Columns: 13 entries, graduation_year to sea_percent_enrolled\n",
      "dtypes: float64(6), int64(1), object(6)\n",
      "memory usage: 1.1+ MB\n",
      "Rows deleted: 8811\n"
     ]
    }
   ],
   "source": [
    "# Remove the demographic columns since we are only concerned with schools as a whole\n",
    "pattern = r'ALL'\n",
    "allStudents = dfCollege['subgroup'].str.contains(pattern)\n",
    "dfCollegeDemographic = dfCollege[~allStudents]\n",
    "dfCollegeAll = dfCollege[allStudents]\n",
    "\n",
    "#Review dataset contents after drops\n",
    "print('*********After: Removing rows without ALL status.*******************')\n",
    "dfCollege.info(verbose=False)\n",
    "print(\"Rows deleted: {}\".format(len(dfCollegeDemographic)))"
   ]
  },
  {
   "cell_type": "code",
   "execution_count": 11,
   "metadata": {},
   "outputs": [
    {
     "name": "stdout",
     "output_type": "stream",
     "text": [
      "*********After: Removing rows with NOENROLL status.*******************\n",
      "<class 'pandas.core.frame.DataFrame'>\n",
      "Int64Index: 516 entries, 0 to 12767\n",
      "Columns: 13 entries, graduation_year to sea_percent_enrolled\n",
      "dtypes: float64(6), int64(1), object(6)\n",
      "memory usage: 56.4+ KB\n",
      "Rows deleted: 536\n"
     ]
    }
   ],
   "source": [
    "# Remove the NOENROLL column since this is 1 - ENROLL column data\n",
    "pattern = r'NOENROLL'\n",
    "noEnrollRowCount = dfCollegeAll['status'].str.contains(pattern)\n",
    "dfCollegeAll = dfCollegeAll[~noEnrollRowCount]\n",
    "\n",
    "#Review dataset contents after drops\n",
    "print('*********After: Removing rows with NOENROLL status.*******************')\n",
    "dfCollegeAll.info(verbose=False)\n",
    "print(\"Rows deleted: {}\".format(noEnrollRowCount.sum()))"
   ]
  },
  {
   "cell_type": "code",
   "execution_count": 12,
   "metadata": {},
   "outputs": [
    {
     "name": "stdout",
     "output_type": "stream",
     "text": [
      "*********After: Removing columns with the same value in every row.*******************\n",
      "<class 'pandas.core.frame.DataFrame'>\n",
      "Int64Index: 516 entries, 0 to 12767\n",
      "Columns: 13 entries, graduation_year to sea_percent_enrolled\n",
      "dtypes: float64(6), int64(1), object(6)\n",
      "memory usage: 56.4+ KB\n",
      "Columns deleted: 1\n"
     ]
    }
   ],
   "source": [
    "#Remove any fields that have the same value in all rows\n",
    "UniqueValueCounts = dfCollegeDemographic.nunique(dropna=False)\n",
    "SingleValueCols = UniqueValueCounts[UniqueValueCounts == 1].index\n",
    "dfCollegeDemographic = dfCollegeDemographic.drop(SingleValueCols, axis=1)\n",
    "\n",
    "#Review dataset contents after drops\n",
    "print('*********After: Removing columns with the same value in every row.*******************')\n",
    "dfCollegeAll.info(verbose=False)\n",
    "print(\"Columns deleted: {}\".format(len(SingleValueCols)))"
   ]
  },
  {
   "cell_type": "code",
   "execution_count": 13,
   "metadata": {},
   "outputs": [
    {
     "name": "stdout",
     "output_type": "stream",
     "text": [
      "*********After: Removing columns with unique values in every row.*******************\n",
      "<class 'pandas.core.frame.DataFrame'>\n",
      "Int64Index: 516 entries, 0 to 12767\n",
      "Columns: 13 entries, graduation_year to sea_percent_enrolled\n",
      "dtypes: float64(6), int64(1), object(6)\n",
      "memory usage: 56.4+ KB\n",
      "Columns deleted: 0\n"
     ]
    }
   ],
   "source": [
    "#Remove any fields that have unique values in every row\n",
    "schoolDataRecordCt = dfCollegeDemographic.shape[0]\n",
    "UniqueValueCounts = dfCollegeDemographic.apply(pd.Series.nunique)\n",
    "AllUniqueValueCols = UniqueValueCounts[UniqueValueCounts == schoolDataRecordCt].index\n",
    "dfCollegeDemographic = dfCollegeDemographic.drop(AllUniqueValueCols, axis=1)\n",
    "\n",
    "#Review dataset contents after drops\n",
    "print('*********After: Removing columns with unique values in every row.*******************')\n",
    "dfCollegeAll.info(verbose=False)\n",
    "print(\"Columns deleted: {}\".format(len(AllUniqueValueCols)))"
   ]
  },
  {
   "cell_type": "code",
   "execution_count": 14,
   "metadata": {},
   "outputs": [
    {
     "name": "stdout",
     "output_type": "stream",
     "text": [
      "*********After: Removing columns with null / blank values in every row.*************\n",
      "<class 'pandas.core.frame.DataFrame'>\n",
      "Int64Index: 516 entries, 0 to 12767\n",
      "Columns: 13 entries, graduation_year to sea_percent_enrolled\n",
      "dtypes: float64(6), int64(1), object(6)\n",
      "memory usage: 56.4+ KB\n",
      "Columns deleted: 0\n"
     ]
    }
   ],
   "source": [
    "#Remove any empty fields (null values in every row)\n",
    "schoolDataRecordCt = dfCollegeAll.shape[0]\n",
    "NullValueCounts = dfCollegeAll.isnull().sum()\n",
    "NullValueCols = NullValueCounts[NullValueCounts == schoolDataRecordCt].index\n",
    "dfCollegeAll = dfCollegeAll.drop(NullValueCols, axis=1)\n",
    "\n",
    "#Review dataset contents after empty field drops\n",
    "print('*********After: Removing columns with null / blank values in every row.*************')\n",
    "dfCollegeAll.info(verbose=False)\n",
    "print(\"Columns deleted: {}\".format(len(NullValueCols)))"
   ]
  },
  {
   "cell_type": "code",
   "execution_count": 15,
   "metadata": {},
   "outputs": [
    {
     "name": "stdout",
     "output_type": "stream",
     "text": [
      "Boolean Columns: 0\n",
      "Nominal Columns: 6\n",
      "Continuous Columns: 7\n",
      "Columns Accounted for: 13\n"
     ]
    }
   ],
   "source": [
    "#Isolate continuous and categorical data types\n",
    "#These are indexers into the dfCollege dataframe and may be used similar to the dfCollege dataframe \n",
    "sD_boolean = dfCollegeAll.loc[:, (dfCollegeAll.dtypes == bool) ]\n",
    "sD_nominal = dfCollegeAll.loc[:, (dfCollegeAll.dtypes == object)]\n",
    "sD_continuous = dfCollegeAll.loc[:, (dfCollegeAll.dtypes != bool) & (dfCollegeAll.dtypes != object)]\n",
    "print(\"Boolean Columns: {}\".format(sD_boolean.shape[1]))\n",
    "print(\"Nominal Columns: {}\".format(sD_nominal.shape[1]))\n",
    "print(\"Continuous Columns: {}\".format(sD_continuous.shape[1]))\n",
    "print(\"Columns Accounted for: {}\".format(sD_nominal.shape[1] + sD_continuous.shape[1] + sD_boolean.shape[1]))"
   ]
  },
  {
   "cell_type": "code",
   "execution_count": 16,
   "metadata": {},
   "outputs": [],
   "source": [
    "# One hot encoding for demographic information\n",
    "dfCollegeDemographic = pd.get_dummies(dfCollegeDemographic, prefix = 'sub', columns = ['subgroup', 'subgroup_name'])"
   ]
  },
  {
   "cell_type": "code",
   "execution_count": 17,
   "metadata": {},
   "outputs": [
    {
     "name": "stdout",
     "output_type": "stream",
     "text": [
      "*********After: Replacing Missing District Percentages******\n",
      "<class 'pandas.core.frame.DataFrame'>\n",
      "Int64Index: 8811 entries, 2 to 12783\n",
      "Columns: 34 entries, unit_code to sub_White\n",
      "dtypes: float64(6), object(4), uint8(24)\n",
      "memory usage: 963.7+ KB\n",
      "Missing Data: 0\n"
     ]
    }
   ],
   "source": [
    "# Replace any missing district information with the mean district value\n",
    "dfCollegeDemographic['lea_percent_enrolled'] = dfCollegeDemographic.groupby('leaname')['lea_percent_enrolled'].transform(lambda x: x.fillna(x.mean()))\n",
    "\n",
    "#Review dataset contents after empty field drops\n",
    "print('*********After: Replacing Missing District Percentages******')\n",
    "dfCollegeDemographic.info(verbose=False)\n",
    "print(\"Missing Data: {}\".format(dfCollegeAll.lea_percent_enrolled.isna().sum()))"
   ]
  },
  {
   "cell_type": "code",
   "execution_count": 18,
   "metadata": {},
   "outputs": [
    {
     "name": "stdout",
     "output_type": "stream",
     "text": [
      "*********After: Replacing Missing District Percentages******\n",
      "<class 'pandas.core.frame.DataFrame'>\n",
      "Int64Index: 516 entries, 0 to 12767\n",
      "Columns: 13 entries, graduation_year to sea_percent_enrolled\n",
      "dtypes: float64(6), int64(1), object(6)\n",
      "memory usage: 56.4+ KB\n",
      "Missing Data: 0\n"
     ]
    }
   ],
   "source": [
    "# Replace any missing district information with the mean district value\n",
    "dfCollegeAll['lea_percent_enrolled'] = dfCollegeAll.groupby('leaname')['lea_percent_enrolled'].transform(lambda x: x.fillna(x.mean()))\n",
    "\n",
    "#Review dataset contents after empty field drops\n",
    "print('*********After: Replacing Missing District Percentages******')\n",
    "dfCollegeAll.info(verbose=False)\n",
    "print(\"Missing Data: {}\".format(dfCollegeAll.lea_percent_enrolled.isna().sum()))"
   ]
  },
  {
   "cell_type": "code",
   "execution_count": 19,
   "metadata": {},
   "outputs": [
    {
     "name": "stdout",
     "output_type": "stream",
     "text": [
      "*********After: Removing columns with >= missingThreshold % of missing values******\n",
      "<class 'pandas.core.frame.DataFrame'>\n",
      "Int64Index: 516 entries, 0 to 12767\n",
      "Columns: 13 entries, graduation_year to sea_percent_enrolled\n",
      "dtypes: float64(6), int64(1), object(6)\n",
      "memory usage: 56.4+ KB\n",
      "Columns Deleted: 0\n"
     ]
    }
   ],
   "source": [
    "#Eliminate continuous columns with more than missingThreshold percentage of missing values\n",
    "missingThreshold = .60\n",
    "schoolDataRecordCt = sD_continuous.shape[0]\n",
    "missingValueLimit = schoolDataRecordCt * missingThreshold\n",
    "NullValueCounts = sD_continuous.isnull().sum()\n",
    "NullValueCols = NullValueCounts[NullValueCounts >= missingValueLimit].index\n",
    "dfCollegeAll = dfCollegeAll.drop(NullValueCols, axis=1)\n",
    "\n",
    "#Review dataset contents after empty field drops\n",
    "print('*********After: Removing columns with >= missingThreshold % of missing values******')\n",
    "dfCollegeAll.info(verbose=False)\n",
    "print(\"Columns Deleted: {}\".format(len(NullValueCols)))"
   ]
  },
  {
   "cell_type": "markdown",
   "metadata": {},
   "source": [
    "#### End New Stuff"
   ]
  },
  {
   "cell_type": "markdown",
   "metadata": {},
   "source": [
    "## <span style=\"color:red; background-color:yellow\">Do we need to create a list of columns for a specific data type for our new data?</span>"
   ]
  },
  {
   "cell_type": "markdown",
   "metadata": {},
   "source": [
    "Columns below are removed because they contain no information as described in Data Meaning section or is aggregated at the district and state level and we are only concerned with the school level."
   ]
  },
  {
   "cell_type": "markdown",
   "metadata": {},
   "source": [
    "### <span style=\"color: red; background-color: yellow; font-size: 26px\"> Simple Statistics</span>\n",
    "Visualize appropriate statistics (e.g., range, mode, mean, median, variance, counts) for a subset of attributes. Describe anything meaningful you found from this or if you found something potentially interesting. Note: You can also use data from other sources for comparison. Explain why the statistics are meaningful."
   ]
  },
  {
   "cell_type": "code",
   "execution_count": 20,
   "metadata": {
    "scrolled": false
   },
   "outputs": [
    {
     "data": {
      "text/html": [
       "<div>\n",
       "<style scoped>\n",
       "    .dataframe tbody tr th:only-of-type {\n",
       "        vertical-align: middle;\n",
       "    }\n",
       "\n",
       "    .dataframe tbody tr th {\n",
       "        vertical-align: top;\n",
       "    }\n",
       "\n",
       "    .dataframe thead th {\n",
       "        text-align: right;\n",
       "    }\n",
       "</style>\n",
       "<table border=\"1\" class=\"dataframe\">\n",
       "  <thead>\n",
       "    <tr style=\"text-align: right;\">\n",
       "      <th></th>\n",
       "      <th>graduation_year</th>\n",
       "      <th>schcount</th>\n",
       "      <th>leacount</th>\n",
       "      <th>seacount</th>\n",
       "      <th>sch_percent_enrolled</th>\n",
       "      <th>lea_percent_enrolled</th>\n",
       "      <th>sea_percent_enrolled</th>\n",
       "    </tr>\n",
       "  </thead>\n",
       "  <tbody>\n",
       "    <tr>\n",
       "      <th>count</th>\n",
       "      <td>516.00</td>\n",
       "      <td>489.00</td>\n",
       "      <td>516.00</td>\n",
       "      <td>516.00</td>\n",
       "      <td>516.00</td>\n",
       "      <td>516.00</td>\n",
       "      <td>516.00</td>\n",
       "    </tr>\n",
       "    <tr>\n",
       "      <th>mean</th>\n",
       "      <td>2015.00</td>\n",
       "      <td>102.32</td>\n",
       "      <td>1131.87</td>\n",
       "      <td>51362.00</td>\n",
       "      <td>49.69</td>\n",
       "      <td>51.04</td>\n",
       "      <td>51.99</td>\n",
       "    </tr>\n",
       "    <tr>\n",
       "      <th>std</th>\n",
       "      <td>0.00</td>\n",
       "      <td>80.98</td>\n",
       "      <td>1480.69</td>\n",
       "      <td>0.00</td>\n",
       "      <td>14.27</td>\n",
       "      <td>6.88</td>\n",
       "      <td>0.00</td>\n",
       "    </tr>\n",
       "    <tr>\n",
       "      <th>min</th>\n",
       "      <td>2015.00</td>\n",
       "      <td>5.00</td>\n",
       "      <td>18.00</td>\n",
       "      <td>51362.00</td>\n",
       "      <td>5.41</td>\n",
       "      <td>31.43</td>\n",
       "      <td>51.99</td>\n",
       "    </tr>\n",
       "    <tr>\n",
       "      <th>25%</th>\n",
       "      <td>2015.00</td>\n",
       "      <td>38.00</td>\n",
       "      <td>252.00</td>\n",
       "      <td>51362.00</td>\n",
       "      <td>42.48</td>\n",
       "      <td>48.44</td>\n",
       "      <td>51.99</td>\n",
       "    </tr>\n",
       "    <tr>\n",
       "      <th>50%</th>\n",
       "      <td>2015.00</td>\n",
       "      <td>87.00</td>\n",
       "      <td>607.00</td>\n",
       "      <td>51362.00</td>\n",
       "      <td>51.70</td>\n",
       "      <td>51.40</td>\n",
       "      <td>51.99</td>\n",
       "    </tr>\n",
       "    <tr>\n",
       "      <th>75%</th>\n",
       "      <td>2015.00</td>\n",
       "      <td>140.00</td>\n",
       "      <td>1178.00</td>\n",
       "      <td>51362.00</td>\n",
       "      <td>59.01</td>\n",
       "      <td>54.69</td>\n",
       "      <td>51.99</td>\n",
       "    </tr>\n",
       "    <tr>\n",
       "      <th>max</th>\n",
       "      <td>2015.00</td>\n",
       "      <td>423.00</td>\n",
       "      <td>5844.00</td>\n",
       "      <td>51362.00</td>\n",
       "      <td>89.58</td>\n",
       "      <td>67.38</td>\n",
       "      <td>51.99</td>\n",
       "    </tr>\n",
       "  </tbody>\n",
       "</table>\n",
       "</div>"
      ],
      "text/plain": [
       "       graduation_year  schcount  leacount  seacount  sch_percent_enrolled  \\\n",
       "count           516.00    489.00    516.00    516.00                516.00   \n",
       "mean           2015.00    102.32   1131.87  51362.00                 49.69   \n",
       "std               0.00     80.98   1480.69      0.00                 14.27   \n",
       "min            2015.00      5.00     18.00  51362.00                  5.41   \n",
       "25%            2015.00     38.00    252.00  51362.00                 42.48   \n",
       "50%            2015.00     87.00    607.00  51362.00                 51.70   \n",
       "75%            2015.00    140.00   1178.00  51362.00                 59.01   \n",
       "max            2015.00    423.00   5844.00  51362.00                 89.58   \n",
       "\n",
       "       lea_percent_enrolled  sea_percent_enrolled  \n",
       "count                516.00                516.00  \n",
       "mean                  51.04                 51.99  \n",
       "std                    6.88                  0.00  \n",
       "min                   31.43                 51.99  \n",
       "25%                   48.44                 51.99  \n",
       "50%                   51.40                 51.99  \n",
       "75%                   54.69                 51.99  \n",
       "max                   67.38                 51.99  "
      ]
     },
     "execution_count": 20,
     "metadata": {},
     "output_type": "execute_result"
    }
   ],
   "source": [
    "dfCollegeAll.describe()"
   ]
  },
  {
   "cell_type": "code",
   "execution_count": 21,
   "metadata": {
    "scrolled": true
   },
   "outputs": [
    {
     "data": {
      "text/html": [
       "<div>\n",
       "<style scoped>\n",
       "    .dataframe tbody tr th:only-of-type {\n",
       "        vertical-align: middle;\n",
       "    }\n",
       "\n",
       "    .dataframe tbody tr th {\n",
       "        vertical-align: top;\n",
       "    }\n",
       "\n",
       "    .dataframe thead th {\n",
       "        text-align: right;\n",
       "    }\n",
       "</style>\n",
       "<table border=\"1\" class=\"dataframe\">\n",
       "  <thead>\n",
       "    <tr style=\"text-align: right;\">\n",
       "      <th></th>\n",
       "      <th>year</th>\n",
       "      <th>total_class_teacher_num</th>\n",
       "      <th>total_nbpts_num</th>\n",
       "      <th>flicensed_teach_pct</th>\n",
       "      <th>tchyrs_0thru3_pct</th>\n",
       "      <th>tchyrs_4thru10_pct</th>\n",
       "      <th>tchyrs_11plus_pct</th>\n",
       "      <th>class_teach_num</th>\n",
       "      <th>nbpts_num</th>\n",
       "      <th>advance_dgr_pct</th>\n",
       "      <th>...</th>\n",
       "      <th>st_flicensed_teach_pct</th>\n",
       "      <th>st_tchyrs_0thru3_pct</th>\n",
       "      <th>st_tchyrs_4thru10_pct</th>\n",
       "      <th>st_tchyrs_11plus_pct</th>\n",
       "      <th>st_class_teach_num</th>\n",
       "      <th>st_nbpts_num</th>\n",
       "      <th>st_advance_dgr_pct</th>\n",
       "      <th>st_1yr_tchr_trnovr_pct</th>\n",
       "      <th>st_emer_prov_teach_pct</th>\n",
       "      <th>st_lateral_teach_pct</th>\n",
       "    </tr>\n",
       "  </thead>\n",
       "  <tbody>\n",
       "    <tr>\n",
       "      <th>count</th>\n",
       "      <td>600.00</td>\n",
       "      <td>600.00</td>\n",
       "      <td>600.00</td>\n",
       "      <td>598.00</td>\n",
       "      <td>598.00</td>\n",
       "      <td>598.00</td>\n",
       "      <td>598.00</td>\n",
       "      <td>598.00</td>\n",
       "      <td>598.00</td>\n",
       "      <td>598.00</td>\n",
       "      <td>...</td>\n",
       "      <td>597.00</td>\n",
       "      <td>597.00</td>\n",
       "      <td>597.00</td>\n",
       "      <td>597.00</td>\n",
       "      <td>597.00</td>\n",
       "      <td>597.00</td>\n",
       "      <td>597.00</td>\n",
       "      <td>597.00</td>\n",
       "      <td>597.00</td>\n",
       "      <td>597.00</td>\n",
       "    </tr>\n",
       "    <tr>\n",
       "      <th>mean</th>\n",
       "      <td>2017.00</td>\n",
       "      <td>101107.00</td>\n",
       "      <td>11728.00</td>\n",
       "      <td>0.89</td>\n",
       "      <td>0.21</td>\n",
       "      <td>0.24</td>\n",
       "      <td>0.55</td>\n",
       "      <td>48.30</td>\n",
       "      <td>6.22</td>\n",
       "      <td>0.27</td>\n",
       "      <td>...</td>\n",
       "      <td>0.89</td>\n",
       "      <td>0.21</td>\n",
       "      <td>0.24</td>\n",
       "      <td>0.55</td>\n",
       "      <td>49.41</td>\n",
       "      <td>6.20</td>\n",
       "      <td>0.27</td>\n",
       "      <td>0.15</td>\n",
       "      <td>0.00</td>\n",
       "      <td>0.09</td>\n",
       "    </tr>\n",
       "    <tr>\n",
       "      <th>std</th>\n",
       "      <td>0.00</td>\n",
       "      <td>0.00</td>\n",
       "      <td>0.00</td>\n",
       "      <td>0.10</td>\n",
       "      <td>0.12</td>\n",
       "      <td>0.10</td>\n",
       "      <td>0.14</td>\n",
       "      <td>35.81</td>\n",
       "      <td>6.63</td>\n",
       "      <td>0.13</td>\n",
       "      <td>...</td>\n",
       "      <td>0.03</td>\n",
       "      <td>0.00</td>\n",
       "      <td>0.00</td>\n",
       "      <td>0.00</td>\n",
       "      <td>8.80</td>\n",
       "      <td>1.84</td>\n",
       "      <td>0.02</td>\n",
       "      <td>0.01</td>\n",
       "      <td>0.00</td>\n",
       "      <td>0.01</td>\n",
       "    </tr>\n",
       "    <tr>\n",
       "      <th>min</th>\n",
       "      <td>2017.00</td>\n",
       "      <td>101107.00</td>\n",
       "      <td>11728.00</td>\n",
       "      <td>0.30</td>\n",
       "      <td>0.00</td>\n",
       "      <td>0.00</td>\n",
       "      <td>0.08</td>\n",
       "      <td>2.00</td>\n",
       "      <td>0.00</td>\n",
       "      <td>0.00</td>\n",
       "      <td>...</td>\n",
       "      <td>0.78</td>\n",
       "      <td>0.20</td>\n",
       "      <td>0.24</td>\n",
       "      <td>0.55</td>\n",
       "      <td>24.00</td>\n",
       "      <td>2.00</td>\n",
       "      <td>0.26</td>\n",
       "      <td>0.13</td>\n",
       "      <td>0.00</td>\n",
       "      <td>0.06</td>\n",
       "    </tr>\n",
       "    <tr>\n",
       "      <th>25%</th>\n",
       "      <td>2017.00</td>\n",
       "      <td>101107.00</td>\n",
       "      <td>11728.00</td>\n",
       "      <td>0.85</td>\n",
       "      <td>0.13</td>\n",
       "      <td>0.19</td>\n",
       "      <td>0.47</td>\n",
       "      <td>14.00</td>\n",
       "      <td>1.00</td>\n",
       "      <td>0.19</td>\n",
       "      <td>...</td>\n",
       "      <td>0.90</td>\n",
       "      <td>0.21</td>\n",
       "      <td>0.24</td>\n",
       "      <td>0.55</td>\n",
       "      <td>53.00</td>\n",
       "      <td>7.00</td>\n",
       "      <td>0.26</td>\n",
       "      <td>0.14</td>\n",
       "      <td>0.00</td>\n",
       "      <td>0.09</td>\n",
       "    </tr>\n",
       "    <tr>\n",
       "      <th>50%</th>\n",
       "      <td>2017.00</td>\n",
       "      <td>101107.00</td>\n",
       "      <td>11728.00</td>\n",
       "      <td>0.92</td>\n",
       "      <td>0.20</td>\n",
       "      <td>0.23</td>\n",
       "      <td>0.56</td>\n",
       "      <td>44.00</td>\n",
       "      <td>4.00</td>\n",
       "      <td>0.25</td>\n",
       "      <td>...</td>\n",
       "      <td>0.90</td>\n",
       "      <td>0.21</td>\n",
       "      <td>0.24</td>\n",
       "      <td>0.55</td>\n",
       "      <td>53.00</td>\n",
       "      <td>7.00</td>\n",
       "      <td>0.26</td>\n",
       "      <td>0.14</td>\n",
       "      <td>0.00</td>\n",
       "      <td>0.09</td>\n",
       "    </tr>\n",
       "    <tr>\n",
       "      <th>75%</th>\n",
       "      <td>2017.00</td>\n",
       "      <td>101107.00</td>\n",
       "      <td>11728.00</td>\n",
       "      <td>0.96</td>\n",
       "      <td>0.26</td>\n",
       "      <td>0.29</td>\n",
       "      <td>0.64</td>\n",
       "      <td>72.00</td>\n",
       "      <td>9.00</td>\n",
       "      <td>0.33</td>\n",
       "      <td>...</td>\n",
       "      <td>0.90</td>\n",
       "      <td>0.21</td>\n",
       "      <td>0.24</td>\n",
       "      <td>0.55</td>\n",
       "      <td>53.00</td>\n",
       "      <td>7.00</td>\n",
       "      <td>0.26</td>\n",
       "      <td>0.14</td>\n",
       "      <td>0.00</td>\n",
       "      <td>0.09</td>\n",
       "    </tr>\n",
       "    <tr>\n",
       "      <th>max</th>\n",
       "      <td>2017.00</td>\n",
       "      <td>101107.00</td>\n",
       "      <td>11728.00</td>\n",
       "      <td>1.00</td>\n",
       "      <td>0.83</td>\n",
       "      <td>0.86</td>\n",
       "      <td>1.00</td>\n",
       "      <td>159.00</td>\n",
       "      <td>38.00</td>\n",
       "      <td>0.80</td>\n",
       "      <td>...</td>\n",
       "      <td>0.90</td>\n",
       "      <td>0.21</td>\n",
       "      <td>0.25</td>\n",
       "      <td>0.56</td>\n",
       "      <td>53.00</td>\n",
       "      <td>7.00</td>\n",
       "      <td>0.31</td>\n",
       "      <td>0.17</td>\n",
       "      <td>0.00</td>\n",
       "      <td>0.10</td>\n",
       "    </tr>\n",
       "  </tbody>\n",
       "</table>\n",
       "<p>8 rows × 31 columns</p>\n",
       "</div>"
      ],
      "text/plain": [
       "         year  total_class_teacher_num  total_nbpts_num  flicensed_teach_pct  \\\n",
       "count  600.00                   600.00           600.00               598.00   \n",
       "mean  2017.00                101107.00         11728.00                 0.89   \n",
       "std      0.00                     0.00             0.00                 0.10   \n",
       "min   2017.00                101107.00         11728.00                 0.30   \n",
       "25%   2017.00                101107.00         11728.00                 0.85   \n",
       "50%   2017.00                101107.00         11728.00                 0.92   \n",
       "75%   2017.00                101107.00         11728.00                 0.96   \n",
       "max   2017.00                101107.00         11728.00                 1.00   \n",
       "\n",
       "       tchyrs_0thru3_pct  tchyrs_4thru10_pct  tchyrs_11plus_pct  \\\n",
       "count             598.00              598.00             598.00   \n",
       "mean                0.21                0.24               0.55   \n",
       "std                 0.12                0.10               0.14   \n",
       "min                 0.00                0.00               0.08   \n",
       "25%                 0.13                0.19               0.47   \n",
       "50%                 0.20                0.23               0.56   \n",
       "75%                 0.26                0.29               0.64   \n",
       "max                 0.83                0.86               1.00   \n",
       "\n",
       "       class_teach_num  nbpts_num  advance_dgr_pct          ...           \\\n",
       "count           598.00     598.00           598.00          ...            \n",
       "mean             48.30       6.22             0.27          ...            \n",
       "std              35.81       6.63             0.13          ...            \n",
       "min               2.00       0.00             0.00          ...            \n",
       "25%              14.00       1.00             0.19          ...            \n",
       "50%              44.00       4.00             0.25          ...            \n",
       "75%              72.00       9.00             0.33          ...            \n",
       "max             159.00      38.00             0.80          ...            \n",
       "\n",
       "       st_flicensed_teach_pct  st_tchyrs_0thru3_pct  st_tchyrs_4thru10_pct  \\\n",
       "count                  597.00                597.00                 597.00   \n",
       "mean                     0.89                  0.21                   0.24   \n",
       "std                      0.03                  0.00                   0.00   \n",
       "min                      0.78                  0.20                   0.24   \n",
       "25%                      0.90                  0.21                   0.24   \n",
       "50%                      0.90                  0.21                   0.24   \n",
       "75%                      0.90                  0.21                   0.24   \n",
       "max                      0.90                  0.21                   0.25   \n",
       "\n",
       "       st_tchyrs_11plus_pct  st_class_teach_num  st_nbpts_num  \\\n",
       "count                597.00              597.00        597.00   \n",
       "mean                   0.55               49.41          6.20   \n",
       "std                    0.00                8.80          1.84   \n",
       "min                    0.55               24.00          2.00   \n",
       "25%                    0.55               53.00          7.00   \n",
       "50%                    0.55               53.00          7.00   \n",
       "75%                    0.55               53.00          7.00   \n",
       "max                    0.56               53.00          7.00   \n",
       "\n",
       "       st_advance_dgr_pct  st_1yr_tchr_trnovr_pct  st_emer_prov_teach_pct  \\\n",
       "count              597.00                  597.00                  597.00   \n",
       "mean                 0.27                    0.15                    0.00   \n",
       "std                  0.02                    0.01                    0.00   \n",
       "min                  0.26                    0.13                    0.00   \n",
       "25%                  0.26                    0.14                    0.00   \n",
       "50%                  0.26                    0.14                    0.00   \n",
       "75%                  0.26                    0.14                    0.00   \n",
       "max                  0.31                    0.17                    0.00   \n",
       "\n",
       "       st_lateral_teach_pct  \n",
       "count                597.00  \n",
       "mean                   0.09  \n",
       "std                    0.01  \n",
       "min                    0.06  \n",
       "25%                    0.09  \n",
       "50%                    0.09  \n",
       "75%                    0.09  \n",
       "max                    0.10  \n",
       "\n",
       "[8 rows x 31 columns]"
      ]
     },
     "execution_count": 21,
     "metadata": {},
     "output_type": "execute_result"
    }
   ],
   "source": [
    "dfTeachersHS.describe()"
   ]
  },
  {
   "cell_type": "code",
   "execution_count": 22,
   "metadata": {},
   "outputs": [],
   "source": [
    "dfMergedSet = pd.merge(dfTeachersHS, dfCollegeAll, on = 'unit_code')"
   ]
  },
  {
   "cell_type": "code",
   "execution_count": 23,
   "metadata": {},
   "outputs": [],
   "source": [
    "dfMergedSet.drop(columns = ['year', 'graduation_year'], axis = 1, inplace = True, errors = 'ignore')"
   ]
  },
  {
   "cell_type": "code",
   "execution_count": 24,
   "metadata": {},
   "outputs": [
    {
     "name": "stdout",
     "output_type": "stream",
     "text": [
      "<class 'pandas.core.frame.DataFrame'>\n",
      "Int64Index: 516 entries, 0 to 515\n",
      "Data columns (total 46 columns):\n",
      "unit_code                  516 non-null object\n",
      "category_cd                516 non-null object\n",
      "total_class_teacher_num    516 non-null int64\n",
      "total_nbpts_num            516 non-null int64\n",
      "School_Name                516 non-null object\n",
      "Lea_Name                   516 non-null object\n",
      "State_Name                 516 non-null object\n",
      "flicensed_teach_pct        516 non-null float64\n",
      "tchyrs_0thru3_pct          516 non-null float64\n",
      "tchyrs_4thru10_pct         516 non-null float64\n",
      "tchyrs_11plus_pct          516 non-null float64\n",
      "class_teach_num            516 non-null float64\n",
      "nbpts_num                  516 non-null float64\n",
      "advance_dgr_pct            516 non-null float64\n",
      "_1yr_tchr_trnovr_pct       516 non-null float64\n",
      "lateral_teach_pct          440 non-null float64\n",
      "lea_flicensed_teach_pct    516 non-null float64\n",
      "lea_tchyrs_0thru3_pct      516 non-null float64\n",
      "lea_tchyrs_4thru10_pct     516 non-null float64\n",
      "lea_tchyrs_11plus_pct      516 non-null float64\n",
      "lea_class_teach_num        516 non-null float64\n",
      "lea_nbpts_num              516 non-null float64\n",
      "lea_advance_dgr_pct        516 non-null float64\n",
      "lea_1yr_tchr_trnovr_pct    516 non-null float64\n",
      "lea_lateral_teach_pct      507 non-null float64\n",
      "st_flicensed_teach_pct     516 non-null float64\n",
      "st_tchyrs_0thru3_pct       516 non-null float64\n",
      "st_tchyrs_4thru10_pct      516 non-null float64\n",
      "st_tchyrs_11plus_pct       516 non-null float64\n",
      "st_class_teach_num         516 non-null float64\n",
      "st_nbpts_num               516 non-null float64\n",
      "st_advance_dgr_pct         516 non-null float64\n",
      "st_1yr_tchr_trnovr_pct     516 non-null float64\n",
      "st_emer_prov_teach_pct     516 non-null float64\n",
      "st_lateral_teach_pct       516 non-null float64\n",
      "leaname                    516 non-null object\n",
      "schname                    516 non-null object\n",
      "status                     516 non-null object\n",
      "subgroup                   516 non-null object\n",
      "subgroup_name              516 non-null object\n",
      "schcount                   489 non-null float64\n",
      "leacount                   516 non-null float64\n",
      "seacount                   516 non-null float64\n",
      "sch_percent_enrolled       516 non-null float64\n",
      "lea_percent_enrolled       516 non-null float64\n",
      "sea_percent_enrolled       516 non-null float64\n",
      "dtypes: float64(34), int64(2), object(10)\n",
      "memory usage: 189.5+ KB\n"
     ]
    }
   ],
   "source": [
    "dfMergedSet.info()"
   ]
  },
  {
   "cell_type": "markdown",
   "metadata": {},
   "source": [
    "# <span style=\"color: red; background-color: yellow; font-size: 26px\"> Visualize Attributes </span>"
   ]
  },
  {
   "cell_type": "markdown",
   "metadata": {},
   "source": [
    "#### New Stuff I'm still working on"
   ]
  },
  {
   "cell_type": "code",
   "execution_count": 25,
   "metadata": {},
   "outputs": [
    {
     "data": {
      "text/plain": [
       "[Text(0,0.5,'College Enrollment Percentage (%)'),\n",
       " Text(0.5,0,'Number of Districts per Bin'),\n",
       " Text(0.5,1,'College Enrollment Percentage by Districts')]"
      ]
     },
     "execution_count": 25,
     "metadata": {},
     "output_type": "execute_result"
    },
    {
     "data": {
      "image/png": "[encoded data removed]",
      "text/plain": [
       "<Figure size 432x288 with 1 Axes>"
      ]
     },
     "metadata": {},
     "output_type": "display_data"
    }
   ],
   "source": [
    "binValues = np.arange(int(dfCollegeAll.lea_percent_enrolled.min()), int(dfCollegeAll.lea_percent_enrolled.max()), 5)\n",
    "districtOut = pd.cut(dfCollegeAll.lea_percent_enrolled, bins = binValues, include_lowest = True)\n",
    "count = districtOut.value_counts(sort=False)\n",
    "count.plot.barh(x = binValues, y = count).set(title = 'College Enrollment Percentage by Districts',\n",
    "                                             xlabel = 'Number of Districts per Bin',\n",
    "                                             ylabel = 'College Enrollment Percentage (%)')"
   ]
  },
  {
   "cell_type": "markdown",
   "metadata": {},
   "source": [
    "#### End new stuff"
   ]
  },
  {
   "cell_type": "code",
   "execution_count": 26,
   "metadata": {},
   "outputs": [
    {
     "data": {
      "image/png": "[encoded data removed]",
      "text/plain": [
       "<Figure size 1008x1008 with 25 Axes>"
      ]
     },
     "metadata": {},
     "output_type": "display_data"
    }
   ],
   "source": [
    "ordinalM = [col for col in dfMergedSet if '_pct' in col]\n",
    "ax42 = dfMergedSet.hist(column = ordinalM, figsize = (14,14))"
   ]
  },
  {
   "cell_type": "code",
   "execution_count": 27,
   "metadata": {},
   "outputs": [
    {
     "data": {
      "text/plain": [
       "Text(0,0.5,'Percentage (%)')"
      ]
     },
     "execution_count": 27,
     "metadata": {},
     "output_type": "execute_result"
    },
    {
     "data": {
      "image/png": "[encoded data removed]",
      "text/plain": [
       "<Figure size 432x288 with 1 Axes>"
      ]
     },
     "metadata": {},
     "output_type": "display_data"
    }
   ],
   "source": [
    "ax = dfCollegeAll.boxplot(column = ['sch_percent_enrolled'])\n",
    "plt.title('Boxplot of all Students enrolled by School Code')\n",
    "ax.set_xlabel('School Data')\n",
    "ax.set_ylabel('Percentage (%)')"
   ]
  },
  {
   "cell_type": "markdown",
   "metadata": {},
   "source": [
    "Missing values removed from district calculations as these schools are Non-District schools and therefore do not have data on the district level"
   ]
  },
  {
   "cell_type": "code",
   "execution_count": 28,
   "metadata": {},
   "outputs": [
    {
     "data": {
      "text/plain": [
       "Text(0,0.5,'Percentage (%)')"
      ]
     },
     "execution_count": 28,
     "metadata": {},
     "output_type": "execute_result"
    },
    {
     "data": {
      "image/png": "[encoded data removed]",
      "text/plain": [
       "<Figure size 432x288 with 1 Axes>"
      ]
     },
     "metadata": {},
     "output_type": "display_data"
    }
   ],
   "source": [
    "dfDistrict = dfCollegeAll[dfCollegeAll['leacount'].notna()]\n",
    "ax = dfDistrict.boxplot(column = ['lea_percent_enrolled'])\n",
    "plt.title('Boxplot of all Students enrolled by District Code')\n",
    "ax.set_xlabel('District Data')\n",
    "ax.set_ylabel('Percentage (%)')"
   ]
  },
  {
   "cell_type": "code",
   "execution_count": 29,
   "metadata": {},
   "outputs": [
    {
     "data": {
      "text/plain": [
       "[Text(0,0,'By School'), Text(0,0,'By District')]"
      ]
     },
     "execution_count": 29,
     "metadata": {},
     "output_type": "execute_result"
    },
    {
     "data": {
      "image/png": "[encoded data removed]",
      "text/plain": [
       "<Figure size 432x288 with 1 Axes>"
      ]
     },
     "metadata": {},
     "output_type": "display_data"
    }
   ],
   "source": [
    "########################################################################################################\n",
    "############################### NEW PLOT ###############################################################\n",
    "########################################################################################################\n",
    "ax = dfCollegeAll.boxplot(column = ['sch_percent_enrolled', 'lea_percent_enrolled'])\n",
    "plt.title('Boxplot of all Students enrolled by School and District Code')\n",
    "ax.set_ylabel('Percentage (%)')\n",
    "ax.set_xlabel('College Enrollment')\n",
    "ax.xaxis.set_ticklabels(['By School', 'By District'])"
   ]
  },
  {
   "cell_type": "markdown",
   "metadata": {},
   "source": [
    "###########################################################################################################\n",
    "###########################################################################################################\n",
    "###########################################################################################################\n",
    "As expected there is a large increase in variance in college enrollment rates at the individual school level compared to the district level. While this is the case, their medians and means are nearly identical."
   ]
  },
  {
   "cell_type": "code",
   "execution_count": 30,
   "metadata": {},
   "outputs": [
    {
     "data": {
      "text/plain": [
       "[Text(0,0,'Graduate Degree'),\n",
       " Text(0,0,'Licensed'),\n",
       " Text(0,0,'0-3 Years Exp'),\n",
       " Text(0,0,'4-10 Years Exp'),\n",
       " Text(0,0,'11+ Years Exp'),\n",
       " Text(0,0,'1 Year Turnover')]"
      ]
     },
     "execution_count": 30,
     "metadata": {},
     "output_type": "execute_result"
    },
    {
     "data": {
      "image/png": "[encoded data removed]",
      "text/plain": [
       "<Figure size 720x576 with 1 Axes>"
      ]
     },
     "metadata": {},
     "output_type": "display_data"
    }
   ],
   "source": [
    "########################################################################################################\n",
    "############################### NEW PLOT ###############################################################\n",
    "########################################################################################################\n",
    "ax = dfTeachersHS.boxplot(column = ['advance_dgr_pct', 'flicensed_teach_pct', 'tchyrs_0thru3_pct', 'tchyrs_4thru10_pct', 'tchyrs_11plus_pct', '_1yr_tchr_trnovr_pct'], figsize = (10, 8))\n",
    "plt.title('Boxplot of Normalized[?] Teacher Attributes per School')\n",
    "ax.set_xlabel('Teachers')\n",
    "ax.set_ylabel('Percentage (%)')\n",
    "ax.xaxis.set_ticklabels(['Graduate Degree', 'Licensed', '0-3 Years Exp', '4-10 Years Exp', '11+ Years Exp', '1 Year Turnover'])"
   ]
  },
  {
   "cell_type": "markdown",
   "metadata": {},
   "source": [
    "###########################################################################################################\n",
    "###########################################################################################################\n",
    "###########################################################################################################\n",
    "Notable trends here are that a majority of teachers have greater than 11 years experience. The median of percent teachers with 11+ years of experience at a school (56%) is more than double that of teachers with 0-3 (20%) or 4-10 (23%) years experience. This tells us that the median school will be more than half staffed with teachers with over 11 years of experience.\n",
    "\n",
    "Also of note is the high median percent of teachers that are licensed (92%). This is skewed heavily toward the lower percentages because of the max being 100% and a large amount of outliers of schools with their percent teachers that are licensed ranging from  ~68% to as low as 30%. Further analsyis should noted if these school outliers have correlations to college enrollment and the experience level of these teachers.\n",
    "\n",
    "Lastly another dataframe will be created to examine the teacher attributes of the subset of outlier instances where the 1 year turnover rate of the teachers is above 1.5 times the Q3."
   ]
  },
  {
   "cell_type": "code",
   "execution_count": 31,
   "metadata": {},
   "outputs": [
    {
     "ename": "NameError",
     "evalue": "name 'dfTeachersHS_flicensed_lessthan_65percent' is not defined",
     "output_type": "error",
     "traceback": [
      "\u001b[0;31m---------------------------------------------------------------------------\u001b[0m",
      "\u001b[0;31mNameError\u001b[0m                                 Traceback (most recent call last)",
      "\u001b[0;32m<ipython-input-31-34ec0d2fef0d>\u001b[0m in \u001b[0;36m<module>\u001b[0;34m()\u001b[0m\n\u001b[1;32m      3\u001b[0m \u001b[0;31m########################################################################################################\u001b[0m\u001b[0;34m\u001b[0m\u001b[0;34m\u001b[0m\u001b[0m\n\u001b[1;32m      4\u001b[0m \u001b[0mdfTeachersHS_flicensed_lessthan_68percent\u001b[0m \u001b[0;34m=\u001b[0m \u001b[0mdfTeachersHS\u001b[0m\u001b[0;34m[\u001b[0m\u001b[0mdfTeachersHS\u001b[0m\u001b[0;34m.\u001b[0m\u001b[0mflicensed_teach_pct\u001b[0m \u001b[0;34m<=\u001b[0m \u001b[0;36m.68\u001b[0m\u001b[0;34m]\u001b[0m\u001b[0;34m\u001b[0m\u001b[0m\n\u001b[0;32m----> 5\u001b[0;31m \u001b[0max\u001b[0m \u001b[0;34m=\u001b[0m \u001b[0mdfTeachersHS_flicensed_lessthan_65percent\u001b[0m\u001b[0;34m.\u001b[0m\u001b[0mboxplot\u001b[0m\u001b[0;34m(\u001b[0m\u001b[0mcolumn\u001b[0m \u001b[0;34m=\u001b[0m \u001b[0;34m[\u001b[0m\u001b[0;34m'advance_dgr_pct'\u001b[0m\u001b[0;34m,\u001b[0m \u001b[0;34m'tchyrs_0thru3_pct'\u001b[0m\u001b[0;34m,\u001b[0m \u001b[0;34m'tchyrs_4thru10_pct'\u001b[0m\u001b[0;34m,\u001b[0m \u001b[0;34m'tchyrs_11plus_pct'\u001b[0m\u001b[0;34m,\u001b[0m \u001b[0;34m'_1yr_tchr_trnovr_pct'\u001b[0m\u001b[0;34m]\u001b[0m\u001b[0;34m,\u001b[0m \u001b[0mfigsize\u001b[0m \u001b[0;34m=\u001b[0m \u001b[0;34m(\u001b[0m\u001b[0;36m10\u001b[0m\u001b[0;34m,\u001b[0m \u001b[0;36m8\u001b[0m\u001b[0;34m)\u001b[0m\u001b[0;34m)\u001b[0m\u001b[0;34m\u001b[0m\u001b[0m\n\u001b[0m\u001b[1;32m      6\u001b[0m \u001b[0mplt\u001b[0m\u001b[0;34m.\u001b[0m\u001b[0mtitle\u001b[0m\u001b[0;34m(\u001b[0m\u001b[0;34m'Boxplot of Teacher Attributes per Schools with < 65% Licensed Teachers'\u001b[0m\u001b[0;34m)\u001b[0m\u001b[0;34m\u001b[0m\u001b[0m\n\u001b[1;32m      7\u001b[0m \u001b[0max\u001b[0m\u001b[0;34m.\u001b[0m\u001b[0mset_xlabel\u001b[0m\u001b[0;34m(\u001b[0m\u001b[0;34m'Teachers'\u001b[0m\u001b[0;34m)\u001b[0m\u001b[0;34m\u001b[0m\u001b[0m\n",
      "\u001b[0;31mNameError\u001b[0m: name 'dfTeachersHS_flicensed_lessthan_65percent' is not defined"
     ]
    }
   ],
   "source": [
    "########################################################################################################\n",
    "############################### NEW PLOT ###############################################################\n",
    "########################################################################################################\n",
    "dfTeachersHS_flicensed_lessthan_68percent = dfTeachersHS[dfTeachersHS.flicensed_teach_pct <= .68]\n",
    "ax = dfTeachersHS_flicensed_lessthan_65percent.boxplot(column = ['advance_dgr_pct', 'tchyrs_0thru3_pct', 'tchyrs_4thru10_pct', 'tchyrs_11plus_pct', '_1yr_tchr_trnovr_pct'], figsize = (10, 8))\n",
    "plt.title('Boxplot of Teacher Attributes per Schools with < 65% Licensed Teachers')\n",
    "ax.set_xlabel('Teachers')\n",
    "ax.set_ylabel('Percentage (%)')\n",
    "ax.xaxis.set_ticklabels(['Graduate Degree', '0-3 Years Exp', '4-10 Years Exp', '11+ Years Exp', '1 Year Turnover'])"
   ]
  },
  {
   "cell_type": "markdown",
   "metadata": {},
   "source": [
    "###########################################################################################################\n",
    "###########################################################################################################\n",
    "###########################################################################################################\n",
    "median (overall, outliers of low licensed%):\n",
    "grad degree - 25, 17\n",
    "0-3 - 20, 43\n",
    "4-10 - 23, 17\n",
    "11+ - 56, 37\n",
    "\n",
    "When looking at the distribution of teacher attributes when schools have less than 68% of their teacher's licensed we can see a dramatic increase in the median percent of teachers at those schools who have 0-3 years experience teaching. This median of percent teachers with 0-3 years experience, 43%, is now slightly more than teachers with 11+ years of experience, 37%."
   ]
  },
  {
   "cell_type": "code",
   "execution_count": null,
   "metadata": {},
   "outputs": [],
   "source": [
    "########################################################################################################\n",
    "############################### NEW PLOT ###############################################################\n",
    "########################################################################################################\n",
    "dfTeachersHS_1yrtrnovr_greaterthan_32percent = dfTeachersHS[dfTeachersHS._1yr_tchr_trnovr_pct >= .32]\n",
    "ax = dfTeachersHS_1yrtrnovr_greaterthan_32percent.boxplot(column = ['advance_dgr_pct', 'flicensed_teach_pct', 'tchyrs_0thru3_pct', 'tchyrs_4thru10_pct', 'tchyrs_11plus_pct'], figsize = (10, 8))\n",
    "plt.title('Boxplot of Normalized[?] Teacher Attributes per School')\n",
    "ax.set_xlabel('Teachers')\n",
    "ax.set_ylabel('Percentage (%)')\n",
    "ax.xaxis.set_ticklabels(['Graduate Degree', 'Licensed', '0-3 Years Exp', '4-10 Years Exp', '11+ Years Exp'])"
   ]
  },
  {
   "cell_type": "markdown",
   "metadata": {},
   "source": [
    "###########################################################################################################\n",
    "###########################################################################################################\n",
    "###########################################################################################################\n",
    "median (overall, outliers of high turnover%):\n",
    "licensed - 92, 72\n",
    "grad degree - 25, 20\n",
    "0-3 - 20, 31\n",
    "4-10 - 23, 17\n",
    "11+ - 56, 40\n",
    "\n",
    "When comparing the subset of teacher's attributes for when above 32% of a school's teachers turnover rate to the entire teacher data set we see a decrease in medians for percent teachers who are licensed, hold a graduate degree, have 4-10 years experience, and 11+ years of experience. There is a 11% increase in the median of percentage of teachers who have 0-3 years experience."
   ]
  },
  {
   "cell_type": "markdown",
   "metadata": {},
   "source": [
    "# Explore Joint Attributes"
   ]
  },
  {
   "cell_type": "code",
   "execution_count": null,
   "metadata": {},
   "outputs": [],
   "source": [
    "corrColumnNames = ['flicensed_teach_pct',\n",
    " 'tchyrs_0thru3_pct',\n",
    " 'tchyrs_4thru10_pct',\n",
    " 'tchyrs_11plus_pct',\n",
    " 'class_teach_num',\n",
    " 'nbpts_num',\n",
    " 'advance_dgr_pct',\n",
    " 'sch_percent_enrolled',\n",
    " 'lea_percent_enrolled']"
   ]
  },
  {
   "cell_type": "code",
   "execution_count": null,
   "metadata": {
    "scrolled": true
   },
   "outputs": [],
   "source": [
    "dfMergedSet[corrColumnNames].corr('pearson')"
   ]
  },
  {
   "cell_type": "code",
   "execution_count": null,
   "metadata": {},
   "outputs": [],
   "source": [
    "ax = scatter_matrix(dfMergedSet[corrColumnNames], figsize = (14, 14))"
   ]
  },
  {
   "cell_type": "code",
   "execution_count": null,
   "metadata": {
    "scrolled": true
   },
   "outputs": [],
   "source": [
    "# plot the correlation matrix using seaborn\n",
    "sns.set(style=\"darkgrid\") # one of the many styles to plot using\n",
    "\n",
    "f, ax = plt.subplots(figsize=(9, 9))\n",
    "\n",
    "sns.heatmap(dfMergedSet[corrColumnNames].corr(), cmap=cmap, annot=True)\n",
    "\n",
    "f.tight_layout()"
   ]
  },
  {
   "cell_type": "markdown",
   "metadata": {},
   "source": [
    "The correlation heatmap helps visualize linear relationships easier by color coding a matrix. The most notable positive linear relationships between our response variable (percent of students enrolled in college by school) and any explanatory variables of our teachers experience is the percentage of licensed teachers at a school (r = 0.22), the number of board certified teachers at school (r = 0.19), the percent of teachers with 11+ years of experience teaching (r = 0.15), and the percent of teachers with graduate degrees or more (r = 0.14). Although qualities of a teachers are sometimes hard to measure, the ones that are in the form of experience and accolades (licensure, board certified, and graduate degrees) show a weak linear relationship with the percentage of high school students who enroll in college.\n",
    "\n",
    "The strongest linear correlation of the heatmap with normalized data can be found with the percent of teachers with 11+ years of experience teaching and the percentage of licensed teachers (r = 0.46). This would make sense that as you continue along in your career in teaching, your likelihood of acquiring your license would be more likely. A similar linear correlation coefficient of 0.35 can be found between percent of teachers with graduate degrees and the percent of licensed teachers. Lastly, the percent of teachers with graduate degrees and percent of teachers with 11+ years of experience has a linear correlation coefficient of 0.32. All of this ties into the idea of associations with teachers who have had long careers in education have achieved high accolades in doing so."
   ]
  },
  {
   "cell_type": "markdown",
   "metadata": {},
   "source": [
    "# <span style=\"color: red; background-color: yellow; font-size: 26px\"> Explore Attributes and Class </span>"
   ]
  },
  {
   "cell_type": "markdown",
   "metadata": {},
   "source": [
    "We believe we can predict whether or not a school has greater than 35% of high school graduates enrolled in a post-secondary institution based on the following features: percentage of teachers that have advanced degrees (advance_dgr_pct), percentage of teachers that are licenced to teach (Flicensed_teach_pct), and the average number of teachers at a given school (Class_teach_num)."
   ]
  },
  {
   "cell_type": "code",
   "execution_count": 41,
   "metadata": {},
   "outputs": [
    {
     "data": {
      "text/plain": [
       "[Text(0,0.5,'Students in % (0-100)'),\n",
       " Text(0.5,0,'Number of Teachers'),\n",
       " Text(0.5,1,'Average number of teachers per school vs. % of students enrolled post high school')]"
      ]
     },
     "execution_count": 41,
     "metadata": {},
     "output_type": "execute_result"
    },
    {
     "data": {
      "image/png": "[encoded data removed]",
      "text/plain": [
       "<Figure size 432x288 with 1 Axes>"
      ]
     },
     "metadata": {},
     "output_type": "display_data"
    },
    {
     "data": {
      "image/png": "[encoded data removed]",
      "text/plain": [
       "<Figure size 432x288 with 1 Axes>"
      ]
     },
     "metadata": {},
     "output_type": "display_data"
    },
    {
     "data": {
      "image/png": "[encoded data removed]",
      "text/plain": [
       "<Figure size 432x288 with 1 Axes>"
      ]
     },
     "metadata": {},
     "output_type": "display_data"
    }
   ],
   "source": [
    "### CREATE NEW SCATTER PLOTS PLOTTING OUR NEW BINARY CLASSIFIER AND EACH FEATURE LISTED ABOVE\n",
    "### BINARY CLASSIFIER VS ADVANCED DEGREES\n",
    "(dfMergedSet\n",
    " .plot\n",
    " .scatter(x='advance_dgr_pct', y='sch_percent_enrolled')\n",
    " .set(title='Percentage of Teachers with Advanced Degrees vs. % of students enrolled post high school',\n",
    "      xlabel='Teachers in % (0.0 to 1)',\n",
    "      ylabel='Students in % (0-100)'))\n",
    "### BINARY CLASSIFIER VS Flicensed_teach_pct\n",
    "(dfMergedSet\n",
    " .plot\n",
    " .scatter(x='flicensed_teach_pct', y='sch_percent_enrolled')\n",
    " .set(title='Percentage of Licensed Teachers vs. % of students enrolled post high school',\n",
    "      xlabel='Teachers in % (0.0 to 1)',\n",
    "      ylabel='Students in % (0-100)'))\n",
    "### BINARY CLASSIFIER VS Class_teach_num\n",
    "(dfMergedSet\n",
    " .plot\n",
    " .scatter(x='class_teach_num', y='sch_percent_enrolled')\n",
    " .set(title='Average number of teachers per school vs. % of students enrolled post high school',\n",
    "      xlabel='Number of Teachers',\n",
    "      ylabel='Students in % (0-100)'))"
   ]
  },
  {
   "cell_type": "code",
   "execution_count": null,
   "metadata": {},
   "outputs": [],
   "source": [
    "########################################################################################################\n",
    "############################### NEW PLOT ###############################################################\n",
    "########################################################################################################\n",
    "# This plot is the same but moved to Explore Attributes and Class since it relates to our desired response variable (% college enrolled)\n",
    "\n",
    "# Code adapted from https://stackoverflow.com/questions/23232989/boxplot-stratified-by-column-in-python-pandas\n",
    "breaks = np.asarray(np.percentile(dfMergedSet['% Enrolled in College by School'], [25,50,75,100]))\n",
    "dfMergedSet['Quartiles of % College Enrolled'] = (dfMergedSet['% Enrolled in College by School'].values > breaks[..., np.newaxis]).sum(0)\n",
    "ax = dfMergedSet.boxplot(column='% Licensed Teachers', by='Quartiles of % College Enrolled')\n",
    "ax.xaxis.set_ticklabels(['0-25%', '25-50%', '50-75%', '75-100%'])\n",
    "ax.set_xlabel('Quartiles of % College Enrolled')"
   ]
  },
  {
   "cell_type": "markdown",
   "metadata": {},
   "source": [
    "To look for differences in distributions of teacher attributes on the percentage of students who enrolled in college we broke this metric into quartiles. There is a clear trend in increasing median percentage of licensed teachers as the quartiles of the percent of students at those schools enrolled in college after graduation. The difference between the lowest and highest quartile is about an eight percent increase in teachers who were licensed. Interestingly, the variability decreases for the quartiles as they increase except for the highest quartile which has more variability than the second quartile even though its median is still higher."
   ]
  },
  {
   "cell_type": "code",
   "execution_count": null,
   "metadata": {},
   "outputs": [],
   "source": [
    "########################################################################################################\n",
    "############################### NEW PLOT ###############################################################\n",
    "########################################################################################################\n",
    "# This plot is the same but moved to Explore Attributes and Class since it relates to our desired response variable (% college enrolled)\n",
    "\n",
    "ax2 = dfMergedSet.boxplot(column='% 11+ Year Experience', by='Quartiles of % College Enrolled')\n",
    "ax2.xaxis.set_ticklabels(['0-25%', '25-50%', '50-75%', '75-100%'])\n",
    "ax2.set_xlabel('Quartiles of % College Enrolled')\n",
    "ax2.set_ylabel('% Teachers with 11+ Years Experience at a School')\n",
    "ax2.set_title('')"
   ]
  },
  {
   "cell_type": "markdown",
   "metadata": {},
   "source": [
    "To look for differences in distributions of teacher attributes on the percentage of students who enrolled in college we broke this metric into quartiles. While the median percentage of teachers who have 11+ years of experience increases from the last quartile (0-25%) of schools who have the lowest percent of students who enroll in college, the median stays very constant in the other three quartiles. The same trend is apparent in their variances as well."
   ]
  },
  {
   "cell_type": "markdown",
   "metadata": {},
   "source": [
    "# <span style=\"color: red; background-color: yellow; font-size: 26px\"> New Features </span>\n",
    "\n",
    "\n",
    "As we continued the exploratory analysis related to college enrollment and personnel, we discussed if there might be interesting trends if health data were incorporated into the analysis. With the advent of Fitbit and Apple Watch technology, people are actively monitoring personal health, and health trends are becoming more prevalent in discussions about business and society. Additionally, most schools have metrics related to physical education, which could be incorporated into the data set and analysis. Attributes such as average number of daily steps, number of times exercised per week, resting heart rate, and school recess vs. no recess, for both students and teachers, might be useful."
   ]
  },
  {
   "cell_type": "markdown",
   "metadata": {},
   "source": [
    "# Exceptional Work\n"
   ]
  },
  {
   "cell_type": "markdown",
   "metadata": {},
   "source": [
    "Our team initially started out exploring another data set from Kaggle – Data Science for Social Good: Kiva Crowdfunding. The Kaggle competition asked participants to build localized models to estimate poverty levels where Kiva is providing microloans. After initial exploratory analysis, we found that the data set was not robust enough to support building models due to a lack of clear response variables. Thus, we decided to change to the North Carolina Educational Attainment data. Much of work this week was focused on understanding and connecting the College Enrollment and Personnel data sets. We have additional work to do on the analysis of the resulting joint data."
   ]
  },
  {
   "cell_type": "code",
   "execution_count": null,
   "metadata": {},
   "outputs": [],
   "source": []
  },
  {
   "cell_type": "code",
   "execution_count": null,
   "metadata": {},
   "outputs": [],
   "source": [
    "# Let's give these better names\n",
    "colNames = {'year': 'Graduation Year', 'unit_code': 'School ID', 'category_cd': 'Grades Taught', \n",
    "            'total_class_teacher_num': 'No. Classroom Teachers', 'total_nbpts_num': 'No. Board Certified Teachers',\n",
    "            'School_Name': 'School Name', 'Lea_Name': 'District Name', 'State_Name': 'State Name', \n",
    "            'flicensed_teach_pct': '% Licensed Teachers', 'tchyrs_0thru3_pct': '% 0-3 Year Experience',\n",
    "            'tchyrs_4thru10_pct': '% 4-10 Year Experience', 'tchyrs_11plus_pct': '% 11+ Year Experience', \n",
    "            'class_teach_num': 'Avg. No. Classroom Teachers at School', \n",
    "            'nbpts_num': 'No. Board Certified Teachers at School', 'advance_dgr_pct': '% of Masters+ at School Level',\n",
    "            'sch_percent_enrolled': '% Enrolled in College by School', 'lea_percent_enrolled': '% Enrolled in College by District'}\n",
    "#dfMergedSet.rename(columns=colNames, inplace=True)"
   ]
  },
  {
   "cell_type": "code",
   "execution_count": null,
   "metadata": {},
   "outputs": [],
   "source": [
    "corrColumnNames = [ '% Licensed Teachers',\n",
    "                    '% 0-3 Year Experience',\n",
    "                    '% 4-10 Year Experience',\n",
    "                    '% 11+ Year Experience',\n",
    "                    'Avg. No. Classroom Teachers at School',\n",
    "                    'No. Board Certified Teachers at School',\n",
    "                    '% of Masters+ at School Level',\n",
    "                    '% Enrolled in College by School',\n",
    "                    '% Enrolled in College by District']"
   ]
  },
  {
   "cell_type": "code",
   "execution_count": null,
   "metadata": {},
   "outputs": [],
   "source": [
    "corrColNames = []\n",
    "for key, value in colNames.items():\n",
    "    if value in corrColumnNames:\n",
    "        print(\"Adding {}\".format(key))\n",
    "        corrColNames.append(key)"
   ]
  },
  {
   "cell_type": "code",
   "execution_count": null,
   "metadata": {},
   "outputs": [],
   "source": [
    "corrColNames"
   ]
  },
  {
   "cell_type": "code",
   "execution_count": null,
   "metadata": {},
   "outputs": [],
   "source": []
  }
 ],
 "metadata": {
  "kernelspec": {
   "display_name": "Python 3",
   "language": "python",
   "name": "python3"
  },
  "language_info": {
   "codemirror_mode": {
    "name": "ipython",
    "version": 3
   },
   "file_extension": ".py",
   "mimetype": "text/x-python",
   "name": "python",
   "nbconvert_exporter": "python",
   "pygments_lexer": "ipython3",
   "version": "3.6.5"
  }
 },
 "nbformat": 4,
 "nbformat_minor": 2
}
