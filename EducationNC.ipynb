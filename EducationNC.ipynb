{
 "cells": [
  {
   "cell_type": "code",
   "execution_count": null,
   "metadata": {},
   "outputs": [],
   "source": [
    "# https://stackoverflow.com/questions/38918653/pandas-invalid-literal-for-long-with-base-10-error\n",
    "# https://stackoverflow.com/questions/15325182/how-to-filter-rows-in-pandas-by-regex"
   ]
  },
  {
   "cell_type": "code",
   "execution_count": 1,
   "metadata": {},
   "outputs": [],
   "source": [
    "import pandas as pd\n",
    "import numpy as np"
   ]
  },
  {
   "cell_type": "code",
   "execution_count": 2,
   "metadata": {},
   "outputs": [
    {
     "name": "stdout",
     "output_type": "stream",
     "text": [
      "C:\\sandbox\\SMU\\dataMining\\7331DataMining\\EducationDataNC\\2017\\Raw Datasets\n"
     ]
    }
   ],
   "source": [
    "%cd \"C:\\sandbox\\SMU\\dataMining\\7331DataMining\\EducationDataNC\\2017\\Raw Datasets\"\n",
    "dfCollege = pd.read_csv(\"college-enrollment.csv\")\n",
    "dfTeachers = pd.read_csv(\"personnel.csv\")"
   ]
  },
  {
   "cell_type": "code",
   "execution_count": 5,
   "metadata": {},
   "outputs": [],
   "source": [
    "# Create a list of columns that are a specific data type\n",
    "nominal = ['graduation_year', 'unit_code', 'leaname', 'schname', 'status', 'subgroup', 'subgroup_name']\n",
    "continuous = ['schcount', 'leacount', 'seacount']\n",
    "ordinal = ['sch_percent_enrolled', 'lea_percent_enrolled', 'sea_percent_enrolled']\n",
    "\n",
    "# Convert data to correct data type\n",
    "dfCollege[nominal] = dfCollege[nominal].astype(object)\n",
    "dfCollege[continuous] = dfCollege[continuous].astype(float)\n",
    "dfCollege[ordinal] = dfCollege[ordinal].astype(float)"
   ]
  },
  {
   "cell_type": "code",
   "execution_count": 6,
   "metadata": {},
   "outputs": [],
   "source": [
    "# Only look at the overall total of students that enrolled in college\n",
    "# The dataset further divides it based on various categories which we can explore later\n",
    "dfCollegeAll = dfCollege[(dfCollege.subgroup == \"ALL\") & (dfCollege.status == \"ENROLL\")]\n",
    "\n",
    "# Remove schools identified by LEA and SEA unit_codes\n",
    "# Not sure why this grouping of schools is treated as an invidual school (warrants further investigation)\n",
    "dfCollegeAll = dfCollegeAll[~dfCollegeAll.unit_code.str.contains('LEA|SEA')]\n",
    "\n",
    "# Remove schools that didn't report number of students enrolled in college courses (warrents further investigation)\n",
    "dfCollegeAll = dfCollegeAll[~dfCollegeAll.schcount.isna()]\n",
    "dfCollegeAll = dfCollegeAll[~dfCollegeAll.leacount.isna()]"
   ]
  },
  {
   "cell_type": "code",
   "execution_count": 7,
   "metadata": {},
   "outputs": [
    {
     "name": "stdout",
     "output_type": "stream",
     "text": [
      "<class 'pandas.core.frame.DataFrame'>\n",
      "Int64Index: 489 entries, 0 to 12767\n",
      "Data columns (total 13 columns):\n",
      "graduation_year         489 non-null object\n",
      "unit_code               489 non-null object\n",
      "leaname                 489 non-null object\n",
      "schname                 489 non-null object\n",
      "status                  489 non-null object\n",
      "subgroup                489 non-null object\n",
      "subgroup_name           489 non-null object\n",
      "schcount                489 non-null float64\n",
      "leacount                489 non-null float64\n",
      "seacount                489 non-null float64\n",
      "sch_percent_enrolled    489 non-null float64\n",
      "lea_percent_enrolled    489 non-null float64\n",
      "sea_percent_enrolled    489 non-null float64\n",
      "dtypes: float64(6), object(7)\n",
      "memory usage: 53.5+ KB\n"
     ]
    }
   ],
   "source": [
    "dfCollegeAll.info()"
   ]
  },
  {
   "cell_type": "code",
   "execution_count": 8,
   "metadata": {},
   "outputs": [
    {
     "data": {
      "text/html": [
       "<div>\n",
       "<style scoped>\n",
       "    .dataframe tbody tr th:only-of-type {\n",
       "        vertical-align: middle;\n",
       "    }\n",
       "\n",
       "    .dataframe tbody tr th {\n",
       "        vertical-align: top;\n",
       "    }\n",
       "\n",
       "    .dataframe thead th {\n",
       "        text-align: right;\n",
       "    }\n",
       "</style>\n",
       "<table border=\"1\" class=\"dataframe\">\n",
       "  <thead>\n",
       "    <tr style=\"text-align: right;\">\n",
       "      <th></th>\n",
       "      <th>schcount</th>\n",
       "      <th>leacount</th>\n",
       "      <th>seacount</th>\n",
       "      <th>sch_percent_enrolled</th>\n",
       "      <th>lea_percent_enrolled</th>\n",
       "      <th>sea_percent_enrolled</th>\n",
       "    </tr>\n",
       "  </thead>\n",
       "  <tbody>\n",
       "    <tr>\n",
       "      <th>count</th>\n",
       "      <td>489.000000</td>\n",
       "      <td>489.000000</td>\n",
       "      <td>489.0</td>\n",
       "      <td>489.000000</td>\n",
       "      <td>489.000000</td>\n",
       "      <td>4.890000e+02</td>\n",
       "    </tr>\n",
       "    <tr>\n",
       "      <th>mean</th>\n",
       "      <td>102.321063</td>\n",
       "      <td>1148.576687</td>\n",
       "      <td>51362.0</td>\n",
       "      <td>51.284009</td>\n",
       "      <td>51.023298</td>\n",
       "      <td>5.198846e+01</td>\n",
       "    </tr>\n",
       "    <tr>\n",
       "      <th>std</th>\n",
       "      <td>80.984473</td>\n",
       "      <td>1486.836354</td>\n",
       "      <td>0.0</td>\n",
       "      <td>12.385215</td>\n",
       "      <td>6.873512</td>\n",
       "      <td>1.778176e-13</td>\n",
       "    </tr>\n",
       "    <tr>\n",
       "      <th>min</th>\n",
       "      <td>5.000000</td>\n",
       "      <td>18.000000</td>\n",
       "      <td>51362.0</td>\n",
       "      <td>13.157895</td>\n",
       "      <td>31.428571</td>\n",
       "      <td>5.198846e+01</td>\n",
       "    </tr>\n",
       "    <tr>\n",
       "      <th>25%</th>\n",
       "      <td>38.000000</td>\n",
       "      <td>252.000000</td>\n",
       "      <td>51362.0</td>\n",
       "      <td>43.750000</td>\n",
       "      <td>48.443157</td>\n",
       "      <td>5.198846e+01</td>\n",
       "    </tr>\n",
       "    <tr>\n",
       "      <th>50%</th>\n",
       "      <td>87.000000</td>\n",
       "      <td>644.000000</td>\n",
       "      <td>51362.0</td>\n",
       "      <td>52.325581</td>\n",
       "      <td>51.403721</td>\n",
       "      <td>5.198846e+01</td>\n",
       "    </tr>\n",
       "    <tr>\n",
       "      <th>75%</th>\n",
       "      <td>140.000000</td>\n",
       "      <td>1178.000000</td>\n",
       "      <td>51362.0</td>\n",
       "      <td>59.200000</td>\n",
       "      <td>54.686947</td>\n",
       "      <td>5.198846e+01</td>\n",
       "    </tr>\n",
       "    <tr>\n",
       "      <th>max</th>\n",
       "      <td>423.000000</td>\n",
       "      <td>5844.000000</td>\n",
       "      <td>51362.0</td>\n",
       "      <td>89.583333</td>\n",
       "      <td>67.379679</td>\n",
       "      <td>5.198846e+01</td>\n",
       "    </tr>\n",
       "  </tbody>\n",
       "</table>\n",
       "</div>"
      ],
      "text/plain": [
       "         schcount     leacount  seacount  sch_percent_enrolled  \\\n",
       "count  489.000000   489.000000     489.0            489.000000   \n",
       "mean   102.321063  1148.576687   51362.0             51.284009   \n",
       "std     80.984473  1486.836354       0.0             12.385215   \n",
       "min      5.000000    18.000000   51362.0             13.157895   \n",
       "25%     38.000000   252.000000   51362.0             43.750000   \n",
       "50%     87.000000   644.000000   51362.0             52.325581   \n",
       "75%    140.000000  1178.000000   51362.0             59.200000   \n",
       "max    423.000000  5844.000000   51362.0             89.583333   \n",
       "\n",
       "       lea_percent_enrolled  sea_percent_enrolled  \n",
       "count            489.000000          4.890000e+02  \n",
       "mean              51.023298          5.198846e+01  \n",
       "std                6.873512          1.778176e-13  \n",
       "min               31.428571          5.198846e+01  \n",
       "25%               48.443157          5.198846e+01  \n",
       "50%               51.403721          5.198846e+01  \n",
       "75%               54.686947          5.198846e+01  \n",
       "max               67.379679          5.198846e+01  "
      ]
     },
     "execution_count": 8,
     "metadata": {},
     "output_type": "execute_result"
    }
   ],
   "source": [
    "dfCollegeAll.describe()"
   ]
  },
  {
   "cell_type": "code",
   "execution_count": null,
   "metadata": {},
   "outputs": [],
   "source": []
  }
 ],
 "metadata": {
  "kernelspec": {
   "display_name": "Python 3",
   "language": "python",
   "name": "python3"
  },
  "language_info": {
   "codemirror_mode": {
    "name": "ipython",
    "version": 3
   },
   "file_extension": ".py",
   "mimetype": "text/x-python",
   "name": "python",
   "nbconvert_exporter": "python",
   "pygments_lexer": "ipython3",
   "version": "3.6.6"
  }
 },
 "nbformat": 4,
 "nbformat_minor": 2
}
