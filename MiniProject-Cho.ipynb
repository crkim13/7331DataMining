{
 "cells": [
  {
   "cell_type": "markdown",
   "metadata": {},
   "source": [
    "# Mini-Project: SVM & LR Classification\n",
    "### Ryan Bass, Brett Benefield, Cho Kim, Nicole Wittlin\n",
    "\n",
    "<span style=\"color: blue\">Remove all blue text before submitting</span>\n",
    "\n",
    "<a id=\"top\"></a>\n",
    "## Contents\n",
    "* <a href=\"#Create\">Create Models</a>\n",
    "    * <a href=\"#Prep\">Data Preparation</a>\n",
    "    * <a href=\"#LR\">Logistic Regression Model</a>\n",
    "    * <a href=\"#SVM\">Support Vector Machine Model</a>\n",
    "* <a href=\"#Model\">Model Advantages</a>\n",
    "* <a href=\"#Interpret\">Interpret Feature Importance</a>\n",
    "* <a href=\"#Support\">Interpret Support Vectors</a>"
   ]
  },
  {
   "cell_type": "code",
   "execution_count": 67,
   "metadata": {},
   "outputs": [],
   "source": [
    "%matplotlib inline\n",
    "import seaborn as sns\n",
    "import warnings\n",
    "\n",
    "warnings.filterwarnings(\"ignore\")\n",
    "\n",
    "cmap = sns.diverging_palette(220, 10, as_cmap=True) # one of the many color mappings\n",
    "\n",
    "import pandas as pd\n",
    "import numpy as np\n",
    "import matplotlib.pyplot as plt\n",
    "from datetime import datetime\n",
    "from pandas.plotting import scatter_matrix\n",
    "from IPython.display import HTML, display\n",
    "from sklearn.preprocessing import StandardScaler\n",
    "from sklearn.feature_selection import VarianceThreshold, SelectPercentile, SelectKBest, chi2, f_classif\n",
    "from sklearn.metrics import classification_report, confusion_matrix, roc_curve\n",
    "from sklearn.feature_extraction.text import CountVectorizer\n",
    "from sklearn.model_selection import train_test_split, GridSearchCV, ShuffleSplit, cross_val_score\n",
    "from sklearn.linear_model import LogisticRegression\n",
    "from sklearn.svm import SVC\n",
    "from sklearn import metrics as mt"
   ]
  },
  {
   "cell_type": "markdown",
   "metadata": {},
   "source": [
    "### Supporting Functions"
   ]
  },
  {
   "cell_type": "code",
   "execution_count": 68,
   "metadata": {},
   "outputs": [],
   "source": [
    "# Source: https://medium.com/@aneesha/visualising-top-features-in-linear-svm-with-scikit-learn-and-matplotlib-3454ab18a14d\n",
    "def plot_coefficients(classifier, feature_names, top_features=20):\n",
    "    coef = classifier.coef_.ravel()\n",
    "    top_positive_coefficients = np.argsort(coef)[-top_features:]\n",
    "    top_negative_coefficients = np.argsort(coef)[:top_features]\n",
    "    top_coefficients = np.hstack([top_negative_coefficients, top_positive_coefficients])\n",
    "    # create plot\n",
    "    plt.figure(figsize=(15, 5))\n",
    "    colors = [\"red\" if c < 0 else \"blue\" for c in coef[top_coefficients]]\n",
    "    plt.bar(np.arange(2 * top_features), coef[top_coefficients], color=colors)\n",
    "    feature_names = np.array(feature_names)\n",
    "    plt.xticks(np.arange(1, 1 + 2 * top_features), feature_names[top_coefficients], rotation=60, ha=\"right\")\n",
    "    plt.show()\n",
    "    \n",
    "def getTopCoefficients(classifier, feature_names, top_features=20):\n",
    "    coef = classifier.coef_.ravel()\n",
    "    top_positive_coefficients = np.argsort(coef)[-top_features:]\n",
    "    top_negative_coefficients = np.argsort(coef)[:top_features]\n",
    "    top_coefficients = np.hstack([top_negative_coefficients, top_positive_coefficients])\n",
    "    feature_names = np.array(feature_names)\n",
    "    return feature_names[top_coefficients]\n",
    "\n",
    "# Source: https://stackoverflow.com/questions/39812885/retain-feature-names-after-scikit-feature-selection\n",
    "def percentile_threshold_selector(data, percent=10):\n",
    "    selector = SelectPercentile(f_classif, percentile = percent)\n",
    "    selector.fit(data)\n",
    "    return data[data.columns[selector.get_support(indices=True)]]\n",
    "\n",
    "def scale_data(data):\n",
    "    temp = scaler.fit(data)\n",
    "    data = pd.DataFrame(temp, columns = data.columns)\n",
    "    return data\n",
    "\n",
    "# https://stackoverflow.com/questions/17778394/list-highest-correlation-pairs-from-a-large-correlation-matrix-in-pandas\n",
    "def get_redundant_pairs(df):\n",
    "    '''Get diagonal and lower triangular pairs of correlation matrix'''\n",
    "    pairs_to_drop = set()\n",
    "    cols = df.columns\n",
    "    for i in range(0, df.shape[1]):\n",
    "        for j in range(0, i+1):\n",
    "            pairs_to_drop.add((cols[i], cols[j]))\n",
    "    return pairs_to_drop\n",
    "\n",
    "def get_top_abs_correlations(df, n=5):\n",
    "    au_corr = df.corr().abs().unstack()\n",
    "    labels_to_drop = get_redundant_pairs(df)\n",
    "    au_corr = au_corr.drop(labels=labels_to_drop).sort_values(ascending=False)\n",
    "    return au_corr[0:n]"
   ]
  },
  {
   "cell_type": "code",
   "execution_count": 69,
   "metadata": {},
   "outputs": [],
   "source": [
    "verboseStatus = False"
   ]
  },
  {
   "cell_type": "code",
   "execution_count": 70,
   "metadata": {},
   "outputs": [
    {
     "name": "stdout",
     "output_type": "stream",
     "text": [
      "/Users/chostone/Documents/Data Mining/7331DataMining/EducationDataNC/2017/Machine Learning Datasets\n",
      "********* Initial Values Before Cleaning *******************\n",
      "<class 'pandas.core.frame.DataFrame'>\n",
      "RangeIndex: 470 entries, 0 to 469\n",
      "Columns: 403 entries, student_num to unit_code\n",
      "dtypes: float64(322), int64(81)\n",
      "memory usage: 1.4 MB\n"
     ]
    }
   ],
   "source": [
    "# Brett's directory\n",
    "# Desktop\n",
    "# %cd \"C:\\Sandbox\\SMU\\dataMining\\ChoRepo\\EducationDataNC\\2017\\Machine Learning Datasets\"\n",
    "# Laptop\n",
    "#%cd \"C:\\sandbox\\SMU\\dataMining\\choNotebook\\EducationDataNC\\2017\\Machine Learning Datasets\"\n",
    "\n",
    "# Ryan's directory\n",
    "#%cd \"C:\\Users\\Clovis\\Documents\\7331DataMining\\EducationDataNC\\2017\\Machine Learning Datasets\"\n",
    "\n",
    "# Cho's directory.\n",
    "%cd \"/Users/chostone/Documents/Data Mining/7331DataMining/EducationDataNC/2017/Machine Learning Datasets\"\n",
    "\n",
    "# NW directorY \n",
    "#%cd \"C:\\Users\\Nicole Wittlin\\Documents\\7331DataMining\\EducationDataNC\\2017\\Raw Datasets\"\n",
    "dfPublicHS = pd.read_csv(\"PublicHighSchools2017_ML.csv\")\n",
    "\n",
    "print('********* Initial Values Before Cleaning *******************')\n",
    "dfPublicHS.info(verbose = verboseStatus)"
   ]
  },
  {
   "cell_type": "markdown",
   "metadata": {},
   "source": [
    "<a id=\"Create\"></a>\n",
    "<a href=\"#top\">Back to Top</a>\n",
    "## Create Models (50 points)\n",
    "\n",
    "<a id=\"Prep\"></a>\n",
    "### Data Preparation"
   ]
  },
  {
   "cell_type": "markdown",
   "metadata": {},
   "source": [
    "There are 403 columns in our dataset. We dropped any columns that have zero variance and only dropped one column. We also wanted to remove highly correlated variables to reduce multi-collinearity. For a Pearson R threshold of 0.8, we removed any variables where the `r` value was greater than `0.8`. As a result, we dropped 124 highly correlated variables in the code blocks below. We used the dropped columns dataset to build our logistic regression model and for our initial SVM model to compare the performance between the two models. We will talk about the model performance later on in our notebook."
   ]
  },
  {
   "cell_type": "code",
   "execution_count": 71,
   "metadata": {},
   "outputs": [
    {
     "name": "stdout",
     "output_type": "stream",
     "text": [
      "Columns Dropped: 1\n"
     ]
    }
   ],
   "source": [
    "# Credit: https://www.kaggle.com/saravanann/santander\n",
    "# Drop any columns that have zero variance\n",
    "totalColNum = dfPublicHS.shape[1]\n",
    "sel = VarianceThreshold()\n",
    "sel.fit(dfPublicHS)\n",
    "\n",
    "keepCols = sel.get_support(indices=True)\n",
    "dfColIndex = np.arange(dfPublicHS.columns.size)\n",
    "dropCol = np.delete(dfColIndex, keepCols)\n",
    "dfPublicHS = dfPublicHS.drop(dfPublicHS.columns[dropCol], axis = 1)\n",
    "\n",
    "print(\"Columns Dropped: {}\".format(len(dropCol)))"
   ]
  },
  {
   "cell_type": "code",
   "execution_count": 72,
   "metadata": {},
   "outputs": [],
   "source": [
    "# Create correlation matrix\n",
    "dfCorr = dfPublicHS.corr('pearson').abs()"
   ]
  },
  {
   "cell_type": "code",
   "execution_count": 73,
   "metadata": {},
   "outputs": [
    {
     "name": "stdout",
     "output_type": "stream",
     "text": [
      "['lea_state_perpupil_num', '4-Year Cohort Graduation Rate Score', 'ACTMath_ACTBenchmark_All', 'ACTScience_ACTBenchmark_All', 'ACTWorkKeys_SilverPlus_All', 'ACTWriting_ACTBenchmark_All', 'EOCSubjects_CACR_All', 'ACTCompositeScore_UNCMin_Female', 'ACTEnglish_ACTBenchmark_Female', 'ACTMath_ACTBenchmark_Female', 'ACTReading_ACTBenchmark_Female', 'ACTScience_ACTBenchmark_Female', 'ACTWorkKeys_SilverPlus_Female', 'EOCBiology_CACR_Female', 'EOCEnglish2_CACR_Female', 'GraduationRate_5yr_Female', 'ACTCompositeScore_UNCMin_Male', 'ACTMath_ACTBenchmark_Male', 'ACTScience_ACTBenchmark_Male', 'ACTWorkKeys_SilverPlus_Male', 'ACTWriting_ACTBenchmark_Male', 'EOCBiology_CACR_Male', 'EOCEnglish2_CACR_Male', 'EOCMathI_CACR_Male', 'ACTMath_ACTBenchmark_AmericanIndian', 'ACTWorkKeys_SilverPlus_AmericanIndian', 'ACTWriting_ACTBenchmark_AmericanIndian', 'EOCBiology_CACR_AmericanIndian', 'EOCEnglish2_CACR_AmericanIndian', 'EOCMathI_CACR_AmericanIndian', 'GraduationRate_4yr_AmericanIndian', 'ACTWriting_ACTBenchmark_Asian', 'EOCEnglish2_CACR_Asian', 'EOCMathI_CACR_Asian', 'ACTEnglish_ACTBenchmark_Black', 'ACTMath_ACTBenchmark_Black', 'ACTReading_ACTBenchmark_Black', 'ACTScience_ACTBenchmark_Black', 'ACTWriting_ACTBenchmark_Black', 'GraduationRate_5yr_Black', 'ACTEnglish_ACTBenchmark_Hispanic', 'ACTMath_ACTBenchmark_Hispanic', 'ACTReading_ACTBenchmark_Hispanic', 'ACTScience_ACTBenchmark_Hispanic', 'ACTWriting_ACTBenchmark_Hispanic', 'ACTMath_ACTBenchmark_TwoorMoreRaces', 'ACTReading_ACTBenchmark_TwoorMoreRaces', 'ACTScience_ACTBenchmark_TwoorMoreRaces', 'ACTWriting_ACTBenchmark_TwoorMoreRaces', 'EOCEnglish2_CACR_TwoorMoreRaces', 'ACTMath_ACTBenchmark_White', 'ACTScience_ACTBenchmark_White', 'ACTSubtests_BenchmarksMet_White', 'ACTWorkKeys_SilverPlus_White', 'ACTWriting_ACTBenchmark_White', 'EOCMathI_CACR_White', 'EOCSubjects_CACR_White', 'ACTEnglish_ACTBenchmark_EDS', 'ACTMath_ACTBenchmark_EDS', 'ACTReading_ACTBenchmark_EDS', 'ACTScience_ACTBenchmark_EDS', 'ACTSubtests_BenchmarksMet_EDS', 'ACTWorkKeys_SilverPlus_EDS', 'EOCEnglish2_CACR_EDS', 'EOCMathI_CACR_EDS', 'EOCSubjects_CACR_EDS', 'ACTEnglish_ACTBenchmark_LEP', 'ACTMath_ACTBenchmark_LEP', 'ACTReading_ACTBenchmark_LEP', 'ACTScience_ACTBenchmark_LEP', 'EOCBiology_GLP_LEP', 'EOCEnglish2_GLP_LEP', 'EOCMathI_GLP_LEP', 'EOCSubjects_GLP_LEP', 'EOG/EOCSubjects_GLP_LEP', 'ACTEnglish_ACTBenchmark_SWD', 'ACTReading_ACTBenchmark_SWD', 'ACTScience_ACTBenchmark_SWD', 'EOCBiology_GLP_SWD', 'EOCEnglish2_GLP_SWD', 'EOCMathI_GLP_SWD', 'EOCSubjects_GLP_SWD', 'EOG/EOCSubjects_CACR_SWD', 'EOG/EOCSubjects_GLP_SWD', 'GraduationRate_5yr_SWD', 'ACTMath_ACTBenchmark_AIG', 'ACTScience_ACTBenchmark_AIG', 'ACTWriting_ACTBenchmark_AIG', 'ReadingGr10_pTarget_PctMet', 'lea_total_specialized_courses', 'st_total_specialized_courses', 'F_Female_ENROLL_sch_pct', 'M_Male_ENROLL_sch_pct', 'st_short_susp_per_c_num', 'wap_num', 'Accomplished_TCHR_Standard 3_Pct', 'Distinguished_TCHR_Standard 3_Pct', 'Distinguished_TCHR_Standard 4_Pct', 'Distinguished_TCHR_Standard 5_Pct', 'Not Demostrated_TCHR_Standard 5_Pct', 'Proficient_TCHR_Standard 2_Pct', 'Proficient_TCHR_Standard 3_Pct', 'Proficient_TCHR_Standard 4_Pct', 'Proficient_TCHR_Standard 5_Pct', 'AsianMalePct', 'BlackFemalePct', 'BlackPct', 'HispanicPct', 'MinorityFemalePct', 'MinorityMalePct', 'MinorityPct', 'PacificIslandPct', 'TwoOrMorePct', 'Gr_9_Pct_Prof', 'MRKT_Concentrator_Ct', 'Math SPG Grade_D', 'State Gap Compared_Y', 'grades_1_to_1_access_6:7:8:9:10:11:12', 'SRC_devices_sent_home_Yes', 'SRC_Grades_Devices_Sent_Home_6:07:08', 'SRC_Grades_Devices_Sent_Home_6:7:8:9:10:11:12:13', 'SRC_Grades_Devices_Sent_Home_9:10:11', 'SRC_Grades_Devices_Sent_Home_9:10:11:12', 'SRC_Grades_Devices_Sent_Home_9:10:11:12:13']\n",
      "Columns dropped: 124\n"
     ]
    }
   ],
   "source": [
    "## source for code below: https://chrisalbon.com/machine_learning/feature_selection/drop_highly_correlated_features/ ##\n",
    "\n",
    "# Select upper triangle of correlation matrix\n",
    "upper = dfCorr.where(np.triu(np.ones(dfCorr.shape), k=1).astype(np.bool))\n",
    "\n",
    "# Find index of feature columns with correlation greater than 0.8\n",
    "to_drop = [column for column in upper.columns if any(upper[column] > 0.8)]\n",
    "\n",
    "# Drop Columns\n",
    "dfDropped = dfPublicHS.drop(columns = to_drop, axis = 1)\n",
    "\n",
    "print(to_drop)\n",
    "print(\"Columns dropped: {}\".format(len(to_drop)))"
   ]
  },
  {
   "cell_type": "markdown",
   "metadata": {},
   "source": [
    "We performed some data preparation before running our logistic regression and SVM models. Since our target variable is a continuous variable, we needed to split the target variable evenly into a binary response so our data was split at the median. We created a new variable called `schoolPctTarget` and assigned a value of `1` to schools with students enrolled in a postsecondary institution greater or equal to the median value (52.18%) and `0` to schools with less than the median value of 52.18%.\n",
    "\n",
    "It is important to create a split dataset so we do not train a model that is better at classifying one side than the other therefore, we want our model to be trained on both binary values. "
   ]
  },
  {
   "cell_type": "code",
   "execution_count": 42,
   "metadata": {},
   "outputs": [
    {
     "name": "stdout",
     "output_type": "stream",
     "text": [
      "235 of 470: 50.0%\n"
     ]
    }
   ],
   "source": [
    "# Evenly split our target variable (predict whether a school will have 52% postsecondary enrollment)\n",
    "splitLimit = dfDropped['ALL_All Students (Total or Subtotal_ENROLL_sch_pct'].median()\n",
    "\n",
    "dfDropped['schoolPctTarget'] = np.where(dfDropped['ALL_All Students (Total or Subtotal_ENROLL_sch_pct'] >= splitLimit, 1, 0)\n",
    "\n",
    "print(\"{} of {}: {}%\".format(dfDropped['schoolPctTarget'].sum(), dfDropped.shape[0], \n",
    "                             round(dfDropped['schoolPctTarget'].sum()/dfDropped.shape[0] * 100,2)))"
   ]
  },
  {
   "cell_type": "code",
   "execution_count": 43,
   "metadata": {},
   "outputs": [],
   "source": [
    "y = dfDropped['schoolPctTarget']"
   ]
  },
  {
   "cell_type": "markdown",
   "metadata": {},
   "source": [
    "# ADD STUFF ABOUT 80/20 SPLIT"
   ]
  },
  {
   "cell_type": "code",
   "execution_count": 44,
   "metadata": {},
   "outputs": [],
   "source": [
    "# Drop these columns because they contain the answer we are trying to predict\n",
    "dropCols = dfDropped.filter(regex = r'sch_pct')\n",
    "\n",
    "dfDropped.drop(dropCols, axis = 1, inplace = True)"
   ]
  },
  {
   "cell_type": "code",
   "execution_count": 45,
   "metadata": {},
   "outputs": [
    {
     "name": "stdout",
     "output_type": "stream",
     "text": [
      "ShuffleSplit(n_splits=10, random_state=None, test_size=0.2, train_size=None)\n"
     ]
    }
   ],
   "source": [
    "# to use the cross validation object in scikit learn, we need to grab an instance\n",
    "#    of the object and set it up. This object will be able to split our data into \n",
    "#    training and testing splits\n",
    "num_cv_iterations = 10\n",
    "num_instances = len(y)\n",
    "cv_object = ShuffleSplit(n_splits=num_cv_iterations,\n",
    "                         test_size  = 0.2)\n",
    "                         \n",
    "print(cv_object)"
   ]
  },
  {
   "cell_type": "code",
   "execution_count": 46,
   "metadata": {},
   "outputs": [],
   "source": [
    "maxCols = dfDropped.shape[1]\n",
    "X = dfDropped.iloc[:,0:maxCols-2]"
   ]
  },
  {
   "cell_type": "code",
   "execution_count": 47,
   "metadata": {},
   "outputs": [],
   "source": [
    "# Create a test and train dataset with an 80/20 split\n",
    "xTrain, xTest, yTrain, yTest = train_test_split(X.astype(np.float), y, test_size = 0.2)\n",
    "\n",
    "# Scale data after splitting out test data\n",
    "scaler = StandardScaler()\n",
    "scaler.fit(xTrain)\n",
    "xTrain = scaler.transform(xTrain)\n",
    "xTest = scaler.transform(xTest)"
   ]
  },
  {
   "cell_type": "code",
   "execution_count": 48,
   "metadata": {},
   "outputs": [],
   "source": [
    "# This cell needs to be moved but for now I'm going to put it here\n",
    "xTrainLR = xTrain\n",
    "xTestLR = xTest\n",
    "yTrainLR = yTrain\n",
    "yTestLR = yTest"
   ]
  },
  {
   "cell_type": "markdown",
   "metadata": {},
   "source": [
    "<a id = \"LR\"></a>\n",
    "## Logistic Regression?"
   ]
  },
  {
   "cell_type": "code",
   "execution_count": 49,
   "metadata": {},
   "outputs": [
    {
     "name": "stdout",
     "output_type": "stream",
     "text": [
      "accuracy 0.6276595744680851\n",
      "confusion matrix\n",
      " [[30 19]\n",
      " [16 29]]\n",
      "Accuracy: 0.65 (+/- 0.07)\n"
     ]
    }
   ],
   "source": [
    "# first we create a reusable logisitic regression object\n",
    "#   here we can setup the object with different learning parameters and constants\n",
    "lr_clf = LogisticRegression(penalty='l1', C=1.0, class_weight=None) # get object\n",
    "\n",
    "# now we can use the cv_object that we setup before to iterate through the \n",
    "#    different training and testing sets. Each time we will reuse the logisitic regression \n",
    "#    object, but it gets trained on different data each time we use it.\n",
    "\n",
    "#iter_num=0\n",
    "# the indices are the rows used for training and testing in each iteration\n",
    "#for train_indices, test_indices in cv_object.split(X,y): \n",
    "    # I will create new variables here so that it is more obvious what \n",
    "    # the code is doing (you can compact this syntax and avoid duplicating memory,\n",
    "    # but it makes this code less readable)\n",
    "#    X_train = X[train_indices]\n",
    "#    y_train = y[train_indices]\n",
    "    \n",
    "#    X_test = X[test_indices]\n",
    "#    y_test = y[test_indices]\n",
    "    \n",
    "    # train the reusable logisitc regression model on the training data\n",
    "lr_clf.fit(X, y)  # train object\n",
    "y_hat = lr_clf.predict(xTest) # get test set precitions\n",
    "\n",
    "    # now let's get the accuracy and confusion matrix for this iterations of training/testing\n",
    "acc = mt.accuracy_score(yTest,y_hat)\n",
    "conf = mt.confusion_matrix(yTest,y_hat)\n",
    "print(\"accuracy\", acc )\n",
    "print(\"confusion matrix\\n\",conf)\n",
    "\n",
    "scores = cross_val_score(lr_clf, X, y, cv=cv_object)\n",
    "\n",
    "print(\"Accuracy: %0.2f (+/- %0.2f)\" % (scores.mean(), scores.std() * 2))\n",
    "\n",
    "# Also note that every time you run the above code\n",
    "#   it randomly creates a new training and testing set, \n",
    "#   so accuracy will be different each time"
   ]
  },
  {
   "cell_type": "code",
   "execution_count": 50,
   "metadata": {},
   "outputs": [
    {
     "name": "stdout",
     "output_type": "stream",
     "text": [
      "accuracy: 0.7127659574468085\n",
      "[[34 15]\n",
      " [12 33]]\n",
      "TwoOrMoreFemalePct has weight of -0.351153295921621\n",
      "pct_eds has weight of -0.2641389216379215\n",
      "PacificIslandFemalePct has weight of -0.26154641664378525\n",
      "GraduationRate_4yr_SWD has weight of -0.22653495571580592\n",
      "lea_advance_dgr_pct has weight of -0.22607529690702902\n",
      "stud_internet_comp_num has weight of -0.19737579450979073\n",
      "Accomplished_TCHR_Standard 5_Pct has weight of -0.19712519833006897\n",
      "cte_courses has weight of -0.18277056929129568\n",
      "calendar_type_txt_Regular School, Year-Round Calendar has weight of -0.17215728627334437\n",
      "grade_range_cd_PK-12 has weight of -0.1690745395560426\n",
      "MathGr10_pTarget_PctMet has weight of -0.16838655129375932\n",
      "GraduationRate_5yr_EDS has weight of -0.16535591104541253\n",
      "GraduationRate_5yr_LEP has weight of -0.16167696104106302\n",
      "grades_1_to_1_access_6:07:08 has weight of -0.1608282305934419\n",
      "GraduationRate_4yr_LEP has weight of -0.1558720826249102\n",
      "GraduationRate_4yr_Hispanic has weight of -0.1552652700105611\n",
      "HispanicMalePct has weight of -0.15349455091761435\n",
      "HispanicFemalePct has weight of -0.152226167109331\n",
      "EOCSubjects_CACR_AIG has weight of -0.15165117928438912\n",
      "EOCEnglish2_CACR_SWD has weight of -0.14695803768169524\n",
      "grades_1_to_1_access_11:12 has weight of -0.1451134295938081\n",
      "Not Demostrated_TCHR_Standard 4_Pct has weight of -0.13722091488071728\n",
      "lea_wap_num has weight of -0.13364627023405695\n",
      "TwoOrMoreMalePct has weight of -0.13100613768452588\n",
      "GraduationRate_4yr_Asian has weight of -0.1272662624418106\n",
      "tchyrs_4thru10_pct has weight of -0.12369135502601879\n",
      "ACT_pTarget_PctMet has weight of -0.12048285432924996\n",
      "grades_BYOD_12 has weight of -0.11898525325374931\n",
      "grade_range_cd_8-12 has weight of -0.11724569175434586\n",
      "ACTSubtests_BenchmarksMet_AmericanIndian has weight of -0.11158109566917013\n",
      "Number_Industry_Recognized_Crede has weight of -0.11029794696633001\n",
      "total_specialized_courses has weight of -0.10973056455641354\n",
      "ACTCompositeScore_UNCMin_Asian has weight of -0.10963709399199131\n",
      "ACTWorkKeys_SilverPlus_SWD has weight of -0.10828799159137599\n",
      "avg_age_media_collection has weight of -0.10766283161636157\n",
      "BMA_Concentrator_Ct has weight of -0.10658945826167175\n",
      "CurrentYearEOC_pTarget_PctMet has weight of -0.10544134605343296\n",
      "EVAAS Growth Score has weight of -0.10506037236612177\n",
      "Biology_Size has weight of -0.10416411251193518\n",
      "lea_services_expense_pct has weight of -0.10409516219063442\n",
      "grades_BYOD_PK:9:10:11:12 has weight of -0.10000076600782536\n",
      "ACTSubtests_BenchmarksMet_AIG has weight of -0.09586165898174974\n",
      "EOCEnglish2_CACR_White has weight of -0.09251145658196296\n",
      "crime_per_c_num has weight of -0.09191963874668457\n",
      "lea_crime_per_c_num has weight of -0.09117987536811567\n",
      "long_susp_per_c_num has weight of -0.09023847529984383\n",
      "TRAN_Concentrator_Ct has weight of -0.08819721828401932\n",
      "digital_media_pct has weight of -0.08726765938416725\n",
      "ACTWorkKeys_SilverPlus_TwoorMoreRaces has weight of -0.08656491078600699\n",
      "10+ Years_LEA_Exp_Pct_Prin has weight of -0.08616059671665663\n",
      "EOCEnglish2_CACR_LEP has weight of -0.08377806885518146\n",
      "grade_range_cd_9-9 has weight of -0.08329683091805462\n",
      "ACTSubtests_BenchmarksMet_SWD has weight of -0.08253425737226919\n",
      "11_Size has weight of -0.08038241828503964\n",
      "GraduationRate_5yr_Hispanic has weight of -0.07953349047616064\n",
      "SBE District_Southwest has weight of -0.07609923764595039\n",
      "grades_1_to_1_access_9:10:11:12:13 has weight of -0.07595102440117611\n",
      "ACTCompositeScore_UNCMin_SWD has weight of -0.07390933810679105\n",
      "EOCEnglish2_CACR_Black has weight of -0.07198068370394077\n",
      "lea_cte_courses has weight of -0.06995871138332728\n",
      "lea_sat_participation_pct has weight of -0.06925254177422989\n",
      "Does Not Meet Expected Growth_TCHR_Student Growth_Pct has weight of -0.06918615707116518\n",
      "grade_range_cd_7-12 has weight of -0.06904157819960398\n",
      "SRC_Grades_Devices_Sent_Home_10:11:12 has weight of -0.06794564640050463\n",
      "lea_total_expense_num has weight of -0.0675396716471101\n",
      "wap_per_classroom has weight of -0.06751933179953583\n",
      "grade_range_cd_6-12 has weight of -0.06654321063636819\n",
      "st_crime_per_c_num has weight of -0.06582023849332545\n",
      "lea_books_per_student has weight of -0.06322446037737714\n",
      "lea_instruct_equip_exp_pct has weight of -0.062309159334816865\n",
      "grade_range_cd_9-11 has weight of -0.060805042503536036\n",
      "SRC_Grades_Devices_Sent_Home_9:10:12 has weight of -0.060522537190050935\n",
      "NC Math 1 Score has weight of -0.06048869515268458\n",
      "grades_BYOD_8:9:10:11:12 has weight of -0.05941702535773944\n",
      "grades_1_to_1_access_6:7:8:9:10:11:12:13 has weight of -0.05631878758931502\n",
      "grades_BYOD_9:10:11 has weight of -0.055417167151456406\n",
      "SPG Grade_C has weight of -0.05473025991519288\n",
      "09_Size has weight of -0.05375799931727982\n",
      "ACTCompositeScore_UNCMin_Black has weight of -0.052588141434086785\n",
      "lea_local_perpupil_num has weight of -0.05187817955325526\n",
      "ARCH_Concentrator_Ct has weight of -0.05163694618494979\n",
      "Reading SPG Grade_C has weight of -0.05040222082768074\n",
      "grades_1_to_1_access_9 has weight of -0.04936857054194473\n",
      "EOCBiology_CACR_TwoorMoreRaces has weight of -0.049209056216922176\n",
      "grades_BYOD_11:12:13 has weight of -0.04764143238214403\n",
      "esea_status_P has weight of -0.04675369658770041\n",
      "Reading SPG Grade_D has weight of -0.04648646613950829\n",
      "Distinguished_TCHR_Standard 1_Pct has weight of -0.04638590380277771\n",
      "_1_to_1_access_Yes has weight of -0.045402057068127874\n",
      "SRC_Grades_Devices_Sent_Home_10:11:12:13 has weight of -0.04448554911031587\n",
      "grades_1_to_1_access_9:10 has weight of -0.043465339568227054\n",
      "Proficient_TCHR_Standard 1_Pct has weight of -0.043308290847514364\n",
      "advance_dgr_pct has weight of -0.04314607101162427\n",
      "lea_ap_participation_pct has weight of -0.0426240378967779\n",
      "books_per_student has weight of -0.04225989585485576\n",
      "EOCMathI_CACR_SWD has weight of -0.04156269217150413\n",
      "AsianFemalePct has weight of -0.03919228697910334\n",
      "Developing_TCHR_Standard 4_Pct has weight of -0.03817692191669777\n",
      "lea_tchyrs_0thru3_pct has weight of -0.03814149731366226\n",
      "EOCSubjects_CACR_SWD has weight of -0.03677756664142681\n",
      "grades_BYOD_11:12 has weight of -0.03629222384790128\n",
      "Math SPG Grade_C has weight of -0.03620780755057491\n",
      "EOCBiology_CACR_White has weight of -0.035686042295083896\n",
      "Not Demostrated_TCHR_Standard 1_Pct has weight of -0.03350943486337122\n",
      "EOCBiology_CACR_SWD has weight of -0.03299323378423996\n",
      "Accomplished_TCHR_Standard 2_Pct has weight of -0.03220061977185338\n",
      "grades_BYOD_6:7:8:9:10:11:12 has weight of -0.02993952076623657\n",
      "EOCMathI_CACR_TwoorMoreRaces has weight of -0.028224621638608668\n",
      "GraduationRate_5yr_Asian has weight of -0.026251990228289883\n",
      "grades_1_to_1_access_11:12:13 has weight of -0.02571195659760418\n",
      "ACTCompositeScore_UNCMin_AmericanIndian has weight of -0.02418465257642144\n",
      "grades_BYOD_9:11:12 has weight of -0.022130401120065243\n",
      "grades_BYOD_9 has weight of -0.021617761977218476\n",
      "INFO_Concentrator_Ct has weight of -0.019753015652990105\n",
      "grades_1_to_1_access_10:11:12 has weight of -0.018933362742988562\n",
      "Exceeds Expected Growth_TCHR_Student Growth_Pct has weight of -0.018083649750290646\n",
      "EVAAS Growth Status_Met has weight of -0.016046806534287528\n",
      "GraduationRate_4yr_EDS has weight of -0.014500225299492289\n",
      "EOCBiology_CACR_Hispanic has weight of -0.013738354435407593\n",
      "PacificIslandMalePct has weight of -0.012513833514711865\n",
      "short_susp_per_c_num has weight of -0.010263172642959496\n",
      "SPG Grade_B has weight of -0.009851680438755272\n",
      "SBE District_Piedmont-Triad has weight of -0.007994745628802155\n",
      "grade_range_cd_11-12 has weight of -0.007928908679324933\n",
      "grade_range_cd_6-13 has weight of -0.006989859219753227\n",
      "ACTMath_ACTBenchmark_SWD has weight of -0.0062437892688423854\n",
      "Meets Expected Growth_TCHR_Student Growth_Pct has weight of -0.005923353541945199\n",
      "MANU_Concentrator_Ct has weight of -0.00588541727044119\n",
      "SBE District_Northwest has weight of -0.00466774143349747\n",
      "st_avg_daily_attend_pct has weight of -0.0024276452306275027\n",
      "grade_range_cd_3-12 has weight of -0.001471791223852132\n",
      "grade_range_cd_7-13 has weight of 0.0\n",
      "lea_supplies_expense_pct has weight of 0.0003686741097405808\n",
      "0-3 Years_LEA_Exp_Pct_Prin has weight of 0.0036282469911403507\n",
      "GraduationRate_4yr_TwoorMoreRaces has weight of 0.006921891216282965\n",
      "Byod_Yes has weight of 0.007393028251459309\n",
      "GraduationRate_5yr_AmericanIndian has weight of 0.007817675754144706\n",
      "12_Size has weight of 0.007885327588112152\n",
      "ACTWorkKeys_SilverPlus_Black has weight of 0.008484014948585777\n",
      "grade_range_cd_9-13 has weight of 0.009054142014697094\n",
      "Not Demostrated_TCHR_Standard 3_Pct has weight of 0.010447934407681169\n",
      "EOCSubjects_CACR_LEP has weight of 0.010610992427562936\n",
      "lea_long_susp_per_c_num has weight of 0.010700648902150217\n",
      "lea_flicensed_teach_pct has weight of 0.01109927226934376\n",
      "lea_tchyrs_11plus_pct has weight of 0.011860223285943428\n",
      "lateral_teach_pct has weight of 0.012034076904401144\n",
      "grades_1_to_1_access_10:11:12:13 has weight of 0.012979317235075078\n",
      "Math SPG Grade_F has weight of 0.013233365396344917\n",
      "English II Score has weight of 0.01329694191898031\n",
      "ACTWorkKeys_pTarget_PctMet has weight of 0.013864756025358707\n",
      "Passing NC Math 3 has weight of 0.015140144156400874\n",
      "BlackMalePct has weight of 0.01641361322647164\n",
      "English II_Size has weight of 0.016587772471060042\n",
      "ACTWorkKeys_SilverPlus_Hispanic has weight of 0.01997156865681715\n",
      "SciGr11_pTarget_PctMet has weight of 0.020109349356122536\n",
      "grades_1_to_1_access_11 has weight of 0.021034935510115968\n",
      "GraduationRate_5yr_Male has weight of 0.022006868536402678\n",
      "tchyrs_0thru3_pct has weight of 0.022063689819132783\n",
      "grades_BYOD_9:10:11:12 has weight of 0.023918124615791635\n",
      "Developing_TCHR_Standard 2_Pct has weight of 0.02448635739126047\n",
      "grades_1_to_1_access_9:11:12:13 has weight of 0.026154619827428522\n",
      "ACTCompositeScore_UNCMin_EDS has weight of 0.027856687879774043\n",
      "10_Size has weight of 0.028760877386946916\n",
      "ACTWriting_ACTBenchmark_LEP has weight of 0.02984021906975693\n",
      "ACTCompositeScore_UNCMin_White has weight of 0.029944484140690543\n",
      "lea_nbpts_num has weight of 0.030563760972450442\n",
      "ap_participation_pct has weight of 0.032655551268406774\n",
      "STEM_Concentrator_Ct has weight of 0.03596232604839389\n",
      "EOCEnglish2_CACR_AIG has weight of 0.038011272709789136\n",
      "lea_univ_college_courses has weight of 0.03810658642395988\n",
      "EOCMathI_CACR_Hispanic has weight of 0.038199427837124614\n",
      "AAVC_Concentrator_Ct has weight of 0.039115646891505824\n",
      "GraduationRate_4yr_AIG has weight of 0.03913418119921537\n",
      "expelled_per_c_num has weight of 0.03944933719972625\n",
      "grade_range_cd_11-13 has weight of 0.040355396952409604\n",
      "lea_tchyrs_4thru10_pct has weight of 0.040379595692036876\n",
      "lea_ap_pct_3_or_above has weight of 0.041889194319845\n",
      "GraduationRate_4yr_Black has weight of 0.041982253072384554\n",
      "student_num has weight of 0.04207175167545087\n",
      "GraduationRate_4yr_Male has weight of 0.043359459550225986\n",
      "Grad_project_status_Y has weight of 0.04459309349578277\n",
      "Distinguished_TCHR_Standard 2_Pct has weight of 0.04546843071726407\n",
      "SPG Score has weight of 0.04557023303655357\n",
      "SBE District_Northeast has weight of 0.04564265257492064\n",
      "SRC_Grades_Devices_Sent_Home_9:10 has weight of 0.04593281545195901\n",
      "flicensed_teach_pct has weight of 0.046276196620786976\n",
      "grades_BYOD_6:7:8:9:10:11:12:13 has weight of 0.046460100204141916\n",
      "SBE District_Western has weight of 0.04738239458290663\n",
      "Accomplished_TCHR_Standard 4_Pct has weight of 0.04740167832230973\n",
      "grades_1_to_1_access_9:10:11 has weight of 0.04742923547738113\n",
      "EOCBiology_CACR_EDS has weight of 0.04896372051212722\n",
      "ACTWorkKeys_SilverPlus_Asian has weight of 0.04990096336652541\n",
      "lea_federal_perpupil_num has weight of 0.052075923318692596\n",
      "grades_1_to_1_access_9:10:11:12 has weight of 0.05267902502698909\n",
      "grade_range_cd_9-12 has weight of 0.053922298134081566\n",
      "4-10 Years_LEA_Exp_Pct_Prin has weight of 0.05517648359916328\n",
      "st_avg_student_num has weight of 0.05542970031684678\n",
      "lea_sat_avg_score_num has weight of 0.0581898064118945\n",
      "ACTSubtests_BenchmarksMet_Asian has weight of 0.05833208884736609\n",
      "EOCSubjects_CACR_Asian has weight of 0.06368669819801144\n",
      "Not Demostrated_TCHR_Standard 2_Pct has weight of 0.06502164030380628\n",
      "Math SPG Grade_B has weight of 0.0652652124609083\n",
      "EOCMathI_CACR_LEP has weight of 0.0663367985304725\n",
      "lea_wap_per_classroom has weight of 0.06774734270520737\n",
      "ACTSubtests_BenchmarksMet_Hispanic has weight of 0.06870803192818016\n",
      "ACTSubtests_BenchmarksMet_Black has weight of 0.07295474548762536\n",
      "SPG Grade_D has weight of 0.07761860492115022\n",
      "Reading SPG Grade_F has weight of 0.07769759497201396\n",
      "Developing_TCHR_Standard 1_Pct has weight of 0.0799248069868446\n",
      "Developing_TCHR_Standard 5_Pct has weight of 0.08269614529860839\n",
      "Biology Score has weight of 0.08377525100595898\n",
      "_1yr_tchr_trnovr_pct has weight of 0.08410203524820935\n",
      "EOCBiology_CACR_LEP has weight of 0.08437237712560591\n",
      "Developing_TCHR_Standard 3_Pct has weight of 0.08449856931618964\n",
      "Reading SPG Grade_B has weight of 0.08495070280044706\n",
      "lea_emer_prov_teach_pct has weight of 0.08516085013473458\n",
      "EOCSubjects_CACR_Hispanic has weight of 0.08691356722436207\n",
      "ACTWriting_ACTBenchmark_EDS has weight of 0.08744861476877892\n",
      "GraduationRate_5yr_TwoorMoreRaces has weight of 0.08839596366998166\n",
      "lea_salary_expense_pct has weight of 0.08869846905053101\n",
      "lea_1yr_tchr_trnovr_pct has weight of 0.09055212516220479\n",
      "TotalTargets_pTarget_PctMet has weight of 0.09171679713436391\n",
      "nbpts_num has weight of 0.09176416019266408\n",
      "HOSP_Concentrator_Ct has weight of 0.09229321327515166\n",
      "grades_BYOD_9:10:11:12:13 has weight of 0.09242343035881809\n",
      "EOCBiology_CACR_AIG has weight of 0.09514071576650089\n",
      "univ_college_courses has weight of 0.09598462482712822\n",
      "SBE District_Sandhills has weight of 0.09656842679874816\n",
      "EOCSubjects_CACR_TwoorMoreRaces has weight of 0.0988421834764578\n",
      "EOCSubjects_CACR_Black has weight of 0.10113981111821511\n",
      "lea_expelled_per_c_num has weight of 0.10157424513848014\n",
      "HLTH_Concentrator_Ct has weight of 0.10301935634393286\n",
      "ACTCompositeScore_UNCMin_AIG has weight of 0.10545416748290841\n",
      "lea_avg_student_num has weight of 0.10691588481604945\n",
      "GraduationRate_4yr_White has weight of 0.10766548703862758\n",
      "SPG Grade_A+NG has weight of 0.10979749532216511\n",
      "ACT WorkKeys Score has weight of 0.11075378045346311\n",
      "SRC_Grades_Devices_Sent_Home_6:7:8:9:10:11:12 has weight of 0.11120617800450823\n",
      "SRC_Grades_Devices_Sent_Home_8:9:10:11:12:13 has weight of 0.11379798469737527\n",
      "EOCBiology_CACR_Asian has weight of 0.11429882724872352\n",
      "EVAAS Growth Status_NotMet has weight of 0.11836343418309268\n",
      "lea_avg_daily_attend_pct has weight of 0.11889201421101141\n",
      "tchyrs_11plus_pct has weight of 0.11941481255000752\n",
      "ACTCompositeScore_UNCMin_TwoorMoreRaces has weight of 0.12761358792077504\n",
      "EOCMathI_CACR_Black has weight of 0.12782887350986372\n",
      "IndianFemalePct has weight of 0.1341320440922398\n",
      "ACTCompositeScore_UNCMin_LEP has weight of 0.13679291733396876\n",
      "GraduationRate_5yr_White has weight of 0.14173692287865\n",
      "lea_short_susp_per_c_num has weight of 0.14987573641543717\n",
      "sat_avg_score_num has weight of 0.15492222597881425\n",
      "sat_participation_pct has weight of 0.1563353652200256\n",
      "Accomplished_TCHR_Standard 1_Pct has weight of 0.15730563709018625\n",
      "GraduationRate_4yr_Female has weight of 0.1595943307608493\n",
      "ACTWriting_ACTBenchmark_SWD has weight of 0.16016257230139208\n",
      "ACTCompositeScore_UNCMin_Hispanic has weight of 0.16213327628524452\n",
      "ap_pct_3_or_above has weight of 0.16321992873838892\n",
      "ACTSubtests_BenchmarksMet_LEP has weight of 0.16410278767945088\n",
      "ACTSubtests_BenchmarksMet_TwoorMoreRaces has weight of 0.16566939202372524\n",
      "EOCSubjects_CACR_AmericanIndian has weight of 0.16663468392873867\n",
      "SBE District_Southeast has weight of 0.17707682762253682\n",
      "ACTWorkKeys_SilverPlus_AIG has weight of 0.17801128285188664\n",
      "EOCBiology_CACR_Black has weight of 0.18211302289679732\n",
      "grade_range_cd_K-12 has weight of 0.18249993953802787\n",
      "GraduationRate_5yr_All has weight of 0.18838238891325443\n",
      "avg_daily_attend_pct has weight of 0.19282722906799554\n",
      "GraduationRate_5yr_AIG has weight of 0.19544283247679228\n",
      "ACT Score has weight of 0.20119428906248635\n",
      "lea_stud_internet_comp_num has weight of 0.21485790473074104\n",
      "EOCEnglish2_CACR_Hispanic has weight of 0.21769169309601466\n",
      "grade_range_cd_PK-13 has weight of 0.22971828461517124\n",
      "Math I_Size has weight of 0.23110898579807135\n",
      "AGNR_Concentrator_Ct has weight of 0.23416715147946043\n",
      "EOCMathI_CACR_AIG has weight of 0.27054228083450554\n"
     ]
    }
   ],
   "source": [
    "# we want to normalize the features based upon the mean and standard deviation of each column. \n",
    "# However, we do not want to accidentally use the testing data to find out the mean and std (this would be snooping)\n",
    "# to Make things easier, let's start by just using whatever was last stored in the variables:\n",
    "##    X_train , y_train , X_test, y_test (they were set in a for loop above)\n",
    "\n",
    "# scale attributes by the training set\n",
    "scl_obj = StandardScaler()\n",
    "scl_obj.fit(xTrain) # find scalings for each column that make this zero mean and unit std\n",
    "# the line of code above only looks at training data to get mean and std and we can use it \n",
    "# to transform new feature data\n",
    "\n",
    "X_train_scaled = scl_obj.transform(xTrain) # apply to training\n",
    "X_test_scaled = scl_obj.transform(xTest) # apply those means and std to the test set (without snooping at the test set values)\n",
    "\n",
    "# train the model just as before\n",
    "lr_clf = LogisticRegression(penalty='l2', C=0.05) # get object, the 'C' value is less (can you guess why??)\n",
    "lr_clf.fit(X_train_scaled,yTrain)  # train object\n",
    "\n",
    "y_hat = lr_clf.predict(X_test_scaled) # get test set precitions\n",
    "\n",
    "acc = mt.accuracy_score(yTest,y_hat)\n",
    "conf = mt.confusion_matrix(yTest,y_hat)\n",
    "print('accuracy:', acc )\n",
    "print(conf )\n",
    "\n",
    "# sort these attributes and spit them out\n",
    "zip_vars = zip(lr_clf.coef_.T,X.columns) # combine attributes\n",
    "zip_vars = sorted(zip_vars)\n",
    "for coef, name in zip_vars:\n",
    "    print(name, 'has weight of', coef[0]) # now print them out"
   ]
  },
  {
   "cell_type": "markdown",
   "metadata": {},
   "source": [
    "still 401 explanatory variables at the moment, need to figure out how to knock a lot out. L1 (lasso regression) gave about 2% increase in accuracy compared to L2 (ridge regression). but that could just be due to randomness if we re-ran them a few more times. also need to figure out GridSearchCV for the costs on this one."
   ]
  },
  {
   "cell_type": "code",
   "execution_count": 51,
   "metadata": {},
   "outputs": [
    {
     "data": {
      "text/plain": [
       "273"
      ]
     },
     "execution_count": 51,
     "metadata": {},
     "output_type": "execute_result"
    }
   ],
   "source": [
    "len(zip_vars)"
   ]
  },
  {
   "cell_type": "code",
   "execution_count": null,
   "metadata": {},
   "outputs": [],
   "source": []
  },
  {
   "cell_type": "markdown",
   "metadata": {},
   "source": [
    "<a id=\"SVM\"></a>\n",
    "## Support Vector Machines"
   ]
  },
  {
   "cell_type": "markdown",
   "metadata": {},
   "source": [
    "### Column preparation\n",
    "\n",
    "At this point, the dataset contains 'future' information that the model should not be aware of. Including these variables would create a leak since the historical data that was collected gives information on the target variable.  We need to drop these columns before we build the model. In addition, some of the column names don't start with alpha characters which cause code later in the notebook to miss these columns and not graph the most significant support vectors correctly. "
   ]
  },
  {
   "cell_type": "code",
   "execution_count": 52,
   "metadata": {},
   "outputs": [],
   "source": [
    "# Credit: https://stackoverflow.com/questions/19758364/rename-a-single-column-header-in-a-pandas-dataframe\n",
    "# Credit: https://stackoverflow.com/questions/21606987/how-can-i-strip-the-whitespace-from-pandas-dataframe-headers\n",
    "# Credit: https://stackoverflow.com/questions/39741429/pandas-replace-a-character-in-all-column-names\n",
    "# Credit: https://stackoverflow.com/questions/33157643/pandas-replace-erase-different-characters-from-strings\n",
    "\n",
    "# Drop these columns because they contain the answer we are trying to predict\n",
    "dropCols = dfPublicHS.filter(regex = r'sch_pct')\n",
    "\n",
    "# Drop columns\n",
    "dfPublicHS.drop(dropCols, axis = 1, inplace = True)\n",
    "\n",
    "# These names seem to cause problems so let's give them friendlier names\n",
    "renameCols = {'_1yr_tchr_trnovr_pct': 'One_yr_tchr_trnovr_pct',\n",
    "              '0-3 Years_LEA_Exp_Pct_Prin': 'less_3_years_LEA_Exp_Pct_Prin',\n",
    "              '10+ Years_LEA_Exp_Pct_Prin': 'ten_plus_years_LEA_Exp_Pct_Prin',\n",
    "              '4-10 Years_LEA_Exp_Pct_Prin': 'four_plus_years_LEA_Exp_Pct_Prin',\n",
    "              '4-Year_Cohort_Graduation_Rate_Score': 'four_Year_Cohort_Graduation_Rate_Score',\n",
    "              '_1_to_1_access_Yes': 'one_to_one_access_yes'}\n",
    "\n",
    "# Remove any trailing white spaces\n",
    "dfPublicHS.columns = dfPublicHS.columns.str.strip()\n",
    "\n",
    "# Remove any spaces, slashes, or hyphens\n",
    "dfPublicHS.columns = dfPublicHS.columns.str.replace(r' |/|-', \"_\")\n",
    "\n",
    "# Rename columns\n",
    "dfPublicHS.rename(columns=renameCols, inplace = True)"
   ]
  },
  {
   "cell_type": "markdown",
   "metadata": {},
   "source": [
    "### Linear Regression Features\n",
    "For comparison against the two models, we'll build a model with the attributes used for the linear regression model"
   ]
  },
  {
   "cell_type": "code",
   "execution_count": 53,
   "metadata": {},
   "outputs": [],
   "source": [
    "param_grid = dict(C=[1,10,100,1000])\n",
    "gridLinear = GridSearchCV(SVC(), param_grid=param_grid, iid = False, cv=10)"
   ]
  },
  {
   "cell_type": "code",
   "execution_count": 54,
   "metadata": {},
   "outputs": [
    {
     "name": "stdout",
     "output_type": "stream",
     "text": [
      "Training started at: 21:33:37.506597\n",
      "CPU times: user 3.42 s, sys: 25.4 ms, total: 3.44 s\n",
      "Wall time: 2.71 s\n",
      "Best parameters set found on development set:\n",
      "\n",
      "{'C': 1}\n",
      "\n",
      "gridLinear scores on development set:\n",
      "\n",
      "0.732 (+/-0.120) for {'C': 1}\n",
      "0.716 (+/-0.160) for {'C': 10}\n",
      "0.713 (+/-0.143) for {'C': 100}\n",
      "0.713 (+/-0.143) for {'C': 1000}\n",
      "\n"
     ]
    }
   ],
   "source": [
    "# Train SVM model\n",
    "print(\"Training started at: {}\".format(datetime.now().time()))\n",
    "%time gridLinear.fit(xTrainLR, yTrainLR)\n",
    "\n",
    "bestValues = gridLinear.best_params_\n",
    "\n",
    "print(\"Best parameters set found on development set:\")\n",
    "print()\n",
    "print(bestValues)\n",
    "print()\n",
    "print(\"gridLinear scores on development set:\")\n",
    "print()\n",
    "means = gridLinear.cv_results_['mean_test_score']\n",
    "stds = gridLinear.cv_results_['std_test_score']\n",
    "for mean, std, params in zip(means, stds, gridLinear.cv_results_['params']):\n",
    "    print(\"%0.3f (+/-%0.03f) for %r\"\n",
    "          % (mean, std * 2, params))\n",
    "print()"
   ]
  },
  {
   "cell_type": "code",
   "execution_count": 55,
   "metadata": {},
   "outputs": [
    {
     "name": "stdout",
     "output_type": "stream",
     "text": [
      "[[31 18]\n",
      " [14 31]]\n",
      "             precision    recall  f1-score   support\n",
      "\n",
      "          0       0.69      0.63      0.66        49\n",
      "          1       0.63      0.69      0.66        45\n",
      "\n",
      "avg / total       0.66      0.66      0.66        94\n",
      "\n"
     ]
    }
   ],
   "source": [
    "# Set model to best values found\n",
    "cls = SVC(C = bestValues['C'], kernel = 'linear')\n",
    "\n",
    "# Train\n",
    "cls.fit(xTrainLR, yTrainLR)\n",
    "\n",
    "# Predict test values\n",
    "yhat = cls.predict(xTestLR)\n",
    "\n",
    "# Show model performance\n",
    "print(confusion_matrix(yTest, yhat))\n",
    "print(classification_report(yTest, yhat))"
   ]
  },
  {
   "cell_type": "markdown",
   "metadata": {},
   "source": [
    "### Feature Selection\n",
    "Using the ANOVA F-value to determine which columns have the greatest proportion of variance, we select the top 10% to be used in our model. The F-value tells us which column(s) help to explain the greatest amount of variance in the target variable. The columns with the highest proportion allows the model to solve for the greatest separation on attributes for classification."
   ]
  },
  {
   "cell_type": "code",
   "execution_count": 56,
   "metadata": {},
   "outputs": [],
   "source": [
    "# Subset the data to exclude the target variable\n",
    "maxCols = dfPublicHS.shape[1]\n",
    "X = dfPublicHS.iloc[:,0:maxCols-2]\n",
    "\n",
    "# Choose the top 10% attributes based on ANOVA score\n",
    "sel = SelectPercentile(f_classif, percentile = 10)\n",
    "sel.fit(X, y)\n",
    "\n",
    "# Credit: https://www.kaggle.com/saravanann/santander\n",
    "# Convert back to dataframe\n",
    "\n",
    "keepCols = sel.get_support(indices=True)\n",
    "temp = sel.transform(X)\n",
    "X = pd.DataFrame(temp, columns = X.columns[keepCols])"
   ]
  },
  {
   "cell_type": "markdown",
   "metadata": {},
   "source": [
    "### Data split\n",
    "Split the resulting dataset into 80% for training and 20% for testing. After we split the training data, we then scale the data so that each column contributes equal weight to the model. A column with a range of 1 and a column with a range of 10,000 will be highly biased by the column with a range of 10,000. Scaling the columns puts each column on an equal range. We use fit to calculate the mean and standard deviation for the train data set. We use the mean and standard deviation of the train data on the test data so that information isn't biased by data that we shouldn't know about."
   ]
  },
  {
   "cell_type": "code",
   "execution_count": 57,
   "metadata": {},
   "outputs": [],
   "source": [
    "# Create a test and train dataset with an 80/20 split\n",
    "xTrain, xTest, yTrain, yTest = train_test_split(X.astype(np.float), y, test_size = 0.2)\n",
    "\n",
    "# Scale data after splitting out test data\n",
    "scaler = StandardScaler()\n",
    "scaler.fit(xTrain)\n",
    "xTrain = scaler.transform(xTrain)\n",
    "xTest = scaler.transform(xTest)"
   ]
  },
  {
   "cell_type": "markdown",
   "metadata": {},
   "source": [
    "### Parameter Tuning\n",
    "Here we create a range of values to test the model against to determine which parameters provide the best result."
   ]
  },
  {
   "cell_type": "code",
   "execution_count": 58,
   "metadata": {},
   "outputs": [],
   "source": [
    "# Set parameter turning values and create a grid of models to run\n",
    "gamma_range = np.logspace(-9, 3, 13)\n",
    "param_grid = dict(gamma=gamma_range, C=[1,10,100,1000])\n",
    "\n",
    "gridRBF = GridSearchCV(SVC(), param_grid=param_grid, iid = False, cv=10)"
   ]
  },
  {
   "cell_type": "code",
   "execution_count": 59,
   "metadata": {},
   "outputs": [
    {
     "name": "stdout",
     "output_type": "stream",
     "text": [
      "Training started at: 21:33:40.290915\n",
      "CPU times: user 6.37 s, sys: 12 ms, total: 6.39 s\n",
      "Wall time: 6.4 s\n",
      "Best parameters set found on development set:\n",
      "\n",
      "{'C': 1000, 'gamma': 0.0001}\n",
      "\n",
      "gridRBF scores on development set:\n",
      "\n",
      "0.503 (+/-0.011) for {'C': 1, 'gamma': 1e-09}\n",
      "0.503 (+/-0.011) for {'C': 1, 'gamma': 1e-08}\n",
      "0.503 (+/-0.011) for {'C': 1, 'gamma': 1e-07}\n",
      "0.503 (+/-0.011) for {'C': 1, 'gamma': 1e-06}\n",
      "0.503 (+/-0.011) for {'C': 1, 'gamma': 1e-05}\n",
      "0.697 (+/-0.140) for {'C': 1, 'gamma': 0.0001}\n",
      "0.700 (+/-0.126) for {'C': 1, 'gamma': 0.001}\n",
      "0.689 (+/-0.130) for {'C': 1, 'gamma': 0.01}\n",
      "0.684 (+/-0.139) for {'C': 1, 'gamma': 0.1}\n",
      "0.588 (+/-0.151) for {'C': 1, 'gamma': 1.0}\n",
      "0.503 (+/-0.011) for {'C': 1, 'gamma': 10.0}\n",
      "0.503 (+/-0.011) for {'C': 1, 'gamma': 100.0}\n",
      "0.503 (+/-0.011) for {'C': 1, 'gamma': 1000.0}\n",
      "0.503 (+/-0.011) for {'C': 10, 'gamma': 1e-09}\n",
      "0.503 (+/-0.011) for {'C': 10, 'gamma': 1e-08}\n",
      "0.503 (+/-0.011) for {'C': 10, 'gamma': 1e-07}\n",
      "0.503 (+/-0.011) for {'C': 10, 'gamma': 1e-06}\n",
      "0.700 (+/-0.136) for {'C': 10, 'gamma': 1e-05}\n",
      "0.703 (+/-0.126) for {'C': 10, 'gamma': 0.0001}\n",
      "0.716 (+/-0.174) for {'C': 10, 'gamma': 0.001}\n",
      "0.694 (+/-0.187) for {'C': 10, 'gamma': 0.01}\n",
      "0.625 (+/-0.165) for {'C': 10, 'gamma': 0.1}\n",
      "0.598 (+/-0.151) for {'C': 10, 'gamma': 1.0}\n",
      "0.503 (+/-0.011) for {'C': 10, 'gamma': 10.0}\n",
      "0.503 (+/-0.011) for {'C': 10, 'gamma': 100.0}\n",
      "0.503 (+/-0.011) for {'C': 10, 'gamma': 1000.0}\n",
      "0.503 (+/-0.011) for {'C': 100, 'gamma': 1e-09}\n",
      "0.503 (+/-0.011) for {'C': 100, 'gamma': 1e-08}\n",
      "0.503 (+/-0.011) for {'C': 100, 'gamma': 1e-07}\n",
      "0.700 (+/-0.136) for {'C': 100, 'gamma': 1e-06}\n",
      "0.697 (+/-0.125) for {'C': 100, 'gamma': 1e-05}\n",
      "0.716 (+/-0.177) for {'C': 100, 'gamma': 0.0001}\n",
      "0.718 (+/-0.170) for {'C': 100, 'gamma': 0.001}\n",
      "0.654 (+/-0.163) for {'C': 100, 'gamma': 0.01}\n",
      "0.612 (+/-0.169) for {'C': 100, 'gamma': 0.1}\n",
      "0.598 (+/-0.151) for {'C': 100, 'gamma': 1.0}\n",
      "0.503 (+/-0.011) for {'C': 100, 'gamma': 10.0}\n",
      "0.503 (+/-0.011) for {'C': 100, 'gamma': 100.0}\n",
      "0.503 (+/-0.011) for {'C': 100, 'gamma': 1000.0}\n",
      "0.503 (+/-0.011) for {'C': 1000, 'gamma': 1e-09}\n",
      "0.503 (+/-0.011) for {'C': 1000, 'gamma': 1e-08}\n",
      "0.697 (+/-0.124) for {'C': 1000, 'gamma': 1e-07}\n",
      "0.697 (+/-0.125) for {'C': 1000, 'gamma': 1e-06}\n",
      "0.718 (+/-0.159) for {'C': 1000, 'gamma': 1e-05}\n",
      "0.723 (+/-0.185) for {'C': 1000, 'gamma': 0.0001}\n",
      "0.673 (+/-0.132) for {'C': 1000, 'gamma': 0.001}\n",
      "0.617 (+/-0.091) for {'C': 1000, 'gamma': 0.01}\n",
      "0.612 (+/-0.169) for {'C': 1000, 'gamma': 0.1}\n",
      "0.598 (+/-0.151) for {'C': 1000, 'gamma': 1.0}\n",
      "0.503 (+/-0.011) for {'C': 1000, 'gamma': 10.0}\n",
      "0.503 (+/-0.011) for {'C': 1000, 'gamma': 100.0}\n",
      "0.503 (+/-0.011) for {'C': 1000, 'gamma': 1000.0}\n",
      "\n"
     ]
    }
   ],
   "source": [
    "# Train SVM model on the each different parameter value\n",
    "print(\"Training started at: {}\".format(datetime.now().time()))\n",
    "%time gridRBF.fit(xTrain, yTrain)\n",
    "\n",
    "bestValues = gridRBF.best_params_\n",
    "\n",
    "print(\"Best parameters set found on development set:\")\n",
    "print()\n",
    "print(bestValues)\n",
    "print()\n",
    "print(\"gridRBF scores on development set:\")\n",
    "print()\n",
    "means = gridRBF.cv_results_['mean_test_score']\n",
    "stds = gridRBF.cv_results_['std_test_score']\n",
    "for mean, std, params in zip(means, stds, gridRBF.cv_results_['params']):\n",
    "    print(\"%0.3f (+/-%0.03f) for %r\"\n",
    "          % (mean, std * 2, params))\n",
    "print()"
   ]
  },
  {
   "cell_type": "markdown",
   "metadata": {},
   "source": [
    "### Test Model\n",
    "Using the best parameters found from the grid search above, test our model against data that it hasn't seen before."
   ]
  },
  {
   "cell_type": "code",
   "execution_count": 60,
   "metadata": {
    "scrolled": true
   },
   "outputs": [
    {
     "name": "stdout",
     "output_type": "stream",
     "text": [
      "[[31 15]\n",
      " [16 32]]\n",
      "             precision    recall  f1-score   support\n",
      "\n",
      "          0       0.66      0.67      0.67        46\n",
      "          1       0.68      0.67      0.67        48\n",
      "\n",
      "avg / total       0.67      0.67      0.67        94\n",
      "\n"
     ]
    }
   ],
   "source": [
    "# Set model to best values found\n",
    "cls = SVC(C = bestValues['C'], gamma = bestValues['gamma'])\n",
    "\n",
    "# Train\n",
    "cls.fit(xTrain, yTrain)\n",
    "\n",
    "# Predict test values\n",
    "yhat = cls.predict(xTest)\n",
    "\n",
    "# Show model performance\n",
    "print(confusion_matrix(yTest, yhat))\n",
    "print(classification_report(yTest, yhat))"
   ]
  },
  {
   "cell_type": "markdown",
   "metadata": {},
   "source": [
    "### ROC Curve\n",
    "Plot an ROC curve of the results. An ROC curve helps show the trade offs between true-negatives and false-positives. For instance, if we were trying to predict whether someone has a deadly illness then we would want to select a model that gives the fewest number of true-negatives. However, in our cause, it's acceptable to have a higher false-positive rate since we are only exploring attributes that could contribute to higher levels of students enrolling in postsecondary education."
   ]
  },
  {
   "cell_type": "code",
   "execution_count": 61,
   "metadata": {},
   "outputs": [
    {
     "data": {
      "image/png": "[encoded data removed]",
      "text/plain": [
       "<Figure size 432x288 with 1 Axes>"
      ]
     },
     "metadata": {},
     "output_type": "display_data"
    }
   ],
   "source": [
    "# Plot an ROC Graph\n",
    "fpr, tpr, thresholds = roc_curve(yTest, yhat)\n",
    "\n",
    "plt.figure()\n",
    "lw = 2\n",
    "plt.plot(fpr, tpr, color='darkorange',\n",
    "         lw=lw)\n",
    "plt.plot([0, 1], [0, 1], color='navy', lw=lw, linestyle='--')\n",
    "plt.xlim([0.0, 1.0])\n",
    "plt.ylim([0.0, 1.05])\n",
    "plt.xlabel('False Positive Rate')\n",
    "plt.ylabel('True Positive Rate')\n",
    "plt.title('ROC Graph')\n",
    "plt.show()"
   ]
  },
  {
   "cell_type": "markdown",
   "metadata": {},
   "source": [
    "### Most influential Support Vectors\n",
    "The graph below helps us determine which attributes have the most impact on the boundary between support vectors. This gives us some indication of what attributes might help increase the number of students enrolled in postsecondary education."
   ]
  },
  {
   "cell_type": "code",
   "execution_count": 62,
   "metadata": {},
   "outputs": [
    {
     "ename": "AttributeError",
     "evalue": "coef_ is only available when using a linear kernel",
     "output_type": "error",
     "traceback": [
      "\u001b[0;31m---------------------------------------------------------------------------\u001b[0m",
      "\u001b[0;31mAttributeError\u001b[0m                            Traceback (most recent call last)",
      "\u001b[0;32m<ipython-input-62-e0ebce7a1189>\u001b[0m in \u001b[0;36m<module>\u001b[0;34m()\u001b[0m\n\u001b[1;32m      3\u001b[0m \u001b[0mcv\u001b[0m\u001b[0;34m.\u001b[0m\u001b[0mfit\u001b[0m\u001b[0;34m(\u001b[0m\u001b[0mX\u001b[0m\u001b[0;34m)\u001b[0m\u001b[0;34m\u001b[0m\u001b[0m\n\u001b[1;32m      4\u001b[0m \u001b[0;34m\u001b[0m\u001b[0m\n\u001b[0;32m----> 5\u001b[0;31m \u001b[0mplot_coefficients\u001b[0m\u001b[0;34m(\u001b[0m\u001b[0mcls\u001b[0m\u001b[0;34m,\u001b[0m \u001b[0mcv\u001b[0m\u001b[0;34m.\u001b[0m\u001b[0mget_feature_names\u001b[0m\u001b[0;34m(\u001b[0m\u001b[0;34m)\u001b[0m\u001b[0;34m,\u001b[0m \u001b[0mtop_features\u001b[0m \u001b[0;34m=\u001b[0m \u001b[0;36m10\u001b[0m\u001b[0;34m)\u001b[0m\u001b[0;34m\u001b[0m\u001b[0m\n\u001b[0m",
      "\u001b[0;32m<ipython-input-36-4a4089f71cfd>\u001b[0m in \u001b[0;36mplot_coefficients\u001b[0;34m(classifier, feature_names, top_features)\u001b[0m\n\u001b[1;32m      1\u001b[0m \u001b[0;31m# Source: https://medium.com/@aneesha/visualising-top-features-in-linear-svm-with-scikit-learn-and-matplotlib-3454ab18a14d\u001b[0m\u001b[0;34m\u001b[0m\u001b[0;34m\u001b[0m\u001b[0m\n\u001b[1;32m      2\u001b[0m \u001b[0;32mdef\u001b[0m \u001b[0mplot_coefficients\u001b[0m\u001b[0;34m(\u001b[0m\u001b[0mclassifier\u001b[0m\u001b[0;34m,\u001b[0m \u001b[0mfeature_names\u001b[0m\u001b[0;34m,\u001b[0m \u001b[0mtop_features\u001b[0m\u001b[0;34m=\u001b[0m\u001b[0;36m20\u001b[0m\u001b[0;34m)\u001b[0m\u001b[0;34m:\u001b[0m\u001b[0;34m\u001b[0m\u001b[0m\n\u001b[0;32m----> 3\u001b[0;31m     \u001b[0mcoef\u001b[0m \u001b[0;34m=\u001b[0m \u001b[0mclassifier\u001b[0m\u001b[0;34m.\u001b[0m\u001b[0mcoef_\u001b[0m\u001b[0;34m.\u001b[0m\u001b[0mravel\u001b[0m\u001b[0;34m(\u001b[0m\u001b[0;34m)\u001b[0m\u001b[0;34m\u001b[0m\u001b[0m\n\u001b[0m\u001b[1;32m      4\u001b[0m     \u001b[0mtop_positive_coefficients\u001b[0m \u001b[0;34m=\u001b[0m \u001b[0mnp\u001b[0m\u001b[0;34m.\u001b[0m\u001b[0margsort\u001b[0m\u001b[0;34m(\u001b[0m\u001b[0mcoef\u001b[0m\u001b[0;34m)\u001b[0m\u001b[0;34m[\u001b[0m\u001b[0;34m-\u001b[0m\u001b[0mtop_features\u001b[0m\u001b[0;34m:\u001b[0m\u001b[0;34m]\u001b[0m\u001b[0;34m\u001b[0m\u001b[0m\n\u001b[1;32m      5\u001b[0m     \u001b[0mtop_negative_coefficients\u001b[0m \u001b[0;34m=\u001b[0m \u001b[0mnp\u001b[0m\u001b[0;34m.\u001b[0m\u001b[0margsort\u001b[0m\u001b[0;34m(\u001b[0m\u001b[0mcoef\u001b[0m\u001b[0;34m)\u001b[0m\u001b[0;34m[\u001b[0m\u001b[0;34m:\u001b[0m\u001b[0mtop_features\u001b[0m\u001b[0;34m]\u001b[0m\u001b[0;34m\u001b[0m\u001b[0m\n",
      "\u001b[0;32m/anaconda3/lib/python3.6/site-packages/sklearn/svm/base.py\u001b[0m in \u001b[0;36mcoef_\u001b[0;34m(self)\u001b[0m\n\u001b[1;32m    463\u001b[0m     \u001b[0;32mdef\u001b[0m \u001b[0mcoef_\u001b[0m\u001b[0;34m(\u001b[0m\u001b[0mself\u001b[0m\u001b[0;34m)\u001b[0m\u001b[0;34m:\u001b[0m\u001b[0;34m\u001b[0m\u001b[0m\n\u001b[1;32m    464\u001b[0m         \u001b[0;32mif\u001b[0m \u001b[0mself\u001b[0m\u001b[0;34m.\u001b[0m\u001b[0mkernel\u001b[0m \u001b[0;34m!=\u001b[0m \u001b[0;34m'linear'\u001b[0m\u001b[0;34m:\u001b[0m\u001b[0;34m\u001b[0m\u001b[0m\n\u001b[0;32m--> 465\u001b[0;31m             raise AttributeError('coef_ is only available when using a '\n\u001b[0m\u001b[1;32m    466\u001b[0m                                  'linear kernel')\n\u001b[1;32m    467\u001b[0m \u001b[0;34m\u001b[0m\u001b[0m\n",
      "\u001b[0;31mAttributeError\u001b[0m: coef_ is only available when using a linear kernel"
     ]
    }
   ],
   "source": [
    "# Graph the columns in terms of prediction weight\n",
    "cv = CountVectorizer()\n",
    "cv.fit(X)\n",
    "\n",
    "plot_coefficients(cls, cv.get_feature_names(), top_features = 10)"
   ]
  },
  {
   "cell_type": "markdown",
   "metadata": {},
   "source": [
    "### Parameter Tuning\n",
    "Here we create a range of values to test the model against to determine which parameters provide the best result."
   ]
  },
  {
   "cell_type": "code",
   "execution_count": null,
   "metadata": {},
   "outputs": [],
   "source": [
    "param_grid = dict(C=[1,10,100,1000])\n",
    "gridLinear = GridSearchCV(SVC(), param_grid=param_grid, iid = False, cv=10)"
   ]
  },
  {
   "cell_type": "code",
   "execution_count": null,
   "metadata": {},
   "outputs": [],
   "source": [
    "# Train SVM model\n",
    "print(\"Training started at: {}\".format(datetime.now().time()))\n",
    "%time gridLinear.fit(xTrain, yTrain)\n",
    "\n",
    "bestValues = gridLinear.best_params_\n",
    "\n",
    "print(\"Best parameters set found on development set:\")\n",
    "print()\n",
    "print(bestValues)\n",
    "print()\n",
    "print(\"gridLinear scores on development set:\")\n",
    "print()\n",
    "means = gridLinear.cv_results_['mean_test_score']\n",
    "stds = gridLinear.cv_results_['std_test_score']\n",
    "for mean, std, params in zip(means, stds, gridLinear.cv_results_['params']):\n",
    "    print(\"%0.3f (+/-%0.03f) for %r\"\n",
    "          % (mean, std * 2, params))\n",
    "print()"
   ]
  },
  {
   "cell_type": "markdown",
   "metadata": {},
   "source": [
    "### Test Model\n",
    "Using the best parameters found from the grid search above, test our model against data that it hasn't seen before."
   ]
  },
  {
   "cell_type": "code",
   "execution_count": null,
   "metadata": {},
   "outputs": [],
   "source": [
    "cls = SVC(C = bestValues['C'], kernel = 'linear')"
   ]
  },
  {
   "cell_type": "code",
   "execution_count": null,
   "metadata": {},
   "outputs": [],
   "source": [
    "# Train\n",
    "cls.fit(xTrain, yTrain)\n",
    "\n",
    "# Predict test values\n",
    "yhat = cls.predict(xTest)\n",
    "\n",
    "# Show model performance\n",
    "print(confusion_matrix(yTest, yhat))\n",
    "print(classification_report(yTest, yhat))"
   ]
  },
  {
   "cell_type": "markdown",
   "metadata": {},
   "source": [
    "### ROC Curve\n",
    "Plot an ROC curve of the results. An ROC curve helps show the trade offs between true-negatives and false-positives. For instance, if we were trying to predict whether someone has a deadly illness then we would want to select a model that gives the fewest number of true-negatives. However, in our cause, it's acceptable to have a higher false-positive rate since we are only exploring attributes that could contribute to higher levels of students enrolling in postsecondary education."
   ]
  },
  {
   "cell_type": "code",
   "execution_count": 63,
   "metadata": {},
   "outputs": [
    {
     "data": {
      "image/png": "[encoded data removed]",
      "text/plain": [
       "<Figure size 432x288 with 1 Axes>"
      ]
     },
     "metadata": {},
     "output_type": "display_data"
    }
   ],
   "source": [
    "# Plot an ROC Graph\n",
    "fpr, tpr, thresholds = roc_curve(yTest, yhat)\n",
    "\n",
    "plt.figure()\n",
    "lw = 2\n",
    "plt.plot(fpr, tpr, color='darkorange',\n",
    "         lw=lw)\n",
    "plt.plot([0, 1], [0, 1], color='navy', lw=lw, linestyle='--')\n",
    "plt.xlim([0.0, 1.0])\n",
    "plt.ylim([0.0, 1.05])\n",
    "plt.xlabel('False Positive Rate')\n",
    "plt.ylabel('True Positive Rate')\n",
    "plt.title('ROC Graph')\n",
    "plt.show()"
   ]
  },
  {
   "cell_type": "markdown",
   "metadata": {},
   "source": [
    "### Most influential Support Vectors\n",
    "The graph below helps us determine which attributes have the most impact on the boundary between support vectors. This gives us some indication of what attributes might help increase the number of students enrolled in postsecondary education."
   ]
  },
  {
   "cell_type": "code",
   "execution_count": 65,
   "metadata": {
    "scrolled": false
   },
   "outputs": [
    {
     "ename": "AttributeError",
     "evalue": "coef_ is only available when using a linear kernel",
     "output_type": "error",
     "traceback": [
      "\u001b[0;31m---------------------------------------------------------------------------\u001b[0m",
      "\u001b[0;31mAttributeError\u001b[0m                            Traceback (most recent call last)",
      "\u001b[0;32m<ipython-input-65-c23a6941fdb4>\u001b[0m in \u001b[0;36m<module>\u001b[0;34m()\u001b[0m\n\u001b[1;32m      5\u001b[0m \u001b[0mcv\u001b[0m\u001b[0;34m.\u001b[0m\u001b[0mfit\u001b[0m\u001b[0;34m(\u001b[0m\u001b[0mX\u001b[0m\u001b[0;34m)\u001b[0m\u001b[0;34m\u001b[0m\u001b[0m\n\u001b[1;32m      6\u001b[0m \u001b[0;34m\u001b[0m\u001b[0m\n\u001b[0;32m----> 7\u001b[0;31m \u001b[0mplot_coefficients\u001b[0m\u001b[0;34m(\u001b[0m\u001b[0mcls\u001b[0m\u001b[0;34m,\u001b[0m \u001b[0mcv\u001b[0m\u001b[0;34m.\u001b[0m\u001b[0mget_feature_names\u001b[0m\u001b[0;34m(\u001b[0m\u001b[0;34m)\u001b[0m\u001b[0;34m,\u001b[0m \u001b[0mtop_features\u001b[0m \u001b[0;34m=\u001b[0m \u001b[0;36m10\u001b[0m\u001b[0;34m)\u001b[0m\u001b[0;34m\u001b[0m\u001b[0m\n\u001b[0m",
      "\u001b[0;32m<ipython-input-36-4a4089f71cfd>\u001b[0m in \u001b[0;36mplot_coefficients\u001b[0;34m(classifier, feature_names, top_features)\u001b[0m\n\u001b[1;32m      1\u001b[0m \u001b[0;31m# Source: https://medium.com/@aneesha/visualising-top-features-in-linear-svm-with-scikit-learn-and-matplotlib-3454ab18a14d\u001b[0m\u001b[0;34m\u001b[0m\u001b[0;34m\u001b[0m\u001b[0m\n\u001b[1;32m      2\u001b[0m \u001b[0;32mdef\u001b[0m \u001b[0mplot_coefficients\u001b[0m\u001b[0;34m(\u001b[0m\u001b[0mclassifier\u001b[0m\u001b[0;34m,\u001b[0m \u001b[0mfeature_names\u001b[0m\u001b[0;34m,\u001b[0m \u001b[0mtop_features\u001b[0m\u001b[0;34m=\u001b[0m\u001b[0;36m20\u001b[0m\u001b[0;34m)\u001b[0m\u001b[0;34m:\u001b[0m\u001b[0;34m\u001b[0m\u001b[0m\n\u001b[0;32m----> 3\u001b[0;31m     \u001b[0mcoef\u001b[0m \u001b[0;34m=\u001b[0m \u001b[0mclassifier\u001b[0m\u001b[0;34m.\u001b[0m\u001b[0mcoef_\u001b[0m\u001b[0;34m.\u001b[0m\u001b[0mravel\u001b[0m\u001b[0;34m(\u001b[0m\u001b[0;34m)\u001b[0m\u001b[0;34m\u001b[0m\u001b[0m\n\u001b[0m\u001b[1;32m      4\u001b[0m     \u001b[0mtop_positive_coefficients\u001b[0m \u001b[0;34m=\u001b[0m \u001b[0mnp\u001b[0m\u001b[0;34m.\u001b[0m\u001b[0margsort\u001b[0m\u001b[0;34m(\u001b[0m\u001b[0mcoef\u001b[0m\u001b[0;34m)\u001b[0m\u001b[0;34m[\u001b[0m\u001b[0;34m-\u001b[0m\u001b[0mtop_features\u001b[0m\u001b[0;34m:\u001b[0m\u001b[0;34m]\u001b[0m\u001b[0;34m\u001b[0m\u001b[0m\n\u001b[1;32m      5\u001b[0m     \u001b[0mtop_negative_coefficients\u001b[0m \u001b[0;34m=\u001b[0m \u001b[0mnp\u001b[0m\u001b[0;34m.\u001b[0m\u001b[0margsort\u001b[0m\u001b[0;34m(\u001b[0m\u001b[0mcoef\u001b[0m\u001b[0;34m)\u001b[0m\u001b[0;34m[\u001b[0m\u001b[0;34m:\u001b[0m\u001b[0mtop_features\u001b[0m\u001b[0;34m]\u001b[0m\u001b[0;34m\u001b[0m\u001b[0m\n",
      "\u001b[0;32m/anaconda3/lib/python3.6/site-packages/sklearn/svm/base.py\u001b[0m in \u001b[0;36mcoef_\u001b[0;34m(self)\u001b[0m\n\u001b[1;32m    463\u001b[0m     \u001b[0;32mdef\u001b[0m \u001b[0mcoef_\u001b[0m\u001b[0;34m(\u001b[0m\u001b[0mself\u001b[0m\u001b[0;34m)\u001b[0m\u001b[0;34m:\u001b[0m\u001b[0;34m\u001b[0m\u001b[0m\n\u001b[1;32m    464\u001b[0m         \u001b[0;32mif\u001b[0m \u001b[0mself\u001b[0m\u001b[0;34m.\u001b[0m\u001b[0mkernel\u001b[0m \u001b[0;34m!=\u001b[0m \u001b[0;34m'linear'\u001b[0m\u001b[0;34m:\u001b[0m\u001b[0;34m\u001b[0m\u001b[0m\n\u001b[0;32m--> 465\u001b[0;31m             raise AttributeError('coef_ is only available when using a '\n\u001b[0m\u001b[1;32m    466\u001b[0m                                  'linear kernel')\n\u001b[1;32m    467\u001b[0m \u001b[0;34m\u001b[0m\u001b[0m\n",
      "\u001b[0;31mAttributeError\u001b[0m: coef_ is only available when using a linear kernel"
     ]
    }
   ],
   "source": [
    "# Source: https://medium.com/@aneesha/visualising-top-features-in-linear-svm-with-scikit-learn-and-matplotlib-3454ab18a14d\n",
    "\n",
    "# Graph the columns in terms of prediction weight\n",
    "cv = CountVectorizer()\n",
    "cv.fit(X)\n",
    "\n",
    "plot_coefficients(cls, cv.get_feature_names(), top_features = 10)"
   ]
  },
  {
   "cell_type": "code",
   "execution_count": null,
   "metadata": {},
   "outputs": [],
   "source": [
    "# Cool Plot\n",
    "# http://scikit-learn.org/stable/auto_examples/svm/plot_separating_hyperplane.html#example-svm-plot-separating-hyperplane-py"
   ]
  },
  {
   "cell_type": "markdown",
   "metadata": {},
   "source": [
    "<a href=\"#top\">Back to Top</a>\n",
    "<a id=\"Model\"></a>\n",
    "## Model Advantages (10 points)\n",
    "<span style=\"color: blue\">Discuss the advantages of each model for each classification task. Does one type of model offer superior performance over another in terms of prediction accuracy? In terms of training time or efficiency? Explain in detail.</span>"
   ]
  },
  {
   "cell_type": "markdown",
   "metadata": {},
   "source": [
    "<a href=\"#top\">Back to Top</a>\n",
    "<a id=\"Interpret\"></a>\n",
    "## Interpret Feature Importance (30 points)\n",
    "\n",
    "<span style=\"color: blue\">Use the weights from logistic regression to interpret the importance of different features for the classification task. <b>Explain your interpretation in detail.</b>Why do you think some variables are more important?"
   ]
  },
  {
   "cell_type": "markdown",
   "metadata": {},
   "source": [
    "<a href=\"#top\">Back to Top</a>\n",
    "<a id=\"Support\"></a>\n",
    "## Interpret Support Vectors (10 points)\n",
    "<span style=\"color:blue\">Look at the chosen support vectors for the classification task. Do these provide any insight into the data? Explain. If you used stochastic gradient descent (and therefore did not explicitly solve for support vectors), try subsampling your data to train the SVC model— then analyze the support vectors from the subsampled dataset."
   ]
  },
  {
   "cell_type": "markdown",
   "metadata": {},
   "source": []
  }
 ],
 "metadata": {
  "kernelspec": {
   "display_name": "Python 3",
   "language": "python",
   "name": "python3"
  },
  "language_info": {
   "codemirror_mode": {
    "name": "ipython",
    "version": 3
   },
   "file_extension": ".py",
   "mimetype": "text/x-python",
   "name": "python",
   "nbconvert_exporter": "python",
   "pygments_lexer": "ipython3",
   "version": "3.6.6"
  }
 },
 "nbformat": 4,
 "nbformat_minor": 2
}
