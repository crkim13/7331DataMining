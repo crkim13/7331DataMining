{
 "cells": [
  {
   "cell_type": "markdown",
   "metadata": {},
   "source": [
    "# Mini-Project: SVM & LR Classification\n",
    "### Ryan Bass, Brett Benefield, Cho Kim, Nicole Wittlin\n",
    "\n",
    "<span style=\"color: blue\">Remove all blue text before submitting</span>"
   ]
  },
  {
   "cell_type": "code",
   "execution_count": 124,
   "metadata": {},
   "outputs": [],
   "source": [
    "%matplotlib inline\n",
    "import seaborn as sns\n",
    "import warnings\n",
    "\n",
    "warnings.filterwarnings(\"ignore\")\n",
    "\n",
    "cmap = sns.diverging_palette(220, 10, as_cmap=True) # one of the many color mappings\n",
    "\n",
    "import pandas as pd\n",
    "import numpy as np\n",
    "import matplotlib.pyplot as plt\n",
    "from datetime import datetime\n",
    "from pandas.plotting import scatter_matrix\n",
    "from IPython.display import HTML, display\n",
    "from sklearn.preprocessing import StandardScaler\n",
    "from sklearn.feature_selection import VarianceThreshold, SelectPercentile, SelectKBest, chi2, f_classif\n",
    "from sklearn.metrics import classification_report, confusion_matrix, roc_curve\n",
    "from sklearn.feature_extraction.text import CountVectorizer\n",
    "from sklearn.model_selection import train_test_split, GridSearchCV, ShuffleSplit, cross_val_score\n",
    "from sklearn.linear_model import LogisticRegression\n",
    "from sklearn.svm import SVC\n",
    "from sklearn import metrics as mt"
   ]
  },
  {
   "cell_type": "markdown",
   "metadata": {},
   "source": [
    "### Supporting Functions"
   ]
  },
  {
   "cell_type": "code",
   "execution_count": 125,
   "metadata": {},
   "outputs": [],
   "source": [
    "# Source: https://medium.com/@aneesha/visualising-top-features-in-linear-svm-with-scikit-learn-and-matplotlib-3454ab18a14d\n",
    "def plot_coefficients(classifier, feature_names, top_features=20):\n",
    "    coef = classifier.coef_.ravel()\n",
    "    top_positive_coefficients = np.argsort(coef)[-top_features:]\n",
    "    top_negative_coefficients = np.argsort(coef)[:top_features]\n",
    "    top_coefficients = np.hstack([top_negative_coefficients, top_positive_coefficients])\n",
    "    # create plot\n",
    "    plt.figure(figsize=(15, 5))\n",
    "    colors = [\"red\" if c < 0 else \"blue\" for c in coef[top_coefficients]]\n",
    "    plt.bar(np.arange(2 * top_features), coef[top_coefficients], color=colors)\n",
    "    feature_names = np.array(feature_names)\n",
    "    plt.xticks(np.arange(1, 1 + 2 * top_features), feature_names[top_coefficients], rotation=60, ha=\"right\")\n",
    "    plt.show()\n",
    "    \n",
    "def getTopCoefficients(classifier, feature_names, top_features=20):\n",
    "    coef = classifier.coef_.ravel()\n",
    "    top_positive_coefficients = np.argsort(coef)[-top_features:]\n",
    "    top_negative_coefficients = np.argsort(coef)[:top_features]\n",
    "    top_coefficients = np.hstack([top_negative_coefficients, top_positive_coefficients])\n",
    "    feature_names = np.array(feature_names)\n",
    "    return feature_names[top_coefficients]\n",
    "\n",
    "# Source: https://stackoverflow.com/questions/39812885/retain-feature-names-after-scikit-feature-selection\n",
    "def percentile_threshold_selector(data, percent=10):\n",
    "    selector = SelectPercentile(f_classif, percentile = percent)\n",
    "    selector.fit(data)\n",
    "    return data[data.columns[selector.get_support(indices=True)]]\n",
    "\n",
    "def scale_data(data):\n",
    "    temp = scaler.fit(data)\n",
    "    data = pd.DataFrame(temp, columns = data.columns)\n",
    "    return data\n",
    "\n",
    "# https://stackoverflow.com/questions/17778394/list-highest-correlation-pairs-from-a-large-correlation-matrix-in-pandas\n",
    "def get_redundant_pairs(df):\n",
    "    '''Get diagonal and lower triangular pairs of correlation matrix'''\n",
    "    pairs_to_drop = set()\n",
    "    cols = df.columns\n",
    "    for i in range(0, df.shape[1]):\n",
    "        for j in range(0, i+1):\n",
    "            pairs_to_drop.add((cols[i], cols[j]))\n",
    "    return pairs_to_drop\n",
    "\n",
    "def get_top_abs_correlations(df, n=5):\n",
    "    au_corr = df.corr().abs().unstack()\n",
    "    labels_to_drop = get_redundant_pairs(df)\n",
    "    au_corr = au_corr.drop(labels=labels_to_drop).sort_values(ascending=False)\n",
    "    return au_corr[0:n]"
   ]
  },
  {
   "cell_type": "code",
   "execution_count": 126,
   "metadata": {},
   "outputs": [],
   "source": [
    "verboseStatus = False"
   ]
  },
  {
   "cell_type": "code",
   "execution_count": 127,
   "metadata": {},
   "outputs": [
    {
     "name": "stdout",
     "output_type": "stream",
     "text": [
      "C:\\sandbox\\SMU\\dataMining\\choNotebook\\EducationDataNC\\2017\\Machine Learning Datasets\n",
      "********* Initial Values Before Cleaning *******************\n",
      "<class 'pandas.core.frame.DataFrame'>\n",
      "RangeIndex: 470 entries, 0 to 469\n",
      "Columns: 403 entries, student_num to unit_code\n",
      "dtypes: float64(322), int64(81)\n",
      "memory usage: 1.4 MB\n"
     ]
    }
   ],
   "source": [
    "# Brett's directory\n",
    "# Desktop\n",
    "# %cd \"C:\\Sandbox\\SMU\\dataMining\\ChoRepo\\EducationDataNC\\2017\\Machine Learning Datasets\"\n",
    "# Laptop\n",
    "%cd \"C:\\sandbox\\SMU\\dataMining\\choNotebook\\EducationDataNC\\2017\\Machine Learning Datasets\"\n",
    "\n",
    "# Ryan's directory\n",
    "#%cd \"C:\\Users\\Clovis\\Documents\\7331DataMining\\EducationDataNC\\2017\\Machine Learning Datasets\"\n",
    "\n",
    "# Cho's directory. Either uncomment the cd statement above or make your own cd.\n",
    "#%cd \"/Users/chostone/Documents/Data Mining/7331DataMining/EducationDataNC/2017/Machine Learning Datasets\"\n",
    "\n",
    "# NW directorY \n",
    "#%cd \"C:\\Users\\Nicole Wittlin\\Documents\\7331DataMining\\EducationDataNC\\2017\\Raw Datasets\"\n",
    "dfPublicHS = pd.read_csv(\"PublicHighSchools2017_ML.csv\")\n",
    "\n",
    "print('********* Initial Values Before Cleaning *******************')\n",
    "dfPublicHS.info(verbose = verboseStatus)"
   ]
  },
  {
   "cell_type": "code",
   "execution_count": 128,
   "metadata": {},
   "outputs": [
    {
     "name": "stdout",
     "output_type": "stream",
     "text": [
      "Columns Dropped: 1\n"
     ]
    }
   ],
   "source": [
    "# Credit: https://www.kaggle.com/saravanann/santander\n",
    "# Drop any columns that have zero variance\n",
    "totalColNum = dfPublicHS.shape[1]\n",
    "sel = VarianceThreshold()\n",
    "sel.fit(dfPublicHS)\n",
    "\n",
    "keepCols = sel.get_support(indices=True)\n",
    "dfColIndex = np.arange(dfPublicHS.columns.size)\n",
    "dropCol = np.delete(dfColIndex, keepCols)\n",
    "dfPublicHS = dfPublicHS.drop(dfPublicHS.columns[dropCol], axis = 1)\n",
    "\n",
    "print(\"Columns Dropped: {}\".format(len(dropCol)))"
   ]
  },
  {
   "cell_type": "code",
   "execution_count": 129,
   "metadata": {},
   "outputs": [],
   "source": [
    "# Create correlation matrix\n",
    "dfCorr = dfPublicHS.corr('pearson').abs()"
   ]
  },
  {
   "cell_type": "code",
   "execution_count": 130,
   "metadata": {},
   "outputs": [
    {
     "name": "stdout",
     "output_type": "stream",
     "text": [
      "Columns dropped: 124\n"
     ]
    }
   ],
   "source": [
    "## source for code below: https://chrisalbon.com/machine_learning/feature_selection/drop_highly_correlated_features/ ##\n",
    "\n",
    "# Select upper triangle of correlation matrix\n",
    "upper = dfCorr.where(np.triu(np.ones(dfCorr.shape), k=1).astype(np.bool))\n",
    "\n",
    "# Find index of feature columns with correlation greater than 0.8\n",
    "to_drop = [column for column in upper.columns if any(upper[column] > 0.8)]\n",
    "\n",
    "# Drop Columns\n",
    "dfDropped = dfPublicHS.drop(columns = to_drop, axis = 1)\n",
    "\n",
    "print(\"Columns dropped: {}\".format(len(to_drop)))"
   ]
  },
  {
   "cell_type": "code",
   "execution_count": 131,
   "metadata": {},
   "outputs": [
    {
     "name": "stdout",
     "output_type": "stream",
     "text": [
      "Median: 52.178614549748545\n",
      "235 of 470: 50.0%\n"
     ]
    }
   ],
   "source": [
    "# Split the target variable based on the median value\n",
    "medianSplit = dfDropped['ALL_All Students (Total or Subtotal_ENROLL_sch_pct'].median()\n",
    "\n",
    "dfDropped['schoolPctTarget'] = np.where(dfDropped['ALL_All Students (Total or Subtotal_ENROLL_sch_pct'] >= medianSplit, 1, 0)\n",
    "\n",
    "print(\"Median: {}\".format(medianSplit))\n",
    "print(\"{} of {}: {}%\".format(dfDropped['schoolPctTarget'].sum(), dfDropped.shape[0], \n",
    "                             round(dfDropped['schoolPctTarget'].sum()/dfDropped.shape[0] * 100,2)))"
   ]
  },
  {
   "cell_type": "code",
   "execution_count": 132,
   "metadata": {},
   "outputs": [],
   "source": [
    "# Credit: https://stackoverflow.com/questions/19758364/rename-a-single-column-header-in-a-pandas-dataframe\n",
    "# Credit: https://stackoverflow.com/questions/21606987/how-can-i-strip-the-whitespace-from-pandas-dataframe-headers\n",
    "# Credit: https://stackoverflow.com/questions/39741429/pandas-replace-a-character-in-all-column-names\n",
    "# Credit: https://stackoverflow.com/questions/33157643/pandas-replace-erase-different-characters-from-strings\n",
    "\n",
    "# Drop these columns because they contain the answer we are trying to predict\n",
    "dropCols = dfDropped.filter(regex = r'sch_pct')\n",
    "\n",
    "dfDropped.drop(dropCols, axis = 1, inplace = True)\n",
    "\n",
    "# These names seem to cause problems so let's give them friendlier names\n",
    "renameCols = {'_1yr_tchr_trnovr_pct': 'One_yr_tchr_trnovr_pct',\n",
    "              '0-3 Years_LEA_Exp_Pct_Prin': 'less_3_years_LEA_Exp_Pct_Prin',\n",
    "              '10+ Years_LEA_Exp_Pct_Prin': 'ten_plus_years_LEA_Exp_Pct_Prin',\n",
    "              '4-10 Years_LEA_Exp_Pct_Prin': 'four_plus_years_LEA_Exp_Pct_Prin',\n",
    "              '4-Year_Cohort_Graduation_Rate_Score': 'four_Year_Cohort_Graduation_Rate_Score',\n",
    "              '_1_to_1_access_Yes': 'one_to_one_access_yes'}\n",
    "\n",
    "# Remove any trailing white spaces\n",
    "dfPublicHS.columns = dfPublicHS.columns.str.strip()\n",
    "\n",
    "# Remove any spaces, slashes, or hyphens\n",
    "dfPublicHS.columns = dfPublicHS.columns.str.replace(r' |/|-', \"_\")\n",
    "\n",
    "# Rename columns\n",
    "dfPublicHS.rename(columns=renameCols, inplace = True)"
   ]
  },
  {
   "cell_type": "code",
   "execution_count": 133,
   "metadata": {},
   "outputs": [],
   "source": [
    "y = dfDropped['schoolPctTarget']"
   ]
  },
  {
   "cell_type": "code",
   "execution_count": 134,
   "metadata": {},
   "outputs": [],
   "source": [
    "# Drop these columns because they contain the answer we are trying to predict\n",
    "dropCols = dfDropped.filter(regex = r'sch_pct')\n",
    "\n",
    "dfDropped.drop(dropCols, axis = 1, inplace = True)"
   ]
  },
  {
   "cell_type": "code",
   "execution_count": 135,
   "metadata": {},
   "outputs": [
    {
     "name": "stdout",
     "output_type": "stream",
     "text": [
      "ShuffleSplit(n_splits=10, random_state=None, test_size=0.2, train_size=None)\n"
     ]
    }
   ],
   "source": [
    "# to use the cross validation object in scikit learn, we need to grab an instance\n",
    "#    of the object and set it up. This object will be able to split our data into \n",
    "#    training and testing splits\n",
    "num_cv_iterations = 10\n",
    "num_instances = len(y)\n",
    "cv_object = ShuffleSplit(n_splits=num_cv_iterations,\n",
    "                         test_size  = 0.2)\n",
    "                         \n",
    "print(cv_object)"
   ]
  },
  {
   "cell_type": "code",
   "execution_count": 136,
   "metadata": {},
   "outputs": [],
   "source": [
    "maxCols = dfDropped.shape[1]\n",
    "X = dfDropped.iloc[:,0:maxCols-2]"
   ]
  },
  {
   "cell_type": "markdown",
   "metadata": {},
   "source": [
    "### Data split\n",
    "Split the resulting dataset into 80% for training and 20% for testing. After we split the training data, we then scale the data so that each column contributes equal weight to the model. A column with a range of 1 and a column with a range of 10,000 will be highly biased by the column with a range of 10,000. Scaling the columns puts each column on an equal range. We use fit to calculate the mean and standard deviation for the train data set. We use the mean and standard deviation of the train data on the test data so that information isn't biased by data that we shouldn't know about."
   ]
  },
  {
   "cell_type": "code",
   "execution_count": 137,
   "metadata": {},
   "outputs": [],
   "source": [
    "# Create a test and train dataset with an 80/20 split\n",
    "xTrain, xTest, yTrain, yTest = train_test_split(X.astype(np.float), y, test_size = 0.2)\n",
    "\n",
    "# Scale data after splitting out test data\n",
    "scaler = StandardScaler()\n",
    "scaler.fit(xTrain)\n",
    "xTrain = scaler.transform(xTrain)\n",
    "xTest = scaler.transform(xTest)"
   ]
  },
  {
   "cell_type": "code",
   "execution_count": 138,
   "metadata": {},
   "outputs": [],
   "source": [
    "# This cell needs to be moved but for now I'm going to put it here\n",
    "xTrainLR = xTrain\n",
    "xTestLR = xTest\n",
    "yTrainLR = yTrain\n",
    "yTestLR = yTest"
   ]
  },
  {
   "cell_type": "markdown",
   "metadata": {},
   "source": [
    "## Create Models (50 points)\n",
    "<span style=\"color: blue\">Create a logistic regression model and a support vector machine model for the classification task involved with your dataset. Assess how well each model performs (use 80/20 training/testing split for your data). <b>Adjust parameters of the models to make them more accurate.</b> If your dataset size requires the use of stochastic gradient descent, then linear kernel only is fine to use. That is, the SGDClassifier is fine to use for optimizing logistic regression and linear support vector machines. For many problems, SGD will be required in order to train the SVM model in a reasonable timeframe."
   ]
  },
  {
   "cell_type": "markdown",
   "metadata": {},
   "source": [
    "### Logistic Regression"
   ]
  },
  {
   "cell_type": "code",
   "execution_count": 139,
   "metadata": {},
   "outputs": [
    {
     "name": "stdout",
     "output_type": "stream",
     "text": [
      "confusion matrix\n",
      " [[29 22]\n",
      " [12 31]]\n",
      "Accuracy (1-Fold) 0.6382978723404256\n",
      "Accuracy (10-Fold): 0.65 (+/- 0.08)\n"
     ]
    }
   ],
   "source": [
    "# first we create a reusable logisitic regression object\n",
    "#   here we can setup the object with different learning parameters and constants\n",
    "lr_clf = LogisticRegression(penalty='l1', C=1.0, class_weight=None) # get object\n",
    "\n",
    "# now we can use the cv_object that we setup before to iterate through the \n",
    "#    different training and testing sets. Each time we will reuse the logisitic regression \n",
    "#    object, but it gets trained on different data each time we use it.\n",
    "\n",
    "#iter_num=0\n",
    "# the indices are the rows used for training and testing in each iteration\n",
    "#for train_indices, test_indices in cv_object.split(X,y): \n",
    "    # I will create new variables here so that it is more obvious what \n",
    "    # the code is doing (you can compact this syntax and avoid duplicating memory,\n",
    "    # but it makes this code less readable)\n",
    "#    X_train = X[train_indices]\n",
    "#    y_train = y[train_indices]\n",
    "    \n",
    "#    X_test = X[test_indices]\n",
    "#    y_test = y[test_indices]\n",
    "    \n",
    "    # train the reusable logisitc regression model on the training data\n",
    "lr_clf.fit(xTrain, yTrain)  # train object\n",
    "y_hat = lr_clf.predict(xTest) # get test set precitions\n",
    "\n",
    "    # now let's get the accuracy and confusion matrix for this iterations of training/testing\n",
    "acc = mt.accuracy_score(yTest,y_hat)\n",
    "conf = mt.confusion_matrix(yTest,y_hat)\n",
    "print(\"confusion matrix\\n\",conf)\n",
    "print(\"Accuracy (1-Fold)\", acc )\n",
    "\n",
    "scores = cross_val_score(lr_clf, X, y, cv=cv_object)\n",
    "\n",
    "print(\"Accuracy (10-Fold): %0.2f (+/- %0.2f)\" % (scores.mean(), scores.std() * 2))\n",
    "\n",
    "# Also note that every time you run the above code\n",
    "#   it randomly creates a new training and testing set, \n",
    "#   so accuracy will be different each time"
   ]
  },
  {
   "cell_type": "markdown",
   "metadata": {},
   "source": [
    "# Can be dropped"
   ]
  },
  {
   "cell_type": "code",
   "execution_count": 140,
   "metadata": {},
   "outputs": [
    {
     "name": "stdout",
     "output_type": "stream",
     "text": [
      "accuracy: 0.6808510638297872\n",
      "[[30 21]\n",
      " [ 9 34]]\n",
      "GraduationRate_4yr_SWD has weight of -0.3227792799708021\n",
      "lea_advance_dgr_pct has weight of -0.31300036719883567\n",
      "PacificIslandFemalePct has weight of -0.26404806701859845\n",
      "cte_courses has weight of -0.22896660088665602\n",
      "GraduationRate_4yr_LEP has weight of -0.2065305800647807\n",
      "Not Demostrated_TCHR_Standard 4_Pct has weight of -0.19598405923310358\n",
      "grades_1_to_1_access_11:12 has weight of -0.1916641742107552\n",
      "wap_per_classroom has weight of -0.1735873190389085\n",
      "Proficient_TCHR_Standard 1_Pct has weight of -0.1712672935035781\n",
      "GraduationRate_5yr_EDS has weight of -0.1709538811844435\n",
      "books_per_student has weight of -0.17080722468203718\n",
      "grade_range_cd_PK-12 has weight of -0.17026766440142932\n",
      "ACTCompositeScore_UNCMin_Black has weight of -0.16813630037432195\n",
      "EOCEnglish2_CACR_Black has weight of -0.166478627141423\n",
      "grades_BYOD_12 has weight of -0.16554336866303024\n",
      "Accomplished_TCHR_Standard 5_Pct has weight of -0.16536393930417073\n",
      "tchyrs_4thru10_pct has weight of -0.16049848175062487\n",
      "lea_cte_courses has weight of -0.15961861617301093\n",
      "grade_range_cd_8-12 has weight of -0.15737216140165616\n",
      "lea_total_expense_num has weight of -0.15499760986780337\n",
      "pct_eds has weight of -0.15488158947626363\n",
      "GraduationRate_4yr_Asian has weight of -0.1525753498208848\n",
      "lea_services_expense_pct has weight of -0.15067826450535388\n",
      "HispanicMalePct has weight of -0.14966622690890635\n",
      "lea_crime_per_c_num has weight of -0.1412800590578672\n",
      "MathGr10_pTarget_PctMet has weight of -0.13815894977453405\n",
      "EOCSubjects_CACR_AIG has weight of -0.13800123420365246\n",
      "grades_1_to_1_access_6:07:08 has weight of -0.13776215743544717\n",
      "GraduationRate_4yr_Hispanic has weight of -0.13684713726414596\n",
      "TwoOrMoreFemalePct has weight of -0.13679204245320456\n",
      "EOCEnglish2_CACR_SWD has weight of -0.13389571850420745\n",
      "TwoOrMoreMalePct has weight of -0.13288108640257512\n",
      "crime_per_c_num has weight of -0.1320333095164826\n",
      "SBE District_Southwest has weight of -0.12629582768057523\n",
      "Developing_TCHR_Standard 2_Pct has weight of -0.12496172586884066\n",
      "lea_supplies_expense_pct has weight of -0.12336329563530299\n",
      "ACTWorkKeys_SilverPlus_TwoorMoreRaces has weight of -0.11966971378653261\n",
      "AsianFemalePct has weight of -0.1118309828418681\n",
      "calendar_type_txt_Regular School, Year-Round Calendar has weight of -0.11010236805877706\n",
      "lea_wap_num has weight of -0.10562326082534691\n",
      "ACTSubtests_BenchmarksMet_AmericanIndian has weight of -0.10153744837818145\n",
      "long_susp_per_c_num has weight of -0.09808335274286428\n",
      "grade_range_cd_6-12 has weight of -0.09705202160949972\n",
      "HispanicFemalePct has weight of -0.09688179397693233\n",
      "EOCSubjects_CACR_LEP has weight of -0.09658701774116456\n",
      "Not Demostrated_TCHR_Standard 1_Pct has weight of -0.09592493002273356\n",
      "grades_1_to_1_access_9:10:11:12:13 has weight of -0.09534262484630322\n",
      "EOCMathI_CACR_SWD has weight of -0.09460899350092493\n",
      "GraduationRate_4yr_TwoorMoreRaces has weight of -0.09275550393278649\n",
      "grades_BYOD_8:9:10:11:12 has weight of -0.09268522359976608\n",
      "total_specialized_courses has weight of -0.09120318422395673\n",
      "BMA_Concentrator_Ct has weight of -0.08944359866390884\n",
      "lea_local_perpupil_num has weight of -0.08890544232833011\n",
      "grade_range_cd_9-11 has weight of -0.08703489554592253\n",
      "grade_range_cd_9-9 has weight of -0.08581740269453461\n",
      "Exceeds Expected Growth_TCHR_Student Growth_Pct has weight of -0.08473434393087735\n",
      "EOCBiology_CACR_TwoorMoreRaces has weight of -0.08402699082037014\n",
      "EOCSubjects_CACR_SWD has weight of -0.08329836989100228\n",
      "12_Size has weight of -0.08254307739087793\n",
      "grades_1_to_1_access_9:10:11 has weight of -0.08140083759750809\n",
      "SRC_Grades_Devices_Sent_Home_9:10:12 has weight of -0.08106083281806062\n",
      "lea_flicensed_teach_pct has weight of -0.08064422966004353\n",
      "CurrentYearEOC_pTarget_PctMet has weight of -0.08017747882590419\n",
      "lea_instruct_equip_exp_pct has weight of -0.0793140077620994\n",
      "Accomplished_TCHR_Standard 2_Pct has weight of -0.07790048739373676\n",
      "lea_nbpts_num has weight of -0.07698709384649136\n",
      "grade_range_cd_7-12 has weight of -0.07571022555337113\n",
      "ACTWorkKeys_pTarget_PctMet has weight of -0.07037090624672722\n",
      "SBE District_Piedmont-Triad has weight of -0.06994640079817241\n",
      "Reading SPG Grade_C has weight of -0.06864413375117089\n",
      "GraduationRate_5yr_Hispanic has weight of -0.0672118448145564\n",
      "ACT_pTarget_PctMet has weight of -0.066360319434247\n",
      "ACTSubtests_BenchmarksMet_SWD has weight of -0.06475066282840622\n",
      "grades_BYOD_11:12:13 has weight of -0.06245965331094632\n",
      "ACTWorkKeys_SilverPlus_SWD has weight of -0.058850977449316805\n",
      "st_crime_per_c_num has weight of -0.05533228152409821\n",
      "GraduationRate_5yr_AmericanIndian has weight of -0.055256837050816535\n",
      "grades_BYOD_9:10:11 has weight of -0.05427622958188534\n",
      "09_Size has weight of -0.053928567023795254\n",
      "EOCEnglish2_CACR_LEP has weight of -0.051758360730239386\n",
      "lea_books_per_student has weight of -0.05088265304926797\n",
      "GraduationRate_4yr_EDS has weight of -0.04958151280473307\n",
      "digital_media_pct has weight of -0.04917844478444573\n",
      "_1_to_1_access_Yes has weight of -0.04860882569780887\n",
      "ARCH_Concentrator_Ct has weight of -0.046572300126005224\n",
      "ACTCompositeScore_UNCMin_TwoorMoreRaces has weight of -0.046363475673226934\n",
      "lea_ap_participation_pct has weight of -0.043198209069672915\n",
      "10+ Years_LEA_Exp_Pct_Prin has weight of -0.04258761161334033\n",
      "lea_tchyrs_0thru3_pct has weight of -0.04257660017586437\n",
      "10_Size has weight of -0.04190272744509265\n",
      "EOCMathI_CACR_TwoorMoreRaces has weight of -0.041599524244376386\n",
      "Developing_TCHR_Standard 4_Pct has weight of -0.04032839979955914\n",
      "11_Size has weight of -0.04017089632212705\n",
      "advance_dgr_pct has weight of -0.03891394501486669\n",
      "grades_BYOD_9 has weight of -0.03783228036427406\n",
      "EVAAS Growth Status_Met has weight of -0.035798331487762076\n",
      "st_avg_daily_attend_pct has weight of -0.03484541954311682\n",
      "MANU_Concentrator_Ct has weight of -0.030532861815049255\n",
      "grade_range_cd_7-13 has weight of -0.029900263134244653\n",
      "NC Math 1 Score has weight of -0.02948190698724167\n",
      "SRC_Grades_Devices_Sent_Home_6:7:8:9:10:11:12 has weight of -0.02843207248845498\n",
      "grades_BYOD_6:7:8:9:10:11:12 has weight of -0.02843207248845498\n",
      "grades_1_to_1_access_6:7:8:9:10:11:12:13 has weight of -0.028114213854830403\n",
      "AAVC_Concentrator_Ct has weight of -0.02709680897560723\n",
      "short_susp_per_c_num has weight of -0.026775168857664195\n",
      "EOCBiology_CACR_Hispanic has weight of -0.02674779545861477\n",
      "esea_status_P has weight of -0.02651373197432667\n",
      "Passing NC Math 3 has weight of -0.026204755465109853\n",
      "Math SPG Grade_B has weight of -0.02479177144074785\n",
      "Byod_Yes has weight of -0.022524425350117006\n",
      "lea_tchyrs_4thru10_pct has weight of -0.021858599583627923\n",
      "EVAAS Growth Score has weight of -0.020704652560052456\n",
      "Not Demostrated_TCHR_Standard 3_Pct has weight of -0.02063434205919046\n",
      "SRC_Grades_Devices_Sent_Home_10:11:12:13 has weight of -0.018895005772025613\n",
      "0-3 Years_LEA_Exp_Pct_Prin has weight of -0.01433151715548755\n",
      "SBE District_Western has weight of -0.012481235032238015\n",
      "GraduationRate_5yr_LEP has weight of -0.01216186925285499\n",
      "Math SPG Grade_F has weight of -0.011646142504593773\n",
      "Reading SPG Grade_D has weight of -0.011646142504593773\n",
      "Meets Expected Growth_TCHR_Student Growth_Pct has weight of -0.0108385904829567\n",
      "ACTCompositeScore_UNCMin_AmericanIndian has weight of -0.01072527948472673\n",
      "EOCBiology_CACR_EDS has weight of -0.010073287468870385\n",
      "EOCMathI_CACR_Hispanic has weight of -0.009944374154494904\n",
      "EOCMathI_CACR_LEP has weight of -0.009805917074087941\n",
      "EOCEnglish2_CACR_White has weight of -0.009579253701434805\n",
      "STEM_Concentrator_Ct has weight of -0.008822838372375935\n",
      "expelled_per_c_num has weight of -0.006670369778009228\n",
      "grades_1_to_1_access_11:12:13 has weight of -0.006243430436242558\n",
      "GraduationRate_4yr_Black has weight of -0.003844132321575221\n",
      "Math SPG Grade_C has weight of -0.0037603656943787\n",
      "SPG Grade_B has weight of -0.0018538003710624608\n",
      "Distinguished_TCHR_Standard 1_Pct has weight of -0.0016990077426537918\n",
      "GraduationRate_4yr_AIG has weight of -0.0009604677616150703\n",
      "lea_sat_participation_pct has weight of -0.0006893853669476578\n",
      "ACTSubtests_BenchmarksMet_Asian has weight of -0.0003835196484041845\n",
      "Reading SPG Grade_F has weight of 0.0\n",
      "SRC_Grades_Devices_Sent_Home_10:11:12 has weight of 0.0\n",
      "grade_range_cd_3-12 has weight of 0.0\n",
      "grade_range_cd_PK-13 has weight of 0.0\n",
      "grades_1_to_1_access_11 has weight of 0.0\n",
      "grades_BYOD_PK:9:10:11:12 has weight of 0.0\n",
      "GraduationRate_4yr_Male has weight of 0.00019285175648120405\n",
      "English II Score has weight of 0.0010716404619476893\n",
      "lea_emer_prov_teach_pct has weight of 0.0018908817922412427\n",
      "SPG Grade_C has weight of 0.0022226533484448053\n",
      "ACTSubtests_BenchmarksMet_AIG has weight of 0.0023018543773604223\n",
      "grades_1_to_1_access_10:11:12 has weight of 0.004869011574450414\n",
      "grades_BYOD_11:12 has weight of 0.006712455815176748\n",
      "lea_ap_pct_3_or_above has weight of 0.00672799033494209\n",
      "lea_federal_perpupil_num has weight of 0.007105665684508831\n",
      "nbpts_num has weight of 0.010298544582658492\n",
      "SRC_Grades_Devices_Sent_Home_9:10 has weight of 0.011658888011231161\n",
      "grades_1_to_1_access_9:10 has weight of 0.011658888011231161\n",
      "EOCBiology_CACR_White has weight of 0.011811377108856625\n",
      "Distinguished_TCHR_Standard 2_Pct has weight of 0.012279206436524978\n",
      "grades_1_to_1_access_10:11:12:13 has weight of 0.012695656985874076\n",
      "EOCSubjects_CACR_Black has weight of 0.01286545192399292\n",
      "lea_long_susp_per_c_num has weight of 0.013963451618240717\n",
      "ACTCompositeScore_UNCMin_EDS has weight of 0.014899890838541074\n",
      "EOCBiology_CACR_SWD has weight of 0.01571620646858266\n",
      "flicensed_teach_pct has weight of 0.017374714295862754\n",
      "grades_BYOD_9:10:11:12:13 has weight of 0.01812756495128995\n",
      "sat_avg_score_num has weight of 0.018492987835765348\n",
      "ACTCompositeScore_UNCMin_White has weight of 0.018597820265417522\n",
      "grades_BYOD_9:10:11:12 has weight of 0.01881766292766547\n",
      "grade_range_cd_6-13 has weight of 0.019493450854151263\n",
      "grades_1_to_1_access_9 has weight of 0.02016885332304068\n",
      "GraduationRate_5yr_Asian has weight of 0.020628322524791215\n",
      "EOCSubjects_CACR_Hispanic has weight of 0.022337145597561312\n",
      "grade_range_cd_9-13 has weight of 0.022435460413883224\n",
      "Does Not Meet Expected Growth_TCHR_Student Growth_Pct has weight of 0.02284692239623409\n",
      "ACTCompositeScore_UNCMin_SWD has weight of 0.027138638898510085\n",
      "ap_participation_pct has weight of 0.027185550594757517\n",
      "grades_1_to_1_access_9:11:12:13 has weight of 0.02885110130458319\n",
      "lea_1yr_tchr_trnovr_pct has weight of 0.029727391759212744\n",
      "Accomplished_TCHR_Standard 4_Pct has weight of 0.03258897445193627\n",
      "Number_Industry_Recognized_Crede has weight of 0.032997250516188965\n",
      "ACTCompositeScore_UNCMin_Asian has weight of 0.03455125497580985\n",
      "ACTSubtests_BenchmarksMet_LEP has weight of 0.03465907024901963\n",
      "GraduationRate_5yr_TwoorMoreRaces has weight of 0.036656477682814825\n",
      "univ_college_courses has weight of 0.03702196543858277\n",
      "Biology_Size has weight of 0.03769602513045992\n",
      "English II_Size has weight of 0.03916720114606387\n",
      "SPG Grade_D has weight of 0.039673116478833606\n",
      "SPG Grade_A+NG has weight of 0.04005713866660081\n",
      "EOCEnglish2_CACR_AIG has weight of 0.04023749552037622\n",
      "INFO_Concentrator_Ct has weight of 0.04240762739411409\n",
      "EOCBiology_CACR_Asian has weight of 0.04292521508315836\n",
      "Developing_TCHR_Standard 1_Pct has weight of 0.043406836864404705\n",
      "grade_range_cd_11-13 has weight of 0.04435186498035553\n",
      "HLTH_Concentrator_Ct has weight of 0.044783077824018455\n",
      "ACT WorkKeys Score has weight of 0.04478777611515895\n",
      "4-10 Years_LEA_Exp_Pct_Prin has weight of 0.04523438553931029\n",
      "grades_BYOD_9:11:12 has weight of 0.04599377300011008\n",
      "_1yr_tchr_trnovr_pct has weight of 0.04840683849543229\n",
      "TRAN_Concentrator_Ct has weight of 0.04935903630834301\n",
      "ACTMath_ACTBenchmark_SWD has weight of 0.05231113377575966\n",
      "grade_range_cd_9-12 has weight of 0.05428810823353264\n",
      "grades_BYOD_6:7:8:9:10:11:12:13 has weight of 0.055608306652323906\n",
      "avg_age_media_collection has weight of 0.05577464624618354\n",
      "lea_tchyrs_11plus_pct has weight of 0.05680390485679586\n",
      "PacificIslandMalePct has weight of 0.05743637638054607\n",
      "ACTWorkKeys_SilverPlus_Asian has weight of 0.05834020091510205\n",
      "ACTCompositeScore_UNCMin_AIG has weight of 0.06037712192606015\n",
      "BlackMalePct has weight of 0.06040756216847377\n",
      "ACTWriting_ACTBenchmark_LEP has weight of 0.061712384824780725\n",
      "lea_avg_daily_attend_pct has weight of 0.06191007980776426\n",
      "grade_range_cd_11-12 has weight of 0.06245090650628588\n",
      "grades_1_to_1_access_9:10:11:12 has weight of 0.06252513979779024\n",
      "student_num has weight of 0.06339629585349695\n",
      "GraduationRate_5yr_AIG has weight of 0.06422888077135751\n",
      "Grad_project_status_Y has weight of 0.06503981839621202\n",
      "SciGr11_pTarget_PctMet has weight of 0.06555591973128122\n",
      "Developing_TCHR_Standard 3_Pct has weight of 0.06753255179173896\n",
      "stud_internet_comp_num has weight of 0.0735607135511654\n",
      "EOCBiology_CACR_LEP has weight of 0.07469904359490544\n",
      "lea_sat_avg_score_num has weight of 0.07541282014570844\n",
      "SPG Score has weight of 0.07630281065953966\n",
      "st_avg_student_num has weight of 0.07748946124364099\n",
      "avg_daily_attend_pct has weight of 0.07811685365098135\n",
      "EOCSubjects_CACR_Asian has weight of 0.07887301123195775\n",
      "GraduationRate_4yr_White has weight of 0.0791505806750725\n",
      "SBE District_Northwest has weight of 0.08161540659930976\n",
      "GraduationRate_5yr_Male has weight of 0.0820397412208548\n",
      "lea_univ_college_courses has weight of 0.08263491902092175\n",
      "ACTSubtests_BenchmarksMet_Hispanic has weight of 0.08598815823295329\n",
      "lateral_teach_pct has weight of 0.08727826873145035\n",
      "EVAAS Growth Status_NotMet has weight of 0.0876422677394264\n",
      "Reading SPG Grade_B has weight of 0.08937229174155933\n",
      "tchyrs_11plus_pct has weight of 0.08969542651432326\n",
      "Developing_TCHR_Standard 5_Pct has weight of 0.09054461744772918\n",
      "SBE District_Northeast has weight of 0.09786631923078014\n",
      "ACTWorkKeys_SilverPlus_Hispanic has weight of 0.09830082104389501\n",
      "ACTSubtests_BenchmarksMet_Black has weight of 0.10147696025334689\n",
      "ACTCompositeScore_UNCMin_Hispanic has weight of 0.10157809299271428\n",
      "Not Demostrated_TCHR_Standard 2_Pct has weight of 0.10377735527069117\n",
      "ACTWriting_ACTBenchmark_EDS has weight of 0.11037298766584343\n",
      "sat_participation_pct has weight of 0.11084450311331923\n",
      "lea_wap_per_classroom has weight of 0.1117616449279584\n",
      "SBE District_Sandhills has weight of 0.11387623009434018\n",
      "EOCBiology_CACR_AIG has weight of 0.114075291229075\n",
      "SRC_Grades_Devices_Sent_Home_8:9:10:11:12:13 has weight of 0.11998302374582792\n",
      "lea_avg_student_num has weight of 0.12000287124959558\n",
      "AGNR_Concentrator_Ct has weight of 0.12250791495879752\n",
      "lea_short_susp_per_c_num has weight of 0.12267958728042187\n",
      "HOSP_Concentrator_Ct has weight of 0.12418077861614812\n",
      "Biology Score has weight of 0.12786350270324542\n",
      "ACT Score has weight of 0.1281341414955837\n",
      "lea_stud_internet_comp_num has weight of 0.12837345260492888\n",
      "lea_expelled_per_c_num has weight of 0.12988034318491334\n",
      "ACTWorkKeys_SilverPlus_Black has weight of 0.1302663142951941\n",
      "TotalTargets_pTarget_PctMet has weight of 0.13248207303824205\n",
      "tchyrs_0thru3_pct has weight of 0.13255863320165953\n",
      "EOCSubjects_CACR_TwoorMoreRaces has weight of 0.1330407870155681\n",
      "EOCEnglish2_CACR_Hispanic has weight of 0.14816964522045184\n",
      "ACTSubtests_BenchmarksMet_TwoorMoreRaces has weight of 0.1579123192836188\n",
      "IndianFemalePct has weight of 0.16101767181670795\n",
      "GraduationRate_5yr_White has weight of 0.1809989721160258\n",
      "EOCSubjects_CACR_AmericanIndian has weight of 0.18361068702426991\n",
      "EOCMathI_CACR_Black has weight of 0.18507408149065027\n",
      "ACTWorkKeys_SilverPlus_AIG has weight of 0.18816243082398318\n",
      "ap_pct_3_or_above has weight of 0.19326675800489532\n",
      "lea_salary_expense_pct has weight of 0.19336807340240955\n",
      "GraduationRate_4yr_Female has weight of 0.201911561170558\n",
      "ACTCompositeScore_UNCMin_LEP has weight of 0.20621707294966615\n",
      "EOCBiology_CACR_Black has weight of 0.21021294260462492\n",
      "ACTWriting_ACTBenchmark_SWD has weight of 0.23634310655405819\n",
      "grade_range_cd_K-12 has weight of 0.24313696823003253\n",
      "GraduationRate_5yr_All has weight of 0.24599034885280383\n",
      "Math I_Size has weight of 0.2484188922487714\n",
      "SBE District_Southeast has weight of 0.24967476573789274\n",
      "EOCMathI_CACR_AIG has weight of 0.25068146918576234\n",
      "Accomplished_TCHR_Standard 1_Pct has weight of 0.2532518025282868\n"
     ]
    }
   ],
   "source": [
    "# we want to normalize the features based upon the mean and standard deviation of each column. \n",
    "# However, we do not want to accidentally use the testing data to find out the mean and std (this would be snooping)\n",
    "# to Make things easier, let's start by just using whatever was last stored in the variables:\n",
    "##    X_train , y_train , X_test, y_test (they were set in a for loop above)\n",
    "\n",
    "# scale attributes by the training set\n",
    "scl_obj = StandardScaler()\n",
    "scl_obj.fit(xTrain) # find scalings for each column that make this zero mean and unit std\n",
    "# the line of code above only looks at training data to get mean and std and we can use it \n",
    "# to transform new feature data\n",
    "\n",
    "X_train_scaled = scl_obj.transform(xTrain) # apply to training\n",
    "X_test_scaled = scl_obj.transform(xTest) # apply those means and std to the test set (without snooping at the test set values)\n",
    "\n",
    "# train the model just as before\n",
    "lr_clf = LogisticRegression(penalty='l2', C=0.05) # get object, the 'C' value is less (can you guess why??)\n",
    "lr_clf.fit(X_train_scaled,yTrain)  # train object\n",
    "\n",
    "y_hat = lr_clf.predict(X_test_scaled) # get test set precitions\n",
    "\n",
    "acc = mt.accuracy_score(yTest,y_hat)\n",
    "conf = mt.confusion_matrix(yTest,y_hat)\n",
    "print('accuracy:', acc )\n",
    "print(conf )\n",
    "\n",
    "# sort these attributes and spit them out\n",
    "zip_vars = zip(lr_clf.coef_.T,X.columns) # combine attributes\n",
    "zip_vars = sorted(zip_vars)\n",
    "for coef, name in zip_vars:\n",
    "    print(name, 'has weight of', coef[0]) # now print them out"
   ]
  },
  {
   "cell_type": "markdown",
   "metadata": {},
   "source": [
    "## Interpret Feature Importance (30 points)\n",
    "\n",
    "<span style=\"color: blue\">Use the weights from logistic regression to interpret the importance of different features for the classification task. <b>Explain your interpretation in detail.</b>Why do you think some variables are more important?"
   ]
  },
  {
   "cell_type": "code",
   "execution_count": 141,
   "metadata": {},
   "outputs": [
    {
     "data": {
      "image/png": "[encoded data removed]",
      "text/plain": [
       "<Figure size 1080x360 with 1 Axes>"
      ]
     },
     "metadata": {
      "needs_background": "light"
     },
     "output_type": "display_data"
    }
   ],
   "source": [
    "# Graph the columns in terms of prediction weight\n",
    "cv = CountVectorizer()\n",
    "cv.fit(X)\n",
    "\n",
    "plot_coefficients(lr_clf, cv.get_feature_names(), top_features = 10)"
   ]
  },
  {
   "cell_type": "markdown",
   "metadata": {},
   "source": [
    "## Support Vector Machines"
   ]
  },
  {
   "cell_type": "markdown",
   "metadata": {},
   "source": [
    "### Column preparation\n",
    "\n",
    "At this point, the dataset contains 'future' information that the model should not be aware of. We need to drop these columns before we build the model. In addition, some of the column names don't start with alpha characters which cause code later in the notebook to miss these columns and not graph the most significant support vectors correctly"
   ]
  },
  {
   "cell_type": "code",
   "execution_count": 90,
   "metadata": {},
   "outputs": [],
   "source": [
    "# Credit: https://stackoverflow.com/questions/19758364/rename-a-single-column-header-in-a-pandas-dataframe\n",
    "# Credit: https://stackoverflow.com/questions/21606987/how-can-i-strip-the-whitespace-from-pandas-dataframe-headers\n",
    "# Credit: https://stackoverflow.com/questions/39741429/pandas-replace-a-character-in-all-column-names\n",
    "# Credit: https://stackoverflow.com/questions/33157643/pandas-replace-erase-different-characters-from-strings\n",
    "\n",
    "# Drop these columns because they contain the answer we are trying to predict\n",
    "dropCols = dfDropped.filter(regex = r'sch_pct')\n",
    "\n",
    "dfDropped.drop(dropCols, axis = 1, inplace = True)\n",
    "\n",
    "# These names seem to cause problems so let's give them friendlier names\n",
    "renameCols = {'_1yr_tchr_trnovr_pct': 'One_yr_tchr_trnovr_pct',\n",
    "              '0-3 Years_LEA_Exp_Pct_Prin': 'less_3_years_LEA_Exp_Pct_Prin',\n",
    "              '10+ Years_LEA_Exp_Pct_Prin': 'ten_plus_years_LEA_Exp_Pct_Prin',\n",
    "              '4-10 Years_LEA_Exp_Pct_Prin': 'four_plus_years_LEA_Exp_Pct_Prin',\n",
    "              '4-Year_Cohort_Graduation_Rate_Score': 'four_Year_Cohort_Graduation_Rate_Score',\n",
    "              '_1_to_1_access_Yes': 'one_to_one_access_yes'}\n",
    "\n",
    "# Remove any trailing white spaces\n",
    "dfPublicHS.columns = dfPublicHS.columns.str.strip()\n",
    "\n",
    "# Remove any spaces, slashes, or hyphens\n",
    "dfPublicHS.columns = dfPublicHS.columns.str.replace(r' |/|-', \"_\")\n",
    "\n",
    "# Rename columns\n",
    "dfPublicHS.rename(columns=renameCols, inplace = True)"
   ]
  },
  {
   "cell_type": "markdown",
   "metadata": {},
   "source": [
    "### Linear Regression Features\n",
    "For comparison against the two models, we'll build a model with the attributes used for the linear regression model"
   ]
  },
  {
   "cell_type": "code",
   "execution_count": 91,
   "metadata": {},
   "outputs": [],
   "source": [
    "param_grid = dict(C=[1,10,100,1000])\n",
    "gridLinear = GridSearchCV(SVC(), param_grid=param_grid, iid = False, cv=10)"
   ]
  },
  {
   "cell_type": "code",
   "execution_count": 92,
   "metadata": {},
   "outputs": [
    {
     "name": "stdout",
     "output_type": "stream",
     "text": [
      "Training started at: 20:01:30.509692\n",
      "Wall time: 2.51 s\n",
      "Best parameters set found on development set:\n",
      "\n",
      "{'C': 1}\n",
      "\n",
      "gridLinear scores on development set:\n",
      "\n",
      "0.702 (+/-0.153) for {'C': 1}\n",
      "0.673 (+/-0.131) for {'C': 10}\n",
      "0.659 (+/-0.126) for {'C': 100}\n",
      "0.659 (+/-0.126) for {'C': 1000}\n",
      "\n"
     ]
    }
   ],
   "source": [
    "# Train SVM model\n",
    "print(\"Training started at: {}\".format(datetime.now().time()))\n",
    "%time gridLinear.fit(xTrainLR, yTrainLR)\n",
    "\n",
    "bestValues = gridLinear.best_params_\n",
    "\n",
    "print(\"Best parameters set found on development set:\")\n",
    "print()\n",
    "print(bestValues)\n",
    "print()\n",
    "print(\"gridLinear scores on development set:\")\n",
    "print()\n",
    "means = gridLinear.cv_results_['mean_test_score']\n",
    "stds = gridLinear.cv_results_['std_test_score']\n",
    "for mean, std, params in zip(means, stds, gridLinear.cv_results_['params']):\n",
    "    print(\"%0.3f (+/-%0.03f) for %r\"\n",
    "          % (mean, std * 2, params))\n",
    "print()"
   ]
  },
  {
   "cell_type": "code",
   "execution_count": 93,
   "metadata": {},
   "outputs": [
    {
     "name": "stdout",
     "output_type": "stream",
     "text": [
      "[[28 20]\n",
      " [20 26]]\n",
      "              precision    recall  f1-score   support\n",
      "\n",
      "           0       0.58      0.58      0.58        48\n",
      "           1       0.57      0.57      0.57        46\n",
      "\n",
      "   micro avg       0.57      0.57      0.57        94\n",
      "   macro avg       0.57      0.57      0.57        94\n",
      "weighted avg       0.57      0.57      0.57        94\n",
      "\n"
     ]
    }
   ],
   "source": [
    "# Set model to best values found\n",
    "cls = SVC(C = bestValues['C'], kernel = 'linear')\n",
    "\n",
    "# Train\n",
    "cls.fit(xTrainLR, yTrainLR)\n",
    "\n",
    "# Predict test values\n",
    "yhat = cls.predict(xTestLR)\n",
    "\n",
    "# Show model performance\n",
    "print(confusion_matrix(yTest, yhat))\n",
    "print(classification_report(yTest, yhat))"
   ]
  },
  {
   "cell_type": "markdown",
   "metadata": {},
   "source": [
    "### Feature Selection\n",
    "Using the ANOVA F-value to determine which columns have the greatest proportion of variance, we select the top 10% to be used in our model. The F-value tells us which column(s) help to explain the greatest amount of variance in the target variable. The columns with the highest proportion allows the model to solve for the greatest separation on attributes for classification."
   ]
  },
  {
   "cell_type": "code",
   "execution_count": 94,
   "metadata": {},
   "outputs": [],
   "source": [
    "# Subset the data to exclude the target variable\n",
    "maxCols = dfPublicHS.shape[1]\n",
    "X = dfPublicHS.iloc[:,0:maxCols-2]\n",
    "\n",
    "# Choose the top 10% attributes based on ANOVA score\n",
    "sel = SelectPercentile(f_classif, percentile = 10)\n",
    "sel.fit(X, y)\n",
    "\n",
    "# Credit: https://www.kaggle.com/saravanann/santander\n",
    "# Convert back to dataframe\n",
    "\n",
    "keepCols = sel.get_support(indices=True)\n",
    "temp = sel.transform(X)\n",
    "X = pd.DataFrame(temp, columns = X.columns[keepCols])"
   ]
  },
  {
   "cell_type": "markdown",
   "metadata": {},
   "source": [
    "### Data split\n",
    "Split the resulting dataset into 80% for training and 20% for testing. After we split the training data, we then scale the data so that each column contributes equal weight to the model. A column with a range of 1 and a column with a range of 10,000 will be highly biased by the column with a range of 10,000. Scaling the columns puts each column on an equal range. We use fit to calculate the mean and standard deviation for the train data set. We use the mean and standard deviation of the train data on the test data so that information isn't biased by data that we shouldn't know about."
   ]
  },
  {
   "cell_type": "code",
   "execution_count": 95,
   "metadata": {},
   "outputs": [],
   "source": [
    "# Create a test and train dataset with an 80/20 split\n",
    "xTrain, xTest, yTrain, yTest = train_test_split(X.astype(np.float), y, test_size = 0.2)\n",
    "\n",
    "# Scale data after splitting out test data\n",
    "scaler = StandardScaler()\n",
    "scaler.fit(xTrain)\n",
    "xTrain = scaler.transform(xTrain)\n",
    "xTest = scaler.transform(xTest)"
   ]
  },
  {
   "cell_type": "markdown",
   "metadata": {},
   "source": [
    "### Parameter Tuning\n",
    "Here we create a range of values to test the model against to determine which parameters provide the best result."
   ]
  },
  {
   "cell_type": "code",
   "execution_count": 96,
   "metadata": {},
   "outputs": [],
   "source": [
    "# Set parameter turning values and create a grid of models to run\n",
    "gamma_range = np.logspace(-9, 3, 13)\n",
    "param_grid = dict(gamma=gamma_range, C=[1,10,100,1000])\n",
    "\n",
    "gridRBF = GridSearchCV(SVC(), param_grid=param_grid, iid = False, cv=10)"
   ]
  },
  {
   "cell_type": "code",
   "execution_count": 97,
   "metadata": {},
   "outputs": [
    {
     "name": "stdout",
     "output_type": "stream",
     "text": [
      "Training started at: 20:01:45.426532\n",
      "Wall time: 7.9 s\n",
      "Best parameters set found on development set:\n",
      "\n",
      "{'C': 100, 'gamma': 0.001}\n",
      "\n",
      "gridRBF scores on development set:\n",
      "\n",
      "0.505 (+/-0.013) for {'C': 1, 'gamma': 1e-09}\n",
      "0.505 (+/-0.013) for {'C': 1, 'gamma': 1e-08}\n",
      "0.505 (+/-0.013) for {'C': 1, 'gamma': 1e-07}\n",
      "0.505 (+/-0.013) for {'C': 1, 'gamma': 1e-06}\n",
      "0.505 (+/-0.013) for {'C': 1, 'gamma': 1e-05}\n",
      "0.737 (+/-0.218) for {'C': 1, 'gamma': 0.0001}\n",
      "0.822 (+/-0.186) for {'C': 1, 'gamma': 0.001}\n",
      "0.904 (+/-0.126) for {'C': 1, 'gamma': 0.01}\n",
      "0.872 (+/-0.142) for {'C': 1, 'gamma': 0.1}\n",
      "0.636 (+/-0.073) for {'C': 1, 'gamma': 1.0}\n",
      "0.505 (+/-0.013) for {'C': 1, 'gamma': 10.0}\n",
      "0.505 (+/-0.013) for {'C': 1, 'gamma': 100.0}\n",
      "0.505 (+/-0.013) for {'C': 1, 'gamma': 1000.0}\n",
      "0.505 (+/-0.013) for {'C': 10, 'gamma': 1e-09}\n",
      "0.505 (+/-0.013) for {'C': 10, 'gamma': 1e-08}\n",
      "0.505 (+/-0.013) for {'C': 10, 'gamma': 1e-07}\n",
      "0.505 (+/-0.013) for {'C': 10, 'gamma': 1e-06}\n",
      "0.745 (+/-0.204) for {'C': 10, 'gamma': 1e-05}\n",
      "0.830 (+/-0.171) for {'C': 10, 'gamma': 0.0001}\n",
      "0.915 (+/-0.100) for {'C': 10, 'gamma': 0.001}\n",
      "0.944 (+/-0.097) for {'C': 10, 'gamma': 0.01}\n",
      "0.843 (+/-0.164) for {'C': 10, 'gamma': 0.1}\n",
      "0.644 (+/-0.090) for {'C': 10, 'gamma': 1.0}\n",
      "0.505 (+/-0.013) for {'C': 10, 'gamma': 10.0}\n",
      "0.505 (+/-0.013) for {'C': 10, 'gamma': 100.0}\n",
      "0.505 (+/-0.013) for {'C': 10, 'gamma': 1000.0}\n",
      "0.505 (+/-0.013) for {'C': 100, 'gamma': 1e-09}\n",
      "0.505 (+/-0.013) for {'C': 100, 'gamma': 1e-08}\n",
      "0.505 (+/-0.013) for {'C': 100, 'gamma': 1e-07}\n",
      "0.745 (+/-0.204) for {'C': 100, 'gamma': 1e-06}\n",
      "0.830 (+/-0.171) for {'C': 100, 'gamma': 1e-05}\n",
      "0.915 (+/-0.081) for {'C': 100, 'gamma': 0.0001}\n",
      "0.949 (+/-0.069) for {'C': 100, 'gamma': 0.001}\n",
      "0.931 (+/-0.075) for {'C': 100, 'gamma': 0.01}\n",
      "0.843 (+/-0.164) for {'C': 100, 'gamma': 0.1}\n",
      "0.644 (+/-0.090) for {'C': 100, 'gamma': 1.0}\n",
      "0.505 (+/-0.013) for {'C': 100, 'gamma': 10.0}\n",
      "0.505 (+/-0.013) for {'C': 100, 'gamma': 100.0}\n",
      "0.505 (+/-0.013) for {'C': 100, 'gamma': 1000.0}\n",
      "0.505 (+/-0.013) for {'C': 1000, 'gamma': 1e-09}\n",
      "0.505 (+/-0.013) for {'C': 1000, 'gamma': 1e-08}\n",
      "0.745 (+/-0.204) for {'C': 1000, 'gamma': 1e-07}\n",
      "0.830 (+/-0.171) for {'C': 1000, 'gamma': 1e-06}\n",
      "0.912 (+/-0.079) for {'C': 1000, 'gamma': 1e-05}\n",
      "0.947 (+/-0.058) for {'C': 1000, 'gamma': 0.0001}\n",
      "0.941 (+/-0.058) for {'C': 1000, 'gamma': 0.001}\n",
      "0.931 (+/-0.083) for {'C': 1000, 'gamma': 0.01}\n",
      "0.843 (+/-0.164) for {'C': 1000, 'gamma': 0.1}\n",
      "0.644 (+/-0.090) for {'C': 1000, 'gamma': 1.0}\n",
      "0.505 (+/-0.013) for {'C': 1000, 'gamma': 10.0}\n",
      "0.505 (+/-0.013) for {'C': 1000, 'gamma': 100.0}\n",
      "0.505 (+/-0.013) for {'C': 1000, 'gamma': 1000.0}\n",
      "\n"
     ]
    }
   ],
   "source": [
    "# Train SVM model on the each different parameter value\n",
    "print(\"Training started at: {}\".format(datetime.now().time()))\n",
    "%time gridRBF.fit(xTrain, yTrain)\n",
    "\n",
    "bestValues = gridRBF.best_params_\n",
    "\n",
    "print(\"Best parameters set found on development set:\")\n",
    "print()\n",
    "print(bestValues)\n",
    "print()\n",
    "print(\"gridRBF scores on development set:\")\n",
    "print()\n",
    "means = gridRBF.cv_results_['mean_test_score']\n",
    "stds = gridRBF.cv_results_['std_test_score']\n",
    "for mean, std, params in zip(means, stds, gridRBF.cv_results_['params']):\n",
    "    print(\"%0.3f (+/-%0.03f) for %r\"\n",
    "          % (mean, std * 2, params))\n",
    "print()"
   ]
  },
  {
   "cell_type": "markdown",
   "metadata": {},
   "source": [
    "### Test Model\n",
    "Using the best parameters found from the grid search above, test our model against data that it hasn't seen before."
   ]
  },
  {
   "cell_type": "code",
   "execution_count": 98,
   "metadata": {
    "scrolled": true
   },
   "outputs": [
    {
     "name": "stdout",
     "output_type": "stream",
     "text": [
      "[[45  0]\n",
      " [ 1 48]]\n",
      "              precision    recall  f1-score   support\n",
      "\n",
      "           0       0.98      1.00      0.99        45\n",
      "           1       1.00      0.98      0.99        49\n",
      "\n",
      "   micro avg       0.99      0.99      0.99        94\n",
      "   macro avg       0.99      0.99      0.99        94\n",
      "weighted avg       0.99      0.99      0.99        94\n",
      "\n"
     ]
    }
   ],
   "source": [
    "# Set model to best values found\n",
    "cls = SVC(C = bestValues['C'], gamma = bestValues['gamma'])\n",
    "\n",
    "# Train\n",
    "cls.fit(xTrain, yTrain)\n",
    "\n",
    "# Predict test values\n",
    "yhat = cls.predict(xTest)\n",
    "\n",
    "# Show model performance\n",
    "print(confusion_matrix(yTest, yhat))\n",
    "print(classification_report(yTest, yhat))"
   ]
  },
  {
   "cell_type": "markdown",
   "metadata": {},
   "source": [
    "### ROC Curve\n",
    "PLot an ROC curve of the results. An ROC curve helps show the trade offs between true-negatives and false-positives. For instance, if we were trying to predict whether someone has a deadly illness then we would want to select a model that gives the fewest number of true-negatives. However, in our cause, it's acceptable to have a higher false-positive rate since we are only exploring attributes that could contribute to higher levels of students enrolling in postsecondary education."
   ]
  },
  {
   "cell_type": "code",
   "execution_count": 81,
   "metadata": {},
   "outputs": [
    {
     "data": {
      "image/png": "[encoded data removed]",
      "text/plain": [
       "<Figure size 432x288 with 1 Axes>"
      ]
     },
     "metadata": {
      "needs_background": "light"
     },
     "output_type": "display_data"
    }
   ],
   "source": [
    "# Plot an ROC Graph\n",
    "fpr, tpr, thresholds = roc_curve(yTest, yhat)\n",
    "\n",
    "plt.figure()\n",
    "lw = 2\n",
    "plt.plot(fpr, tpr, color='darkorange',\n",
    "         lw=lw)\n",
    "plt.plot([0, 1], [0, 1], color='navy', lw=lw, linestyle='--')\n",
    "plt.xlim([0.0, 1.0])\n",
    "plt.ylim([0.0, 1.05])\n",
    "plt.xlabel('False Positive Rate')\n",
    "plt.ylabel('True Positive Rate')\n",
    "plt.title('ROC Graph')\n",
    "plt.show()"
   ]
  },
  {
   "cell_type": "markdown",
   "metadata": {},
   "source": [
    "### Most influential Support Vectors\n",
    "The graph below helps us determine which attributes have the most impact on the boundary between support vectors. This gives us some indication of what attributes might help increase the number of students enrolled in postsecondary education."
   ]
  },
  {
   "cell_type": "code",
   "execution_count": 82,
   "metadata": {},
   "outputs": [
    {
     "ename": "AttributeError",
     "evalue": "coef_ is only available when using a linear kernel",
     "output_type": "error",
     "traceback": [
      "\u001b[1;31m---------------------------------------------------------------------------\u001b[0m",
      "\u001b[1;31mAttributeError\u001b[0m                            Traceback (most recent call last)",
      "\u001b[1;32m<ipython-input-82-e0ebce7a1189>\u001b[0m in \u001b[0;36m<module>\u001b[1;34m\u001b[0m\n\u001b[0;32m      3\u001b[0m \u001b[0mcv\u001b[0m\u001b[1;33m.\u001b[0m\u001b[0mfit\u001b[0m\u001b[1;33m(\u001b[0m\u001b[0mX\u001b[0m\u001b[1;33m)\u001b[0m\u001b[1;33m\u001b[0m\u001b[0m\n\u001b[0;32m      4\u001b[0m \u001b[1;33m\u001b[0m\u001b[0m\n\u001b[1;32m----> 5\u001b[1;33m \u001b[0mplot_coefficients\u001b[0m\u001b[1;33m(\u001b[0m\u001b[0mcls\u001b[0m\u001b[1;33m,\u001b[0m \u001b[0mcv\u001b[0m\u001b[1;33m.\u001b[0m\u001b[0mget_feature_names\u001b[0m\u001b[1;33m(\u001b[0m\u001b[1;33m)\u001b[0m\u001b[1;33m,\u001b[0m \u001b[0mtop_features\u001b[0m \u001b[1;33m=\u001b[0m \u001b[1;36m10\u001b[0m\u001b[1;33m)\u001b[0m\u001b[1;33m\u001b[0m\u001b[0m\n\u001b[0m",
      "\u001b[1;32m<ipython-input-56-4a4089f71cfd>\u001b[0m in \u001b[0;36mplot_coefficients\u001b[1;34m(classifier, feature_names, top_features)\u001b[0m\n\u001b[0;32m      1\u001b[0m \u001b[1;31m# Source: https://medium.com/@aneesha/visualising-top-features-in-linear-svm-with-scikit-learn-and-matplotlib-3454ab18a14d\u001b[0m\u001b[1;33m\u001b[0m\u001b[1;33m\u001b[0m\u001b[0m\n\u001b[0;32m      2\u001b[0m \u001b[1;32mdef\u001b[0m \u001b[0mplot_coefficients\u001b[0m\u001b[1;33m(\u001b[0m\u001b[0mclassifier\u001b[0m\u001b[1;33m,\u001b[0m \u001b[0mfeature_names\u001b[0m\u001b[1;33m,\u001b[0m \u001b[0mtop_features\u001b[0m\u001b[1;33m=\u001b[0m\u001b[1;36m20\u001b[0m\u001b[1;33m)\u001b[0m\u001b[1;33m:\u001b[0m\u001b[1;33m\u001b[0m\u001b[0m\n\u001b[1;32m----> 3\u001b[1;33m     \u001b[0mcoef\u001b[0m \u001b[1;33m=\u001b[0m \u001b[0mclassifier\u001b[0m\u001b[1;33m.\u001b[0m\u001b[0mcoef_\u001b[0m\u001b[1;33m.\u001b[0m\u001b[0mravel\u001b[0m\u001b[1;33m(\u001b[0m\u001b[1;33m)\u001b[0m\u001b[1;33m\u001b[0m\u001b[0m\n\u001b[0m\u001b[0;32m      4\u001b[0m     \u001b[0mtop_positive_coefficients\u001b[0m \u001b[1;33m=\u001b[0m \u001b[0mnp\u001b[0m\u001b[1;33m.\u001b[0m\u001b[0margsort\u001b[0m\u001b[1;33m(\u001b[0m\u001b[0mcoef\u001b[0m\u001b[1;33m)\u001b[0m\u001b[1;33m[\u001b[0m\u001b[1;33m-\u001b[0m\u001b[0mtop_features\u001b[0m\u001b[1;33m:\u001b[0m\u001b[1;33m]\u001b[0m\u001b[1;33m\u001b[0m\u001b[0m\n\u001b[0;32m      5\u001b[0m     \u001b[0mtop_negative_coefficients\u001b[0m \u001b[1;33m=\u001b[0m \u001b[0mnp\u001b[0m\u001b[1;33m.\u001b[0m\u001b[0margsort\u001b[0m\u001b[1;33m(\u001b[0m\u001b[0mcoef\u001b[0m\u001b[1;33m)\u001b[0m\u001b[1;33m[\u001b[0m\u001b[1;33m:\u001b[0m\u001b[0mtop_features\u001b[0m\u001b[1;33m]\u001b[0m\u001b[1;33m\u001b[0m\u001b[0m\n",
      "\u001b[1;32m~\\Anaconda3\\lib\\site-packages\\sklearn\\svm\\base.py\u001b[0m in \u001b[0;36mcoef_\u001b[1;34m(self)\u001b[0m\n\u001b[0;32m    482\u001b[0m     \u001b[1;32mdef\u001b[0m \u001b[0mcoef_\u001b[0m\u001b[1;33m(\u001b[0m\u001b[0mself\u001b[0m\u001b[1;33m)\u001b[0m\u001b[1;33m:\u001b[0m\u001b[1;33m\u001b[0m\u001b[0m\n\u001b[0;32m    483\u001b[0m         \u001b[1;32mif\u001b[0m \u001b[0mself\u001b[0m\u001b[1;33m.\u001b[0m\u001b[0mkernel\u001b[0m \u001b[1;33m!=\u001b[0m \u001b[1;34m'linear'\u001b[0m\u001b[1;33m:\u001b[0m\u001b[1;33m\u001b[0m\u001b[0m\n\u001b[1;32m--> 484\u001b[1;33m             raise AttributeError('coef_ is only available when using a '\n\u001b[0m\u001b[0;32m    485\u001b[0m                                  'linear kernel')\n\u001b[0;32m    486\u001b[0m \u001b[1;33m\u001b[0m\u001b[0m\n",
      "\u001b[1;31mAttributeError\u001b[0m: coef_ is only available when using a linear kernel"
     ]
    }
   ],
   "source": [
    "# Graph the columns in terms of prediction weight\n",
    "cv = CountVectorizer()\n",
    "cv.fit(X)\n",
    "\n",
    "plot_coefficients(cls, cv.get_feature_names(), top_features = 10)"
   ]
  },
  {
   "cell_type": "markdown",
   "metadata": {},
   "source": [
    "### Parameter Tuning\n",
    "Here we create a range of values to test the model against to determine which parameters provide the best result."
   ]
  },
  {
   "cell_type": "code",
   "execution_count": 83,
   "metadata": {},
   "outputs": [],
   "source": [
    "param_grid = dict(C=[1,10,100,1000])\n",
    "gridLinear = GridSearchCV(SVC(), param_grid=param_grid, iid = False, cv=10)"
   ]
  },
  {
   "cell_type": "code",
   "execution_count": 84,
   "metadata": {},
   "outputs": [
    {
     "name": "stdout",
     "output_type": "stream",
     "text": [
      "Training started at: 19:51:20.523470\n",
      "Wall time: 353 ms\n",
      "Best parameters set found on development set:\n",
      "\n",
      "{'C': 10}\n",
      "\n",
      "gridLinear scores on development set:\n",
      "\n",
      "0.891 (+/-0.056) for {'C': 1}\n",
      "0.931 (+/-0.058) for {'C': 10}\n",
      "0.928 (+/-0.089) for {'C': 100}\n",
      "0.928 (+/-0.089) for {'C': 1000}\n",
      "\n"
     ]
    }
   ],
   "source": [
    "# Train SVM model\n",
    "print(\"Training started at: {}\".format(datetime.now().time()))\n",
    "%time gridLinear.fit(xTrain, yTrain)\n",
    "\n",
    "bestValues = gridLinear.best_params_\n",
    "\n",
    "print(\"Best parameters set found on development set:\")\n",
    "print()\n",
    "print(bestValues)\n",
    "print()\n",
    "print(\"gridLinear scores on development set:\")\n",
    "print()\n",
    "means = gridLinear.cv_results_['mean_test_score']\n",
    "stds = gridLinear.cv_results_['std_test_score']\n",
    "for mean, std, params in zip(means, stds, gridLinear.cv_results_['params']):\n",
    "    print(\"%0.3f (+/-%0.03f) for %r\"\n",
    "          % (mean, std * 2, params))\n",
    "print()"
   ]
  },
  {
   "cell_type": "markdown",
   "metadata": {},
   "source": [
    "### Test Model\n",
    "Using the best parameters found from the grid search above, test our model against data that it hasn't seen before."
   ]
  },
  {
   "cell_type": "code",
   "execution_count": 85,
   "metadata": {},
   "outputs": [],
   "source": [
    "cls = SVC(C = bestValues['C'], kernel = 'linear')"
   ]
  },
  {
   "cell_type": "code",
   "execution_count": 86,
   "metadata": {},
   "outputs": [
    {
     "name": "stdout",
     "output_type": "stream",
     "text": [
      "[[46  2]\n",
      " [ 3 43]]\n",
      "              precision    recall  f1-score   support\n",
      "\n",
      "           0       0.94      0.96      0.95        48\n",
      "           1       0.96      0.93      0.95        46\n",
      "\n",
      "   micro avg       0.95      0.95      0.95        94\n",
      "   macro avg       0.95      0.95      0.95        94\n",
      "weighted avg       0.95      0.95      0.95        94\n",
      "\n"
     ]
    }
   ],
   "source": [
    "# Train\n",
    "cls.fit(xTrain, yTrain)\n",
    "\n",
    "# Predict test values\n",
    "yhat = cls.predict(xTest)\n",
    "\n",
    "# Show model performance\n",
    "print(confusion_matrix(yTest, yhat))\n",
    "print(classification_report(yTest, yhat))"
   ]
  },
  {
   "cell_type": "markdown",
   "metadata": {},
   "source": [
    "### ROC Curve\n",
    "Plot an ROC curve of the results. An ROC curve helps show the trade offs between true-negatives and false-positives. For instance, if we were trying to predict whether someone has a deadly illness then we would want to select a model that gives the fewest number of true-negatives. However, in our cause, it's acceptable to have a higher false-positive rate since we are only exploring attributes that could contribute to higher levels of students enrolling in postsecondary education."
   ]
  },
  {
   "cell_type": "code",
   "execution_count": 87,
   "metadata": {},
   "outputs": [
    {
     "data": {
      "image/png": "[encoded data removed]",
      "text/plain": [
       "<Figure size 432x288 with 1 Axes>"
      ]
     },
     "metadata": {
      "needs_background": "light"
     },
     "output_type": "display_data"
    }
   ],
   "source": [
    "# Plot an ROC Graph\n",
    "fpr, tpr, thresholds = roc_curve(yTest, yhat)\n",
    "\n",
    "plt.figure()\n",
    "lw = 2\n",
    "plt.plot(fpr, tpr, color='darkorange',\n",
    "         lw=lw)\n",
    "plt.plot([0, 1], [0, 1], color='navy', lw=lw, linestyle='--')\n",
    "plt.xlim([0.0, 1.0])\n",
    "plt.ylim([0.0, 1.05])\n",
    "plt.xlabel('False Positive Rate')\n",
    "plt.ylabel('True Positive Rate')\n",
    "plt.title('ROC Graph')\n",
    "plt.show()"
   ]
  },
  {
   "cell_type": "markdown",
   "metadata": {},
   "source": [
    "### Most influential Support Vectors\n",
    "The graph below helps us determine which attributes have the most impact on the boundary between support vectors. This gives us some indication of what attributes might help increase the number of students enrolled in postsecondary education."
   ]
  },
  {
   "cell_type": "code",
   "execution_count": 88,
   "metadata": {
    "scrolled": false
   },
   "outputs": [
    {
     "data": {
      "image/png": "[encoded data removed]",
      "text/plain": [
       "<Figure size 1080x360 with 1 Axes>"
      ]
     },
     "metadata": {
      "needs_background": "light"
     },
     "output_type": "display_data"
    }
   ],
   "source": [
    "# Source: https://medium.com/@aneesha/visualising-top-features-in-linear-svm-with-scikit-learn-and-matplotlib-3454ab18a14d\n",
    "\n",
    "# Graph the columns in terms of prediction weight\n",
    "cv = CountVectorizer()\n",
    "cv.fit(X)\n",
    "\n",
    "plot_coefficients(cls, cv.get_feature_names(), top_features = 10)"
   ]
  },
  {
   "cell_type": "code",
   "execution_count": null,
   "metadata": {},
   "outputs": [],
   "source": [
    "# Cool Plot\n",
    "# http://scikit-learn.org/stable/auto_examples/svm/plot_separating_hyperplane.html#example-svm-plot-separating-hyperplane-py"
   ]
  },
  {
   "cell_type": "markdown",
   "metadata": {},
   "source": [
    "## Model Advantages (10 points)\n",
    "<span style=\"color: blue\">Discuss the advantages of each model for each classification task. Does one type of model offer superior performance over another in terms of prediction accuracy? In terms of training time or efficiency? Explain in detail.</span>"
   ]
  },
  {
   "cell_type": "markdown",
   "metadata": {},
   "source": [
    "## Interpret Support Vectors (10 points)\n",
    "<span style=\"color:blue\">Look at the chosen support vectors for the classification task. Do these provide any insight into the data? Explain. If you used stochastic gradient descent (and therefore did not explicitly solve for support vectors), try subsampling your data to train the SVC model— then analyze the support vectors from the subsampled dataset."
   ]
  },
  {
   "cell_type": "code",
   "execution_count": null,
   "metadata": {},
   "outputs": [],
   "source": []
  }
 ],
 "metadata": {
  "kernelspec": {
   "display_name": "Python 3",
   "language": "python",
   "name": "python3"
  },
  "language_info": {
   "codemirror_mode": {
    "name": "ipython",
    "version": 3
   },
   "file_extension": ".py",
   "mimetype": "text/x-python",
   "name": "python",
   "nbconvert_exporter": "python",
   "pygments_lexer": "ipython3",
   "version": "3.6.6"
  }
 },
 "nbformat": 4,
 "nbformat_minor": 2
}
