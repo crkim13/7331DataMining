{
 "cells": [
  {
   "cell_type": "markdown",
   "metadata": {},
   "source": [
    "# Mini-Project: SVM & LR Classification\n",
    "### Ryan Bass, Brett Benefield, Cho Kim, Nicole Wittlin\n",
    "\n",
    "<span style=\"color: blue\">Remove all blue text before submitting</span>"
   ]
  },
  {
   "cell_type": "code",
   "execution_count": 64,
   "metadata": {},
   "outputs": [],
   "source": [
    "%matplotlib inline\n",
    "import seaborn as sns\n",
    "import warnings\n",
    "\n",
    "warnings.filterwarnings(\"ignore\")\n",
    "\n",
    "cmap = sns.diverging_palette(220, 10, as_cmap=True) # one of the many color mappings\n",
    "\n",
    "import pandas as pd\n",
    "import numpy as np\n",
    "import matplotlib.pyplot as plt\n",
    "from datetime import datetime\n",
    "from pandas.plotting import scatter_matrix\n",
    "from IPython.display import HTML, display\n",
    "from sklearn.preprocessing import StandardScaler\n",
    "from sklearn.feature_selection import VarianceThreshold, SelectPercentile, SelectKBest, chi2, f_classif\n",
    "from sklearn.metrics import classification_report, confusion_matrix, roc_curve\n",
    "from sklearn.feature_extraction.text import CountVectorizer\n",
    "from sklearn.model_selection import train_test_split, GridSearchCV, ShuffleSplit, cross_val_score\n",
    "from sklearn.linear_model import LogisticRegression\n",
    "from sklearn.svm import SVC\n",
    "from sklearn import metrics as mt"
   ]
  },
  {
   "cell_type": "markdown",
   "metadata": {},
   "source": [
    "### Supporting Functions"
   ]
  },
  {
   "cell_type": "code",
   "execution_count": 65,
   "metadata": {},
   "outputs": [],
   "source": [
    "# Source: https://medium.com/@aneesha/visualising-top-features-in-linear-svm-with-scikit-learn-and-matplotlib-3454ab18a14d\n",
    "def plot_coefficients(classifier, feature_names, top_features=20):\n",
    "    coef = classifier.coef_.ravel()\n",
    "    top_positive_coefficients = np.argsort(coef)[-top_features:]\n",
    "    top_negative_coefficients = np.argsort(coef)[:top_features]\n",
    "    top_coefficients = np.hstack([top_negative_coefficients, top_positive_coefficients])\n",
    "    # create plot\n",
    "    plt.figure(figsize=(15, 5))\n",
    "    colors = [\"red\" if c < 0 else \"blue\" for c in coef[top_coefficients]]\n",
    "    plt.bar(np.arange(2 * top_features), coef[top_coefficients], color=colors)\n",
    "    feature_names = np.array(feature_names)\n",
    "    plt.xticks(np.arange(1, 1 + 2 * top_features), feature_names[top_coefficients], rotation=60, ha=\"right\")\n",
    "    plt.show()\n",
    "    \n",
    "def getTopCoefficients(classifier, feature_names, top_features=20):\n",
    "    coef = classifier.coef_.ravel()\n",
    "    top_positive_coefficients = np.argsort(coef)[-top_features:]\n",
    "    top_negative_coefficients = np.argsort(coef)[:top_features]\n",
    "    top_coefficients = np.hstack([top_negative_coefficients, top_positive_coefficients])\n",
    "    feature_names = np.array(feature_names)\n",
    "    return feature_names[top_coefficients]\n",
    "\n",
    "# Source: https://stackoverflow.com/questions/39812885/retain-feature-names-after-scikit-feature-selection\n",
    "def percentile_threshold_selector(data, percent=10):\n",
    "    selector = SelectPercentile(f_classif, percentile = percent)\n",
    "    selector.fit(data)\n",
    "    return data[data.columns[selector.get_support(indices=True)]]\n",
    "\n",
    "def scale_data(data):\n",
    "    temp = scaler.fit(data)\n",
    "    data = pd.DataFrame(temp, columns = data.columns)\n",
    "    return data\n",
    "\n",
    "# https://stackoverflow.com/questions/17778394/list-highest-correlation-pairs-from-a-large-correlation-matrix-in-pandas\n",
    "def get_redundant_pairs(df):\n",
    "    '''Get diagonal and lower triangular pairs of correlation matrix'''\n",
    "    pairs_to_drop = set()\n",
    "    cols = df.columns\n",
    "    for i in range(0, df.shape[1]):\n",
    "        for j in range(0, i+1):\n",
    "            pairs_to_drop.add((cols[i], cols[j]))\n",
    "    return pairs_to_drop\n",
    "\n",
    "def get_top_abs_correlations(df, n=5):\n",
    "    au_corr = df.corr().abs().unstack()\n",
    "    labels_to_drop = get_redundant_pairs(df)\n",
    "    au_corr = au_corr.drop(labels=labels_to_drop).sort_values(ascending=False)\n",
    "    return au_corr[0:n]"
   ]
  },
  {
   "cell_type": "code",
   "execution_count": 66,
   "metadata": {},
   "outputs": [],
   "source": [
    "verboseStatus = False"
   ]
  },
  {
   "cell_type": "code",
   "execution_count": 67,
   "metadata": {},
   "outputs": [
    {
     "name": "stdout",
     "output_type": "stream",
     "text": [
      "C:\\sandbox\\SMU\\dataMining\\choNotebook\\EducationDataNC\\2017\\Machine Learning Datasets\n",
      "********* Initial Values Before Cleaning *******************\n",
      "<class 'pandas.core.frame.DataFrame'>\n",
      "RangeIndex: 470 entries, 0 to 469\n",
      "Columns: 403 entries, student_num to unit_code\n",
      "dtypes: float64(322), int64(81)\n",
      "memory usage: 1.4 MB\n"
     ]
    }
   ],
   "source": [
    "# Brett's directory\n",
    "# Desktop\n",
    "# %cd \"C:\\Sandbox\\SMU\\dataMining\\ChoRepo\\EducationDataNC\\2017\\Machine Learning Datasets\"\n",
    "# Laptop\n",
    "%cd \"C:\\sandbox\\SMU\\dataMining\\choNotebook\\EducationDataNC\\2017\\Machine Learning Datasets\"\n",
    "\n",
    "# Ryan's directory\n",
    "#%cd \"C:\\Users\\Clovis\\Documents\\7331DataMining\\EducationDataNC\\2017\\Machine Learning Datasets\"\n",
    "\n",
    "# Cho's directory. Either uncomment the cd statement above or make your own cd.\n",
    "#%cd \"/Users/chostone/Documents/Data Mining/7331DataMining/EducationDataNC/2017/Machine Learning Datasets\"\n",
    "\n",
    "# NW directorY \n",
    "#%cd \"C:\\Users\\Nicole Wittlin\\Documents\\7331DataMining\\EducationDataNC\\2017\\Raw Datasets\"\n",
    "dfPublicHS = pd.read_csv(\"PublicHighSchools2017_ML.csv\")\n",
    "\n",
    "print('********* Initial Values Before Cleaning *******************')\n",
    "dfPublicHS.info(verbose = verboseStatus)"
   ]
  },
  {
   "cell_type": "code",
   "execution_count": 68,
   "metadata": {},
   "outputs": [
    {
     "name": "stdout",
     "output_type": "stream",
     "text": [
      "Columns Dropped: 1\n"
     ]
    }
   ],
   "source": [
    "# Credit: https://www.kaggle.com/saravanann/santander\n",
    "# Drop any columns that have zero variance\n",
    "totalColNum = dfPublicHS.shape[1]\n",
    "sel = VarianceThreshold()\n",
    "sel.fit(dfPublicHS)\n",
    "\n",
    "keepCols = sel.get_support(indices=True)\n",
    "dfColIndex = np.arange(dfPublicHS.columns.size)\n",
    "dropCol = np.delete(dfColIndex, keepCols)\n",
    "dfPublicHS = dfPublicHS.drop(dfPublicHS.columns[dropCol], axis = 1)\n",
    "\n",
    "print(\"Columns Dropped: {}\".format(len(dropCol)))"
   ]
  },
  {
   "cell_type": "code",
   "execution_count": 69,
   "metadata": {},
   "outputs": [],
   "source": [
    "# Create correlation matrix\n",
    "dfCorr = dfPublicHS.corr('pearson').abs()"
   ]
  },
  {
   "cell_type": "code",
   "execution_count": 70,
   "metadata": {},
   "outputs": [
    {
     "name": "stdout",
     "output_type": "stream",
     "text": [
      "Columns dropped: 124\n"
     ]
    }
   ],
   "source": [
    "## source for code below: https://chrisalbon.com/machine_learning/feature_selection/drop_highly_correlated_features/ ##\n",
    "\n",
    "# Select upper triangle of correlation matrix\n",
    "upper = dfCorr.where(np.triu(np.ones(dfCorr.shape), k=1).astype(np.bool))\n",
    "\n",
    "# Find index of feature columns with correlation greater than 0.8\n",
    "to_drop = [column for column in upper.columns if any(upper[column] > 0.8)]\n",
    "\n",
    "# Drop Columns\n",
    "dfDropped = dfPublicHS.drop(columns = to_drop, axis = 1)\n",
    "\n",
    "print(\"Columns dropped: {}\".format(len(to_drop)))"
   ]
  },
  {
   "cell_type": "code",
   "execution_count": 71,
   "metadata": {},
   "outputs": [
    {
     "name": "stdout",
     "output_type": "stream",
     "text": [
      "Median: 52.178614549748545\n",
      "235 of 470: 50.0%\n"
     ]
    }
   ],
   "source": [
    "# Split the target variable based on the median value\n",
    "medianSplit = dfDropped['ALL_All Students (Total or Subtotal_ENROLL_sch_pct'].median()\n",
    "\n",
    "dfDropped['schoolPctTarget'] = np.where(dfDropped['ALL_All Students (Total or Subtotal_ENROLL_sch_pct'] >= medianSplit, 1, 0)\n",
    "\n",
    "print(\"Median: {}\".format(medianSplit))\n",
    "print(\"{} of {}: {}%\".format(dfDropped['schoolPctTarget'].sum(), dfDropped.shape[0], \n",
    "                             round(dfDropped['schoolPctTarget'].sum()/dfDropped.shape[0] * 100,2)))"
   ]
  },
  {
   "cell_type": "markdown",
   "metadata": {},
   "source": [
    "### Column preparation\n",
    "\n",
    "At this point, the dataset contains 'future' information that the model should not be aware of. We need to drop these columns before we build the model. In addition, some of the column names don't start with alpha characters which cause code later in the notebook to miss these columns and not graph the most significant support vectors correctly"
   ]
  },
  {
   "cell_type": "code",
   "execution_count": 72,
   "metadata": {},
   "outputs": [],
   "source": [
    "# Credit: https://stackoverflow.com/questions/19758364/rename-a-single-column-header-in-a-pandas-dataframe\n",
    "# Credit: https://stackoverflow.com/questions/21606987/how-can-i-strip-the-whitespace-from-pandas-dataframe-headers\n",
    "# Credit: https://stackoverflow.com/questions/39741429/pandas-replace-a-character-in-all-column-names\n",
    "# Credit: https://stackoverflow.com/questions/33157643/pandas-replace-erase-different-characters-from-strings\n",
    "\n",
    "# Drop these columns because they contain the answer we are trying to predict\n",
    "dropCols = dfDropped.filter(regex = r'sch_pct')\n",
    "\n",
    "dfDropped.drop(dropCols, axis = 1, inplace = True)\n",
    "\n",
    "# These names seem to cause problems so let's give them friendlier names\n",
    "renameCols = {'_1yr_tchr_trnovr_pct': 'One_yr_tchr_trnovr_pct',\n",
    "              '0-3 Years_LEA_Exp_Pct_Prin': 'less_3_years_LEA_Exp_Pct_Prin',\n",
    "              '10+ Years_LEA_Exp_Pct_Prin': 'ten_plus_years_LEA_Exp_Pct_Prin',\n",
    "              '4-10 Years_LEA_Exp_Pct_Prin': 'four_plus_years_LEA_Exp_Pct_Prin',\n",
    "              '4-Year_Cohort_Graduation_Rate_Score': 'four_Year_Cohort_Graduation_Rate_Score',\n",
    "              '_1_to_1_access_Yes': 'one_to_one_access_yes'}\n",
    "\n",
    "# Remove any trailing white spaces\n",
    "dfDropped.columns = dfDropped.columns.str.strip()\n",
    "\n",
    "# Remove any spaces, slashes, or hyphens\n",
    "dfDropped.columns = dfDropped.columns.str.replace(r' |/|-', \"_\")\n",
    "\n",
    "# Rename columns\n",
    "dfDropped.rename(columns=renameCols, inplace = True)"
   ]
  },
  {
   "cell_type": "code",
   "execution_count": 73,
   "metadata": {},
   "outputs": [],
   "source": [
    "y = dfDropped['schoolPctTarget']"
   ]
  },
  {
   "cell_type": "code",
   "execution_count": 81,
   "metadata": {},
   "outputs": [
    {
     "name": "stdout",
     "output_type": "stream",
     "text": [
      "ShuffleSplit(n_splits=10, random_state=42, test_size=0.2, train_size=None)\n"
     ]
    }
   ],
   "source": [
    "# to use the cross validation object in scikit learn, we need to grab an instance\n",
    "#    of the object and set it up. This object will be able to split our data into \n",
    "#    training and testing splits\n",
    "num_cv_iterations = 10\n",
    "num_instances = len(y)\n",
    "cv_object = ShuffleSplit(n_splits=num_cv_iterations,\n",
    "                         test_size  = 0.2, random_state = 42)\n",
    "                         \n",
    "print(cv_object)"
   ]
  },
  {
   "cell_type": "code",
   "execution_count": 82,
   "metadata": {},
   "outputs": [],
   "source": [
    "maxCols = dfDropped.shape[1]\n",
    "X = dfDropped.iloc[:,0:maxCols-2]"
   ]
  },
  {
   "cell_type": "markdown",
   "metadata": {},
   "source": [
    "### Data split\n",
    "Split the resulting dataset into 80% for training and 20% for testing. After we split the training data, we then scale the data so that each column contributes equal weight to the model. A column with a range of 1 and a column with a range of 10,000 will be highly biased by the column with a range of 10,000. Scaling the columns puts each column on an equal range. We use fit to calculate the mean and standard deviation for the train data set. We use the mean and standard deviation of the train data on the test data so that information isn't biased by data that we shouldn't know about."
   ]
  },
  {
   "cell_type": "code",
   "execution_count": 83,
   "metadata": {},
   "outputs": [],
   "source": [
    "# Create a test and train dataset with an 80/20 split\n",
    "xTrain, xTest, yTrain, yTest = train_test_split(X.astype(np.float), y, test_size = 0.2, random_state = 42)\n",
    "\n",
    "# Scale data after splitting out test data\n",
    "scaler = StandardScaler()\n",
    "scaler.fit(xTrain)\n",
    "xTrain = scaler.transform(xTrain)\n",
    "xTest = scaler.transform(xTest)"
   ]
  },
  {
   "cell_type": "code",
   "execution_count": 84,
   "metadata": {},
   "outputs": [],
   "source": [
    "# This cell needs to be moved but for now I'm going to put it here\n",
    "xTrainLR = xTrain\n",
    "xTestLR = xTest\n",
    "yTrainLR = yTrain\n",
    "yTestLR = yTest"
   ]
  },
  {
   "cell_type": "markdown",
   "metadata": {},
   "source": [
    "## Create Models (50 points)\n",
    "<span style=\"color: blue\">Create a logistic regression model and a support vector machine model for the classification task involved with your dataset. Assess how well each model performs (use 80/20 training/testing split for your data). <b>Adjust parameters of the models to make them more accurate.</b> If your dataset size requires the use of stochastic gradient descent, then linear kernel only is fine to use. That is, the SGDClassifier is fine to use for optimizing logistic regression and linear support vector machines. For many problems, SGD will be required in order to train the SVM model in a reasonable timeframe."
   ]
  },
  {
   "cell_type": "markdown",
   "metadata": {},
   "source": [
    "### Logistic Regression"
   ]
  },
  {
   "cell_type": "code",
   "execution_count": 85,
   "metadata": {},
   "outputs": [
    {
     "name": "stdout",
     "output_type": "stream",
     "text": [
      "confusion matrix\n",
      " [[26 14]\n",
      " [17 37]]\n",
      "Accuracy (1-Fold) 0.6702127659574468\n",
      "Accuracy (10-Fold): 0.67 (+/- 0.08)\n"
     ]
    }
   ],
   "source": [
    "# first we create a reusable logisitic regression object\n",
    "#   here we can setup the object with different learning parameters and constants\n",
    "lr_clf = LogisticRegression(penalty='l1', C=1.0, class_weight=None, random_state = 42) # get object\n",
    "\n",
    "# now we can use the cv_object that we setup before to iterate through the \n",
    "#    different training and testing sets. Each time we will reuse the logisitic regression \n",
    "#    object, but it gets trained on different data each time we use it.\n",
    "\n",
    "#iter_num=0\n",
    "# the indices are the rows used for training and testing in each iteration\n",
    "#for train_indices, test_indices in cv_object.split(X,y): \n",
    "    # I will create new variables here so that it is more obvious what \n",
    "    # the code is doing (you can compact this syntax and avoid duplicating memory,\n",
    "    # but it makes this code less readable)\n",
    "#    X_train = X[train_indices]\n",
    "#    y_train = y[train_indices]\n",
    "    \n",
    "#    X_test = X[test_indices]\n",
    "#    y_test = y[test_indices]\n",
    "    \n",
    "    # train the reusable logisitc regression model on the training data\n",
    "lr_clf.fit(xTrain, yTrain)  # train object\n",
    "y_hat = lr_clf.predict(xTest) # get test set precitions\n",
    "\n",
    "    # now let's get the accuracy and confusion matrix for this iterations of training/testing\n",
    "acc = mt.accuracy_score(yTest,y_hat)\n",
    "conf = mt.confusion_matrix(yTest,y_hat)\n",
    "print(\"confusion matrix\\n\",conf)\n",
    "print(\"Accuracy (1-Fold)\", acc )\n",
    "\n",
    "scores = cross_val_score(lr_clf, X, y, cv=cv_object)\n",
    "\n",
    "print(\"Accuracy (10-Fold): %0.2f (+/- %0.2f)\" % (scores.mean(), scores.std() * 2))\n",
    "\n",
    "# Also note that every time you run the above code\n",
    "#   it randomly creates a new training and testing set, \n",
    "#   so accuracy will be different each time"
   ]
  },
  {
   "cell_type": "markdown",
   "metadata": {},
   "source": [
    "# Can be dropped"
   ]
  },
  {
   "cell_type": "code",
   "execution_count": 86,
   "metadata": {},
   "outputs": [
    {
     "name": "stdout",
     "output_type": "stream",
     "text": [
      "accuracy: 0.7340425531914894\n",
      "[[29 11]\n",
      " [14 40]]\n",
      "lea_advance_dgr_pct has weight of -0.23769203764068683\n",
      "tchyrs_4thru10_pct has weight of -0.23364590895189494\n",
      "EOCEnglish2_CACR_SWD has weight of -0.22964119458146734\n",
      "ACT_pTarget_PctMet has weight of -0.22109761472913414\n",
      "TwoOrMoreMalePct has weight of -0.21470100830762115\n",
      "pct_eds has weight of -0.21059141897007647\n",
      "GraduationRate_4yr_SWD has weight of -0.20777552439147254\n",
      "TwoOrMoreFemalePct has weight of -0.20162370097923296\n",
      "GraduationRate_4yr_Asian has weight of -0.20026532917733053\n",
      "wap_per_classroom has weight of -0.18734666121774218\n",
      "ACTCompositeScore_UNCMin_Black has weight of -0.18192496878164796\n",
      "long_susp_per_c_num has weight of -0.17945243409150816\n",
      "grade_range_cd_PK_12 has weight of -0.17648017840405994\n",
      "PacificIslandFemalePct has weight of -0.17572193660214536\n",
      "GraduationRate_4yr_LEP has weight of -0.16694177263369941\n",
      "grade_range_cd_8_12 has weight of -0.1648195304574565\n",
      "crime_per_c_num has weight of -0.16133095526817143\n",
      "lea_ap_participation_pct has weight of -0.15739332190891586\n",
      "Accomplished_TCHR_Standard_5_Pct has weight of -0.15229133806276918\n",
      "lea_wap_num has weight of -0.15190952766762011\n",
      "GraduationRate_5yr_EDS has weight of -0.15183021898882978\n",
      "grades_1_to_1_access_9:10:11:12:13 has weight of -0.15089560967988758\n",
      "cte_courses has weight of -0.14516981692612924\n",
      "MathGr10_pTarget_PctMet has weight of -0.1443334870676566\n",
      "lea_services_expense_pct has weight of -0.1429169295960963\n",
      "Developing_TCHR_Standard_4_Pct has weight of -0.13948816044310264\n",
      "grades_1_to_1_access_9:10:11 has weight of -0.13781324317570728\n",
      "Not_Demostrated_TCHR_Standard_4_Pct has weight of -0.13741969655910477\n",
      "ACTWorkKeys_SilverPlus_TwoorMoreRaces has weight of -0.13695740406320991\n",
      "HispanicFemalePct has weight of -0.1309274270569361\n",
      "HispanicMalePct has weight of -0.1271036672657273\n",
      "grades_1_to_1_access_11:12 has weight of -0.12036389550107282\n",
      "grades_1_to_1_access_6:07:08 has weight of -0.11889333404054475\n",
      "total_specialized_courses has weight of -0.11689500234688585\n",
      "AsianFemalePct has weight of -0.11642242482259854\n",
      "lea_crime_per_c_num has weight of -0.11548054113673575\n",
      "GraduationRate_4yr_Hispanic has weight of -0.11518647448376224\n",
      "lea_total_expense_num has weight of -0.11366934553846607\n",
      "lea_local_perpupil_num has weight of -0.11285860119881111\n",
      "EOCEnglish2_CACR_White has weight of -0.1126099723683188\n",
      "EOCSubjects_CACR_SWD has weight of -0.11167636276565215\n",
      "12_Size has weight of -0.11148291932845511\n",
      "EOCEnglish2_CACR_Black has weight of -0.11112142424858172\n",
      "calendar_type_txt_Regular_School,_Year_Round_Calendar has weight of -0.10948810209965792\n",
      "digital_media_pct has weight of -0.10885360448400598\n",
      "Proficient_TCHR_Standard_1_Pct has weight of -0.1086461000970267\n",
      "books_per_student has weight of -0.10436250873875176\n",
      "EOCSubjects_CACR_AIG has weight of -0.10357820401390871\n",
      "EOCBiology_CACR_EDS has weight of -0.10192878277280258\n",
      "EOCSubjects_CACR_LEP has weight of -0.09604827331417876\n",
      "SRC_Grades_Devices_Sent_Home_10:11:12:13 has weight of -0.09470664996458075\n",
      "grades_1_to_1_access_9:10 has weight of -0.09438690434538656\n",
      "one_to_one_access_yes has weight of -0.09423309439274627\n",
      "EOCBiology_CACR_TwoorMoreRaces has weight of -0.09407315604016364\n",
      "SBE_District_Piedmont_Triad has weight of -0.09236209685808947\n",
      "ACTSubtests_BenchmarksMet_AmericanIndian has weight of -0.0902758757938314\n",
      "GraduationRate_4yr_Black has weight of -0.08853967936379778\n",
      "lea_supplies_expense_pct has weight of -0.08700450021362727\n",
      "ACTWorkKeys_SilverPlus_SWD has weight of -0.08343467332568721\n",
      "st_crime_per_c_num has weight of -0.08277058489097398\n",
      "Exceeds_Expected_Growth_TCHR_Student_Growth_Pct has weight of -0.08118359363142821\n",
      "grades_1_to_1_access_9 has weight of -0.0800732878421901\n",
      "stud_internet_comp_num has weight of -0.0786474368157174\n",
      "GraduationRate_4yr_TwoorMoreRaces has weight of -0.07785617246997723\n",
      "grade_range_cd_9_11 has weight of -0.07562366268775594\n",
      "grade_range_cd_9_9 has weight of -0.07549471813241021\n",
      "EOCEnglish2_CACR_AIG has weight of -0.07275458463773236\n",
      "EVAAS_Growth_Status_Met has weight of -0.07248157874640969\n",
      "EOCMathI_CACR_Hispanic has weight of -0.07187276989967704\n",
      "lea_instruct_equip_exp_pct has weight of -0.06949006699642535\n",
      "11_Size has weight of -0.06929311868949381\n",
      "MANU_Concentrator_Ct has weight of -0.06856602972350509\n",
      "lea_cte_courses has weight of -0.06834009802702931\n",
      "GraduationRate_5yr_AmericanIndian has weight of -0.06748666803424584\n",
      "EOCBiology_CACR_SWD has weight of -0.06576826592079485\n",
      "grades_1_to_1_access_6:7:8:9:10:11:12:13 has weight of -0.06410039158200165\n",
      "EOCMathI_CACR_SWD has weight of -0.06364076539880319\n",
      "grade_range_cd_7_12 has weight of -0.06313882119001098\n",
      "Reading_SPG_Grade_C has weight of -0.06297008748347474\n",
      "ACTSubtests_BenchmarksMet_AIG has weight of -0.06268374013358576\n",
      "SRC_Grades_Devices_Sent_Home_9:10:12 has weight of -0.06079260578970721\n",
      "ACTSubtests_BenchmarksMet_SWD has weight of -0.055934111846642265\n",
      "BMA_Concentrator_Ct has weight of -0.05144428417465861\n",
      "EOCBiology_CACR_White has weight of -0.05031672742992974\n",
      "advance_dgr_pct has weight of -0.04949955698468759\n",
      "ACTCompositeScore_UNCMin_AmericanIndian has weight of -0.04857576818404965\n",
      "grade_range_cd_6_12 has weight of -0.045639469500062556\n",
      "grades_BYOD_12 has weight of -0.04467353265136233\n",
      "SPG_Grade_C has weight of -0.04371080239707388\n",
      "lea_flicensed_teach_pct has weight of -0.04306381868936514\n",
      "10+_Years_LEA_Exp_Pct_Prin has weight of -0.04272388505913399\n",
      "GraduationRate_5yr_Hispanic has weight of -0.042107331331085594\n",
      "Reading_SPG_Grade_D has weight of -0.038803895718174844\n",
      "lateral_teach_pct has weight of -0.03842387146882799\n",
      "short_susp_per_c_num has weight of -0.038026479126052344\n",
      "AAVC_Concentrator_Ct has weight of -0.036877169379258286\n",
      "CurrentYearEOC_pTarget_PctMet has weight of -0.033094238099680304\n",
      "grades_1_to_1_access_11:12:13 has weight of -0.030877012170421932\n",
      "grades_BYOD_9:10:11 has weight of -0.03060163327961942\n",
      "STEM_Concentrator_Ct has weight of -0.02948207628459622\n",
      "SPG_Grade_D has weight of -0.02931411959147933\n",
      "Math_SPG_Grade_C has weight of -0.028412967968086726\n",
      "lea_tchyrs_0thru3_pct has weight of -0.02787758233562783\n",
      "nbpts_num has weight of -0.026804162977224048\n",
      "grade_range_cd_7_13 has weight of -0.025795513753204068\n",
      "SBE_District_Southwest has weight of -0.025540892487205327\n",
      "Developing_TCHR_Standard_2_Pct has weight of -0.023469433266967852\n",
      "NC_Math_1_Score has weight of -0.022123352584113447\n",
      "EOCEnglish2_CACR_LEP has weight of -0.020621394265175074\n",
      "Meets_Expected_Growth_TCHR_Student_Growth_Pct has weight of -0.019793893668045057\n",
      "grades_BYOD_9 has weight of -0.01907052455519284\n",
      "ap_participation_pct has weight of -0.01872417732051915\n",
      "grades_BYOD_11:12 has weight of -0.01797261209472147\n",
      "EOCMathI_CACR_LEP has weight of -0.01712838453922535\n",
      "Accomplished_TCHR_Standard_2_Pct has weight of -0.01605638100731059\n",
      "lea_books_per_student has weight of -0.015425385735505876\n",
      "SBE_District_Sandhills has weight of -0.014759774487320475\n",
      "grades_BYOD_6:7:8:9:10:11:12 has weight of -0.014226399203085301\n",
      "lea_long_susp_per_c_num has weight of -0.014167299998418375\n",
      "ARCH_Concentrator_Ct has weight of -0.01269464160598067\n",
      "esea_status_P has weight of -0.011228844233348747\n",
      "ACTCompositeScore_UNCMin_SWD has weight of -0.010664585320433429\n",
      "grades_1_to_1_access_10:11:12 has weight of -0.009226374690749837\n",
      "Does_Not_Meet_Expected_Growth_TCHR_Student_Growth_Pct has weight of -0.0077114196973643075\n",
      "lea_wap_per_classroom has weight of -0.0076582564432034145\n",
      "EOCMathI_CACR_TwoorMoreRaces has weight of -0.004967079356387037\n",
      "SBE_District_Northwest has weight of -0.0025669411714400836\n",
      "grades_BYOD_11:12:13 has weight of -0.001382936306703916\n",
      "ACTSubtests_BenchmarksMet_Black has weight of -0.0008358023680200767\n",
      "grades_BYOD_8:9:10:11:12 has weight of 0.0\n",
      "grades_BYOD_PK:9:10:11:12 has weight of 0.0\n",
      "EOCSubjects_CACR_Hispanic has weight of 0.0009670994998017279\n",
      "lea_federal_perpupil_num has weight of 0.001292997998825008\n",
      "Not_Demostrated_TCHR_Standard_1_Pct has weight of 0.0020916616072171705\n",
      "grade_range_cd_6_13 has weight of 0.0022229252732467184\n",
      "ACTCompositeScore_UNCMin_White has weight of 0.00441442730937301\n",
      "grade_range_cd_3_12 has weight of 0.004418864837360262\n",
      "10_Size has weight of 0.005599459212538709\n",
      "lea_sat_participation_pct has weight of 0.006040921607315975\n",
      "EOCBiology_CACR_Asian has weight of 0.007113060035123095\n",
      "ACTCompositeScore_UNCMin_TwoorMoreRaces has weight of 0.007168535741626638\n",
      "lea_avg_daily_attend_pct has weight of 0.007610831311504734\n",
      "Passing_NC_Math_3 has weight of 0.008557113118860944\n",
      "lea_tchyrs_4thru10_pct has weight of 0.009180956172302144\n",
      "avg_age_media_collection has weight of 0.00976902765927812\n",
      "0_3_Years_LEA_Exp_Pct_Prin has weight of 0.010185442552478732\n",
      "Number_Industry_Recognized_Crede has weight of 0.011410907370637118\n",
      "Not_Demostrated_TCHR_Standard_3_Pct has weight of 0.012264028338095612\n",
      "09_Size has weight of 0.012961957591313905\n",
      "HLTH_Concentrator_Ct has weight of 0.013285710147881892\n",
      "Distinguished_TCHR_Standard_2_Pct has weight of 0.014663155789213954\n",
      "Developing_TCHR_Standard_3_Pct has weight of 0.01507632560228245\n",
      "GraduationRate_5yr_Asian has weight of 0.01698592352243203\n",
      "4_10_Years_LEA_Exp_Pct_Prin has weight of 0.01776160731673337\n",
      "grades_BYOD_9:10:11:12 has weight of 0.018615965019710853\n",
      "grade_range_cd_11_12 has weight of 0.01892505974333997\n",
      "English_II_Size has weight of 0.01980220638737951\n",
      "grade_range_cd_9_12 has weight of 0.020447430405919828\n",
      "lea_tchyrs_11plus_pct has weight of 0.020997532202493507\n",
      "grade_range_cd_9_13 has weight of 0.022089430099232223\n",
      "lea_ap_pct_3_or_above has weight of 0.02213031766422892\n",
      "EVAAS_Growth_Score has weight of 0.022314323127235712\n",
      "grades_1_to_1_access_10:11:12:13 has weight of 0.02231481021640643\n",
      "GraduationRate_5yr_Male has weight of 0.02446894530505047\n",
      "ACTWorkKeys_SilverPlus_Black has weight of 0.025231907177209353\n",
      "student_num has weight of 0.025618712190285744\n",
      "BlackMalePct has weight of 0.027416762124107073\n",
      "Math_SPG_Grade_F has weight of 0.02844467301092079\n",
      "grade_range_cd_11_13 has weight of 0.028923854320072533\n",
      "grades_1_to_1_access_11 has weight of 0.028923854320072533\n",
      "st_avg_daily_attend_pct has weight of 0.02949240991542206\n",
      "SPG_Grade_A+NG has weight of 0.03009350448822361\n",
      "GraduationRate_5yr_LEP has weight of 0.03083644154993957\n",
      "grades_1_to_1_access_9:11:12:13 has weight of 0.03139381362963985\n",
      "sat_avg_score_num has weight of 0.03139566265028198\n",
      "st_avg_student_num has weight of 0.032074584698969386\n",
      "lea_nbpts_num has weight of 0.03264858656044815\n",
      "lea_expelled_per_c_num has weight of 0.03319992265133637\n",
      "Not_Demostrated_TCHR_Standard_2_Pct has weight of 0.03447016441613082\n",
      "ACT_WorkKeys_Score has weight of 0.036548160149812624\n",
      "GraduationRate_5yr_TwoorMoreRaces has weight of 0.038637470595187476\n",
      "flicensed_teach_pct has weight of 0.03932290544950044\n",
      "Distinguished_TCHR_Standard_1_Pct has weight of 0.03975647829735364\n",
      "EOCBiology_CACR_Hispanic has weight of 0.04067615095120089\n",
      "EOCBiology_CACR_AIG has weight of 0.04098960532181932\n",
      "PacificIslandMalePct has weight of 0.04285072918414557\n",
      "ACTWorkKeys_SilverPlus_Hispanic has weight of 0.04352536880516859\n",
      "TRAN_Concentrator_Ct has weight of 0.04435908618894223\n",
      "GraduationRate_4yr_White has weight of 0.0448454854160518\n",
      "Accomplished_TCHR_Standard_4_Pct has weight of 0.04536016216470495\n",
      "SciGr11_pTarget_PctMet has weight of 0.04613195372942567\n",
      "Math_SPG_Grade_B has weight of 0.047540281966816124\n",
      "univ_college_courses has weight of 0.05236871412219941\n",
      "grades_BYOD_9:11:12 has weight of 0.05265419121705837\n",
      "SRC_Grades_Devices_Sent_Home_9:10 has weight of 0.05777262443722571\n",
      "ACTWorkKeys_pTarget_PctMet has weight of 0.05834679413362229\n",
      "SPG_Grade_B has weight of 0.059052993610222454\n",
      "Biology_Size has weight of 0.05958442113168697\n",
      "EVAAS_Growth_Status_NotMet has weight of 0.06267850785637834\n",
      "English_II_Score has weight of 0.06448003225597361\n",
      "lea_emer_prov_teach_pct has weight of 0.0644994404197202\n",
      "GraduationRate_4yr_Male has weight of 0.06564495632179314\n",
      "grades_BYOD_6:7:8:9:10:11:12:13 has weight of 0.06723566579290521\n",
      "ACTMath_ACTBenchmark_SWD has weight of 0.0675058308348307\n",
      "Byod_Yes has weight of 0.06811674929517435\n",
      "ACTSubtests_BenchmarksMet_LEP has weight of 0.06866796602344193\n",
      "Reading_SPG_Grade_B has weight of 0.06990952829028249\n",
      "lea_univ_college_courses has weight of 0.074152836078773\n",
      "tchyrs_0thru3_pct has weight of 0.07621036202325189\n",
      "SPG_Score has weight of 0.07669769959154582\n",
      "lea_avg_student_num has weight of 0.07781998019485527\n",
      "ACTWriting_ACTBenchmark_LEP has weight of 0.07929483728998067\n",
      "ACTCompositeScore_UNCMin_EDS has weight of 0.08018036861147775\n",
      "Biology_Score has weight of 0.08048573428769346\n",
      "ACTSubtests_BenchmarksMet_Asian has weight of 0.08380378866837664\n",
      "INFO_Concentrator_Ct has weight of 0.08477789062143222\n",
      "ACTWriting_ACTBenchmark_EDS has weight of 0.08615363861658698\n",
      "ACTCompositeScore_UNCMin_Asian has weight of 0.08796381251785884\n",
      "SRC_Grades_Devices_Sent_Home_8:9:10:11:12:13 has weight of 0.08901157092066199\n",
      "Reading_SPG_Grade_F has weight of 0.09225552671619149\n",
      "Developing_TCHR_Standard_1_Pct has weight of 0.0934133780624499\n",
      "ACTWorkKeys_SilverPlus_Asian has weight of 0.09371752969681132\n",
      "expelled_per_c_num has weight of 0.09403982254411958\n",
      "ACTWriting_ACTBenchmark_SWD has weight of 0.09623887746089325\n",
      "EOCSubjects_CACR_Black has weight of 0.09724716222892131\n",
      "lea_sat_avg_score_num has weight of 0.09881434935209946\n",
      "EOCBiology_CACR_LEP has weight of 0.10276238340623926\n",
      "GraduationRate_5yr_White has weight of 0.10373405708459264\n",
      "Grad_project_status_Y has weight of 0.10496766742345179\n",
      "EOCSubjects_CACR_TwoorMoreRaces has weight of 0.10895428612874614\n",
      "avg_daily_attend_pct has weight of 0.11139207656750547\n",
      "SBE_District_Northeast has weight of 0.11158611032355653\n",
      "grades_BYOD_9:10:11:12:13 has weight of 0.11174052453387104\n",
      "grades_1_to_1_access_9:10:11:12 has weight of 0.114830804975583\n",
      "TotalTargets_pTarget_PctMet has weight of 0.11550589069927844\n",
      "GraduationRate_4yr_Female has weight of 0.1174493058696011\n",
      "tchyrs_11plus_pct has weight of 0.11993747068730974\n",
      "GraduationRate_4yr_AIG has weight of 0.12297569839484071\n",
      "Developing_TCHR_Standard_5_Pct has weight of 0.12473579657797994\n",
      "EOCEnglish2_CACR_Hispanic has weight of 0.12533354957694692\n",
      "SRC_Grades_Devices_Sent_Home_6:7:8:9:10:11:12 has weight of 0.12587607743175552\n",
      "EOCSubjects_CACR_AmericanIndian has weight of 0.13340781735123544\n",
      "ACTCompositeScore_UNCMin_Hispanic has weight of 0.13739509162824853\n",
      "sat_participation_pct has weight of 0.13999945464327437\n",
      "AGNR_Concentrator_Ct has weight of 0.14020651555310804\n",
      "SBE_District_Western has weight of 0.14085042691787275\n",
      "HOSP_Concentrator_Ct has weight of 0.14380388442768727\n",
      "ACTCompositeScore_UNCMin_AIG has weight of 0.14408760660501374\n",
      "One_yr_tchr_trnovr_pct has weight of 0.14565099964871123\n",
      "GraduationRate_4yr_EDS has weight of 0.1459812450477161\n",
      "Accomplished_TCHR_Standard_1_Pct has weight of 0.14660489441539332\n",
      "EOCMathI_CACR_Black has weight of 0.14986279593146878\n",
      "ACTSubtests_BenchmarksMet_TwoorMoreRaces has weight of 0.15016090045876104\n",
      "GraduationRate_5yr_AIG has weight of 0.15236907909397893\n",
      "grade_range_cd_PK_13 has weight of 0.15419542133100156\n",
      "lea_1yr_tchr_trnovr_pct has weight of 0.15630812295295868\n",
      "lea_short_susp_per_c_num has weight of 0.15832412303317206\n",
      "lea_salary_expense_pct has weight of 0.16693841519146013\n",
      "grade_range_cd_K_12 has weight of 0.16995908487064548\n",
      "lea_stud_internet_comp_num has weight of 0.17166475587801194\n",
      "IndianFemalePct has weight of 0.1716990222405202\n",
      "SRC_Grades_Devices_Sent_Home_10:11:12 has weight of 0.174050869887046\n",
      "GraduationRate_5yr_All has weight of 0.17744368912755992\n",
      "ACTCompositeScore_UNCMin_LEP has weight of 0.18031818522035548\n",
      "ap_pct_3_or_above has weight of 0.18113172433613517\n",
      "EOCSubjects_CACR_Asian has weight of 0.1905749774291072\n",
      "ACT_Score has weight of 0.1925191556977138\n",
      "Math_I_Size has weight of 0.2123760901286968\n",
      "EOCMathI_CACR_AIG has weight of 0.22295417861673592\n",
      "ACTSubtests_BenchmarksMet_Hispanic has weight of 0.22991559238567527\n",
      "EOCBiology_CACR_Black has weight of 0.24121411057757616\n",
      "ACTWorkKeys_SilverPlus_AIG has weight of 0.2497029287032807\n",
      "SBE_District_Southeast has weight of 0.25181789637354646\n"
     ]
    }
   ],
   "source": [
    "# we want to normalize the features based upon the mean and standard deviation of each column. \n",
    "# However, we do not want to accidentally use the testing data to find out the mean and std (this would be snooping)\n",
    "# to Make things easier, let's start by just using whatever was last stored in the variables:\n",
    "##    X_train , y_train , X_test, y_test (they were set in a for loop above)\n",
    "\n",
    "# scale attributes by the training set\n",
    "scl_obj = StandardScaler()\n",
    "scl_obj.fit(xTrain) # find scalings for each column that make this zero mean and unit std\n",
    "# the line of code above only looks at training data to get mean and std and we can use it \n",
    "# to transform new feature data\n",
    "\n",
    "X_train_scaled = scl_obj.transform(xTrain) # apply to training\n",
    "X_test_scaled = scl_obj.transform(xTest) # apply those means and std to the test set (without snooping at the test set values)\n",
    "\n",
    "# train the model just as before\n",
    "lr_clf = LogisticRegression(penalty='l2', C=0.05) # get object, the 'C' value is less (can you guess why??)\n",
    "lr_clf.fit(X_train_scaled,yTrain)  # train object\n",
    "\n",
    "y_hat = lr_clf.predict(X_test_scaled) # get test set precitions\n",
    "\n",
    "acc = mt.accuracy_score(yTest,y_hat)\n",
    "conf = mt.confusion_matrix(yTest,y_hat)\n",
    "print('accuracy:', acc )\n",
    "print(conf )\n",
    "\n",
    "# sort these attributes and spit them out\n",
    "zip_vars = zip(lr_clf.coef_.T,X.columns) # combine attributes\n",
    "zip_vars = sorted(zip_vars)\n",
    "for coef, name in zip_vars:\n",
    "    print(name, 'has weight of', coef[0]) # now print them out"
   ]
  },
  {
   "cell_type": "code",
   "execution_count": 87,
   "metadata": {},
   "outputs": [
    {
     "data": {
      "image/png": "[encoded data removed]",
      "text/plain": [
       "<Figure size 1080x360 with 1 Axes>"
      ]
     },
     "metadata": {
      "needs_background": "light"
     },
     "output_type": "display_data"
    }
   ],
   "source": [
    "# Graph the columns in terms of prediction weight\n",
    "cv = CountVectorizer()\n",
    "cv.fit(X)\n",
    "\n",
    "plot_coefficients(lr_clf, cv.get_feature_names(), top_features = 10)"
   ]
  },
  {
   "cell_type": "markdown",
   "metadata": {},
   "source": [
    "## Support Vector Machines"
   ]
  },
  {
   "cell_type": "markdown",
   "metadata": {},
   "source": [
    "### Linear Regression Features\n",
    "For comparison against the two models, we'll build a model with the attributes used for the linear regression model"
   ]
  },
  {
   "cell_type": "code",
   "execution_count": 91,
   "metadata": {},
   "outputs": [],
   "source": [
    "param_grid = dict(C=[1,10,100,1000])\n",
    "gridLinear = GridSearchCV(SVC(), param_grid=param_grid, iid = False, cv=10)"
   ]
  },
  {
   "cell_type": "code",
   "execution_count": 92,
   "metadata": {},
   "outputs": [
    {
     "name": "stdout",
     "output_type": "stream",
     "text": [
      "Training started at: 20:01:30.509692\n",
      "Wall time: 2.51 s\n",
      "Best parameters set found on development set:\n",
      "\n",
      "{'C': 1}\n",
      "\n",
      "gridLinear scores on development set:\n",
      "\n",
      "0.702 (+/-0.153) for {'C': 1}\n",
      "0.673 (+/-0.131) for {'C': 10}\n",
      "0.659 (+/-0.126) for {'C': 100}\n",
      "0.659 (+/-0.126) for {'C': 1000}\n",
      "\n"
     ]
    }
   ],
   "source": [
    "# Train SVM model\n",
    "print(\"Training started at: {}\".format(datetime.now().time()))\n",
    "%time gridLinear.fit(xTrainLR, yTrainLR)\n",
    "\n",
    "bestValues = gridLinear.best_params_\n",
    "\n",
    "print(\"Best parameters set found on development set:\")\n",
    "print()\n",
    "print(bestValues)\n",
    "print()\n",
    "print(\"gridLinear scores on development set:\")\n",
    "print()\n",
    "means = gridLinear.cv_results_['mean_test_score']\n",
    "stds = gridLinear.cv_results_['std_test_score']\n",
    "for mean, std, params in zip(means, stds, gridLinear.cv_results_['params']):\n",
    "    print(\"%0.3f (+/-%0.03f) for %r\"\n",
    "          % (mean, std * 2, params))\n",
    "print()"
   ]
  },
  {
   "cell_type": "code",
   "execution_count": 93,
   "metadata": {},
   "outputs": [
    {
     "name": "stdout",
     "output_type": "stream",
     "text": [
      "[[28 20]\n",
      " [20 26]]\n",
      "              precision    recall  f1-score   support\n",
      "\n",
      "           0       0.58      0.58      0.58        48\n",
      "           1       0.57      0.57      0.57        46\n",
      "\n",
      "   micro avg       0.57      0.57      0.57        94\n",
      "   macro avg       0.57      0.57      0.57        94\n",
      "weighted avg       0.57      0.57      0.57        94\n",
      "\n"
     ]
    }
   ],
   "source": [
    "# Set model to best values found\n",
    "cls = SVC(C = bestValues['C'], kernel = 'linear')\n",
    "\n",
    "# Train\n",
    "cls.fit(xTrainLR, yTrainLR)\n",
    "\n",
    "# Predict test values\n",
    "yhat = cls.predict(xTestLR)\n",
    "\n",
    "# Show model performance\n",
    "print(confusion_matrix(yTest, yhat))\n",
    "print(classification_report(yTest, yhat))"
   ]
  },
  {
   "cell_type": "markdown",
   "metadata": {},
   "source": [
    "### Feature Selection\n",
    "Using the ANOVA F-value to determine which columns have the greatest proportion of variance, we select the top 10% to be used in our model. The F-value tells us which column(s) help to explain the greatest amount of variance in the target variable. The columns with the highest proportion allows the model to solve for the greatest separation on attributes for classification."
   ]
  },
  {
   "cell_type": "code",
   "execution_count": 94,
   "metadata": {},
   "outputs": [],
   "source": [
    "# Subset the data to exclude the target variable\n",
    "maxCols = dfPublicHS.shape[1]\n",
    "X = dfPublicHS.iloc[:,0:maxCols-2]\n",
    "\n",
    "# Choose the top 10% attributes based on ANOVA score\n",
    "sel = SelectPercentile(f_classif, percentile = 10)\n",
    "sel.fit(X, y)\n",
    "\n",
    "# Credit: https://www.kaggle.com/saravanann/santander\n",
    "# Convert back to dataframe\n",
    "\n",
    "keepCols = sel.get_support(indices=True)\n",
    "temp = sel.transform(X)\n",
    "X = pd.DataFrame(temp, columns = X.columns[keepCols])"
   ]
  },
  {
   "cell_type": "markdown",
   "metadata": {},
   "source": [
    "### Data split\n",
    "Split the resulting dataset into 80% for training and 20% for testing. After we split the training data, we then scale the data so that each column contributes equal weight to the model. A column with a range of 1 and a column with a range of 10,000 will be highly biased by the column with a range of 10,000. Scaling the columns puts each column on an equal range. We use fit to calculate the mean and standard deviation for the train data set. We use the mean and standard deviation of the train data on the test data so that information isn't biased by data that we shouldn't know about."
   ]
  },
  {
   "cell_type": "code",
   "execution_count": 95,
   "metadata": {},
   "outputs": [],
   "source": [
    "# Create a test and train dataset with an 80/20 split\n",
    "xTrain, xTest, yTrain, yTest = train_test_split(X.astype(np.float), y, test_size = 0.2)\n",
    "\n",
    "# Scale data after splitting out test data\n",
    "scaler = StandardScaler()\n",
    "scaler.fit(xTrain)\n",
    "xTrain = scaler.transform(xTrain)\n",
    "xTest = scaler.transform(xTest)"
   ]
  },
  {
   "cell_type": "markdown",
   "metadata": {},
   "source": [
    "### Parameter Tuning\n",
    "Here we create a range of values to test the model against to determine which parameters provide the best result."
   ]
  },
  {
   "cell_type": "code",
   "execution_count": 96,
   "metadata": {},
   "outputs": [],
   "source": [
    "# Set parameter turning values and create a grid of models to run\n",
    "gamma_range = np.logspace(-9, 3, 13)\n",
    "param_grid = dict(gamma=gamma_range, C=[1,10,100,1000])\n",
    "\n",
    "gridRBF = GridSearchCV(SVC(), param_grid=param_grid, iid = False, cv=10)"
   ]
  },
  {
   "cell_type": "code",
   "execution_count": 97,
   "metadata": {},
   "outputs": [
    {
     "name": "stdout",
     "output_type": "stream",
     "text": [
      "Training started at: 20:01:45.426532\n",
      "Wall time: 7.9 s\n",
      "Best parameters set found on development set:\n",
      "\n",
      "{'C': 100, 'gamma': 0.001}\n",
      "\n",
      "gridRBF scores on development set:\n",
      "\n",
      "0.505 (+/-0.013) for {'C': 1, 'gamma': 1e-09}\n",
      "0.505 (+/-0.013) for {'C': 1, 'gamma': 1e-08}\n",
      "0.505 (+/-0.013) for {'C': 1, 'gamma': 1e-07}\n",
      "0.505 (+/-0.013) for {'C': 1, 'gamma': 1e-06}\n",
      "0.505 (+/-0.013) for {'C': 1, 'gamma': 1e-05}\n",
      "0.737 (+/-0.218) for {'C': 1, 'gamma': 0.0001}\n",
      "0.822 (+/-0.186) for {'C': 1, 'gamma': 0.001}\n",
      "0.904 (+/-0.126) for {'C': 1, 'gamma': 0.01}\n",
      "0.872 (+/-0.142) for {'C': 1, 'gamma': 0.1}\n",
      "0.636 (+/-0.073) for {'C': 1, 'gamma': 1.0}\n",
      "0.505 (+/-0.013) for {'C': 1, 'gamma': 10.0}\n",
      "0.505 (+/-0.013) for {'C': 1, 'gamma': 100.0}\n",
      "0.505 (+/-0.013) for {'C': 1, 'gamma': 1000.0}\n",
      "0.505 (+/-0.013) for {'C': 10, 'gamma': 1e-09}\n",
      "0.505 (+/-0.013) for {'C': 10, 'gamma': 1e-08}\n",
      "0.505 (+/-0.013) for {'C': 10, 'gamma': 1e-07}\n",
      "0.505 (+/-0.013) for {'C': 10, 'gamma': 1e-06}\n",
      "0.745 (+/-0.204) for {'C': 10, 'gamma': 1e-05}\n",
      "0.830 (+/-0.171) for {'C': 10, 'gamma': 0.0001}\n",
      "0.915 (+/-0.100) for {'C': 10, 'gamma': 0.001}\n",
      "0.944 (+/-0.097) for {'C': 10, 'gamma': 0.01}\n",
      "0.843 (+/-0.164) for {'C': 10, 'gamma': 0.1}\n",
      "0.644 (+/-0.090) for {'C': 10, 'gamma': 1.0}\n",
      "0.505 (+/-0.013) for {'C': 10, 'gamma': 10.0}\n",
      "0.505 (+/-0.013) for {'C': 10, 'gamma': 100.0}\n",
      "0.505 (+/-0.013) for {'C': 10, 'gamma': 1000.0}\n",
      "0.505 (+/-0.013) for {'C': 100, 'gamma': 1e-09}\n",
      "0.505 (+/-0.013) for {'C': 100, 'gamma': 1e-08}\n",
      "0.505 (+/-0.013) for {'C': 100, 'gamma': 1e-07}\n",
      "0.745 (+/-0.204) for {'C': 100, 'gamma': 1e-06}\n",
      "0.830 (+/-0.171) for {'C': 100, 'gamma': 1e-05}\n",
      "0.915 (+/-0.081) for {'C': 100, 'gamma': 0.0001}\n",
      "0.949 (+/-0.069) for {'C': 100, 'gamma': 0.001}\n",
      "0.931 (+/-0.075) for {'C': 100, 'gamma': 0.01}\n",
      "0.843 (+/-0.164) for {'C': 100, 'gamma': 0.1}\n",
      "0.644 (+/-0.090) for {'C': 100, 'gamma': 1.0}\n",
      "0.505 (+/-0.013) for {'C': 100, 'gamma': 10.0}\n",
      "0.505 (+/-0.013) for {'C': 100, 'gamma': 100.0}\n",
      "0.505 (+/-0.013) for {'C': 100, 'gamma': 1000.0}\n",
      "0.505 (+/-0.013) for {'C': 1000, 'gamma': 1e-09}\n",
      "0.505 (+/-0.013) for {'C': 1000, 'gamma': 1e-08}\n",
      "0.745 (+/-0.204) for {'C': 1000, 'gamma': 1e-07}\n",
      "0.830 (+/-0.171) for {'C': 1000, 'gamma': 1e-06}\n",
      "0.912 (+/-0.079) for {'C': 1000, 'gamma': 1e-05}\n",
      "0.947 (+/-0.058) for {'C': 1000, 'gamma': 0.0001}\n",
      "0.941 (+/-0.058) for {'C': 1000, 'gamma': 0.001}\n",
      "0.931 (+/-0.083) for {'C': 1000, 'gamma': 0.01}\n",
      "0.843 (+/-0.164) for {'C': 1000, 'gamma': 0.1}\n",
      "0.644 (+/-0.090) for {'C': 1000, 'gamma': 1.0}\n",
      "0.505 (+/-0.013) for {'C': 1000, 'gamma': 10.0}\n",
      "0.505 (+/-0.013) for {'C': 1000, 'gamma': 100.0}\n",
      "0.505 (+/-0.013) for {'C': 1000, 'gamma': 1000.0}\n",
      "\n"
     ]
    }
   ],
   "source": [
    "# Train SVM model on the each different parameter value\n",
    "print(\"Training started at: {}\".format(datetime.now().time()))\n",
    "%time gridRBF.fit(xTrain, yTrain)\n",
    "\n",
    "bestValues = gridRBF.best_params_\n",
    "\n",
    "print(\"Best parameters set found on development set:\")\n",
    "print()\n",
    "print(bestValues)\n",
    "print()\n",
    "print(\"gridRBF scores on development set:\")\n",
    "print()\n",
    "means = gridRBF.cv_results_['mean_test_score']\n",
    "stds = gridRBF.cv_results_['std_test_score']\n",
    "for mean, std, params in zip(means, stds, gridRBF.cv_results_['params']):\n",
    "    print(\"%0.3f (+/-%0.03f) for %r\"\n",
    "          % (mean, std * 2, params))\n",
    "print()"
   ]
  },
  {
   "cell_type": "markdown",
   "metadata": {},
   "source": [
    "### Test Model\n",
    "Using the best parameters found from the grid search above, test our model against data that it hasn't seen before."
   ]
  },
  {
   "cell_type": "code",
   "execution_count": 98,
   "metadata": {
    "scrolled": true
   },
   "outputs": [
    {
     "name": "stdout",
     "output_type": "stream",
     "text": [
      "[[45  0]\n",
      " [ 1 48]]\n",
      "              precision    recall  f1-score   support\n",
      "\n",
      "           0       0.98      1.00      0.99        45\n",
      "           1       1.00      0.98      0.99        49\n",
      "\n",
      "   micro avg       0.99      0.99      0.99        94\n",
      "   macro avg       0.99      0.99      0.99        94\n",
      "weighted avg       0.99      0.99      0.99        94\n",
      "\n"
     ]
    }
   ],
   "source": [
    "# Set model to best values found\n",
    "cls = SVC(C = bestValues['C'], gamma = bestValues['gamma'])\n",
    "\n",
    "# Train\n",
    "cls.fit(xTrain, yTrain)\n",
    "\n",
    "# Predict test values\n",
    "yhat = cls.predict(xTest)\n",
    "\n",
    "# Show model performance\n",
    "print(confusion_matrix(yTest, yhat))\n",
    "print(classification_report(yTest, yhat))"
   ]
  },
  {
   "cell_type": "markdown",
   "metadata": {},
   "source": [
    "### ROC Curve\n",
    "PLot an ROC curve of the results. An ROC curve helps show the trade offs between true-negatives and false-positives. For instance, if we were trying to predict whether someone has a deadly illness then we would want to select a model that gives the fewest number of true-negatives. However, in our cause, it's acceptable to have a higher false-positive rate since we are only exploring attributes that could contribute to higher levels of students enrolling in postsecondary education."
   ]
  },
  {
   "cell_type": "code",
   "execution_count": 81,
   "metadata": {},
   "outputs": [
    {
     "data": {
      "image/png": "[encoded data removed]",
      "text/plain": [
       "<Figure size 432x288 with 1 Axes>"
      ]
     },
     "metadata": {
      "needs_background": "light"
     },
     "output_type": "display_data"
    }
   ],
   "source": [
    "# Plot an ROC Graph\n",
    "fpr, tpr, thresholds = roc_curve(yTest, yhat)\n",
    "\n",
    "plt.figure()\n",
    "lw = 2\n",
    "plt.plot(fpr, tpr, color='darkorange',\n",
    "         lw=lw)\n",
    "plt.plot([0, 1], [0, 1], color='navy', lw=lw, linestyle='--')\n",
    "plt.xlim([0.0, 1.0])\n",
    "plt.ylim([0.0, 1.05])\n",
    "plt.xlabel('False Positive Rate')\n",
    "plt.ylabel('True Positive Rate')\n",
    "plt.title('ROC Graph')\n",
    "plt.show()"
   ]
  },
  {
   "cell_type": "markdown",
   "metadata": {},
   "source": [
    "### Most influential Support Vectors\n",
    "The graph below helps us determine which attributes have the most impact on the boundary between support vectors. This gives us some indication of what attributes might help increase the number of students enrolled in postsecondary education."
   ]
  },
  {
   "cell_type": "code",
   "execution_count": 82,
   "metadata": {},
   "outputs": [
    {
     "ename": "AttributeError",
     "evalue": "coef_ is only available when using a linear kernel",
     "output_type": "error",
     "traceback": [
      "\u001b[1;31m---------------------------------------------------------------------------\u001b[0m",
      "\u001b[1;31mAttributeError\u001b[0m                            Traceback (most recent call last)",
      "\u001b[1;32m<ipython-input-82-e0ebce7a1189>\u001b[0m in \u001b[0;36m<module>\u001b[1;34m\u001b[0m\n\u001b[0;32m      3\u001b[0m \u001b[0mcv\u001b[0m\u001b[1;33m.\u001b[0m\u001b[0mfit\u001b[0m\u001b[1;33m(\u001b[0m\u001b[0mX\u001b[0m\u001b[1;33m)\u001b[0m\u001b[1;33m\u001b[0m\u001b[0m\n\u001b[0;32m      4\u001b[0m \u001b[1;33m\u001b[0m\u001b[0m\n\u001b[1;32m----> 5\u001b[1;33m \u001b[0mplot_coefficients\u001b[0m\u001b[1;33m(\u001b[0m\u001b[0mcls\u001b[0m\u001b[1;33m,\u001b[0m \u001b[0mcv\u001b[0m\u001b[1;33m.\u001b[0m\u001b[0mget_feature_names\u001b[0m\u001b[1;33m(\u001b[0m\u001b[1;33m)\u001b[0m\u001b[1;33m,\u001b[0m \u001b[0mtop_features\u001b[0m \u001b[1;33m=\u001b[0m \u001b[1;36m10\u001b[0m\u001b[1;33m)\u001b[0m\u001b[1;33m\u001b[0m\u001b[0m\n\u001b[0m",
      "\u001b[1;32m<ipython-input-56-4a4089f71cfd>\u001b[0m in \u001b[0;36mplot_coefficients\u001b[1;34m(classifier, feature_names, top_features)\u001b[0m\n\u001b[0;32m      1\u001b[0m \u001b[1;31m# Source: https://medium.com/@aneesha/visualising-top-features-in-linear-svm-with-scikit-learn-and-matplotlib-3454ab18a14d\u001b[0m\u001b[1;33m\u001b[0m\u001b[1;33m\u001b[0m\u001b[0m\n\u001b[0;32m      2\u001b[0m \u001b[1;32mdef\u001b[0m \u001b[0mplot_coefficients\u001b[0m\u001b[1;33m(\u001b[0m\u001b[0mclassifier\u001b[0m\u001b[1;33m,\u001b[0m \u001b[0mfeature_names\u001b[0m\u001b[1;33m,\u001b[0m \u001b[0mtop_features\u001b[0m\u001b[1;33m=\u001b[0m\u001b[1;36m20\u001b[0m\u001b[1;33m)\u001b[0m\u001b[1;33m:\u001b[0m\u001b[1;33m\u001b[0m\u001b[0m\n\u001b[1;32m----> 3\u001b[1;33m     \u001b[0mcoef\u001b[0m \u001b[1;33m=\u001b[0m \u001b[0mclassifier\u001b[0m\u001b[1;33m.\u001b[0m\u001b[0mcoef_\u001b[0m\u001b[1;33m.\u001b[0m\u001b[0mravel\u001b[0m\u001b[1;33m(\u001b[0m\u001b[1;33m)\u001b[0m\u001b[1;33m\u001b[0m\u001b[0m\n\u001b[0m\u001b[0;32m      4\u001b[0m     \u001b[0mtop_positive_coefficients\u001b[0m \u001b[1;33m=\u001b[0m \u001b[0mnp\u001b[0m\u001b[1;33m.\u001b[0m\u001b[0margsort\u001b[0m\u001b[1;33m(\u001b[0m\u001b[0mcoef\u001b[0m\u001b[1;33m)\u001b[0m\u001b[1;33m[\u001b[0m\u001b[1;33m-\u001b[0m\u001b[0mtop_features\u001b[0m\u001b[1;33m:\u001b[0m\u001b[1;33m]\u001b[0m\u001b[1;33m\u001b[0m\u001b[0m\n\u001b[0;32m      5\u001b[0m     \u001b[0mtop_negative_coefficients\u001b[0m \u001b[1;33m=\u001b[0m \u001b[0mnp\u001b[0m\u001b[1;33m.\u001b[0m\u001b[0margsort\u001b[0m\u001b[1;33m(\u001b[0m\u001b[0mcoef\u001b[0m\u001b[1;33m)\u001b[0m\u001b[1;33m[\u001b[0m\u001b[1;33m:\u001b[0m\u001b[0mtop_features\u001b[0m\u001b[1;33m]\u001b[0m\u001b[1;33m\u001b[0m\u001b[0m\n",
      "\u001b[1;32m~\\Anaconda3\\lib\\site-packages\\sklearn\\svm\\base.py\u001b[0m in \u001b[0;36mcoef_\u001b[1;34m(self)\u001b[0m\n\u001b[0;32m    482\u001b[0m     \u001b[1;32mdef\u001b[0m \u001b[0mcoef_\u001b[0m\u001b[1;33m(\u001b[0m\u001b[0mself\u001b[0m\u001b[1;33m)\u001b[0m\u001b[1;33m:\u001b[0m\u001b[1;33m\u001b[0m\u001b[0m\n\u001b[0;32m    483\u001b[0m         \u001b[1;32mif\u001b[0m \u001b[0mself\u001b[0m\u001b[1;33m.\u001b[0m\u001b[0mkernel\u001b[0m \u001b[1;33m!=\u001b[0m \u001b[1;34m'linear'\u001b[0m\u001b[1;33m:\u001b[0m\u001b[1;33m\u001b[0m\u001b[0m\n\u001b[1;32m--> 484\u001b[1;33m             raise AttributeError('coef_ is only available when using a '\n\u001b[0m\u001b[0;32m    485\u001b[0m                                  'linear kernel')\n\u001b[0;32m    486\u001b[0m \u001b[1;33m\u001b[0m\u001b[0m\n",
      "\u001b[1;31mAttributeError\u001b[0m: coef_ is only available when using a linear kernel"
     ]
    }
   ],
   "source": [
    "# Graph the columns in terms of prediction weight\n",
    "cv = CountVectorizer()\n",
    "cv.fit(X)\n",
    "\n",
    "plot_coefficients(cls, cv.get_feature_names(), top_features = 10)"
   ]
  },
  {
   "cell_type": "markdown",
   "metadata": {},
   "source": [
    "### Parameter Tuning\n",
    "Here we create a range of values to test the model against to determine which parameters provide the best result."
   ]
  },
  {
   "cell_type": "code",
   "execution_count": 83,
   "metadata": {},
   "outputs": [],
   "source": [
    "param_grid = dict(C=[1,10,100,1000])\n",
    "gridLinear = GridSearchCV(SVC(), param_grid=param_grid, iid = False, cv=10)"
   ]
  },
  {
   "cell_type": "code",
   "execution_count": 84,
   "metadata": {},
   "outputs": [
    {
     "name": "stdout",
     "output_type": "stream",
     "text": [
      "Training started at: 19:51:20.523470\n",
      "Wall time: 353 ms\n",
      "Best parameters set found on development set:\n",
      "\n",
      "{'C': 10}\n",
      "\n",
      "gridLinear scores on development set:\n",
      "\n",
      "0.891 (+/-0.056) for {'C': 1}\n",
      "0.931 (+/-0.058) for {'C': 10}\n",
      "0.928 (+/-0.089) for {'C': 100}\n",
      "0.928 (+/-0.089) for {'C': 1000}\n",
      "\n"
     ]
    }
   ],
   "source": [
    "# Train SVM model\n",
    "print(\"Training started at: {}\".format(datetime.now().time()))\n",
    "%time gridLinear.fit(xTrain, yTrain)\n",
    "\n",
    "bestValues = gridLinear.best_params_\n",
    "\n",
    "print(\"Best parameters set found on development set:\")\n",
    "print()\n",
    "print(bestValues)\n",
    "print()\n",
    "print(\"gridLinear scores on development set:\")\n",
    "print()\n",
    "means = gridLinear.cv_results_['mean_test_score']\n",
    "stds = gridLinear.cv_results_['std_test_score']\n",
    "for mean, std, params in zip(means, stds, gridLinear.cv_results_['params']):\n",
    "    print(\"%0.3f (+/-%0.03f) for %r\"\n",
    "          % (mean, std * 2, params))\n",
    "print()"
   ]
  },
  {
   "cell_type": "markdown",
   "metadata": {},
   "source": [
    "### Test Model\n",
    "Using the best parameters found from the grid search above, test our model against data that it hasn't seen before."
   ]
  },
  {
   "cell_type": "code",
   "execution_count": 85,
   "metadata": {},
   "outputs": [],
   "source": [
    "cls = SVC(C = bestValues['C'], kernel = 'linear')"
   ]
  },
  {
   "cell_type": "code",
   "execution_count": 86,
   "metadata": {},
   "outputs": [
    {
     "name": "stdout",
     "output_type": "stream",
     "text": [
      "[[46  2]\n",
      " [ 3 43]]\n",
      "              precision    recall  f1-score   support\n",
      "\n",
      "           0       0.94      0.96      0.95        48\n",
      "           1       0.96      0.93      0.95        46\n",
      "\n",
      "   micro avg       0.95      0.95      0.95        94\n",
      "   macro avg       0.95      0.95      0.95        94\n",
      "weighted avg       0.95      0.95      0.95        94\n",
      "\n"
     ]
    }
   ],
   "source": [
    "# Train\n",
    "cls.fit(xTrain, yTrain)\n",
    "\n",
    "# Predict test values\n",
    "yhat = cls.predict(xTest)\n",
    "\n",
    "# Show model performance\n",
    "print(confusion_matrix(yTest, yhat))\n",
    "print(classification_report(yTest, yhat))"
   ]
  },
  {
   "cell_type": "markdown",
   "metadata": {},
   "source": [
    "### ROC Curve\n",
    "Plot an ROC curve of the results. An ROC curve helps show the trade offs between true-negatives and false-positives. For instance, if we were trying to predict whether someone has a deadly illness then we would want to select a model that gives the fewest number of true-negatives. However, in our cause, it's acceptable to have a higher false-positive rate since we are only exploring attributes that could contribute to higher levels of students enrolling in postsecondary education."
   ]
  },
  {
   "cell_type": "code",
   "execution_count": 87,
   "metadata": {},
   "outputs": [
    {
     "data": {
      "image/png": "[encoded data removed]",
      "text/plain": [
       "<Figure size 432x288 with 1 Axes>"
      ]
     },
     "metadata": {
      "needs_background": "light"
     },
     "output_type": "display_data"
    }
   ],
   "source": [
    "# Plot an ROC Graph\n",
    "fpr, tpr, thresholds = roc_curve(yTest, yhat)\n",
    "\n",
    "plt.figure()\n",
    "lw = 2\n",
    "plt.plot(fpr, tpr, color='darkorange',\n",
    "         lw=lw)\n",
    "plt.plot([0, 1], [0, 1], color='navy', lw=lw, linestyle='--')\n",
    "plt.xlim([0.0, 1.0])\n",
    "plt.ylim([0.0, 1.05])\n",
    "plt.xlabel('False Positive Rate')\n",
    "plt.ylabel('True Positive Rate')\n",
    "plt.title('ROC Graph')\n",
    "plt.show()"
   ]
  },
  {
   "cell_type": "markdown",
   "metadata": {},
   "source": [
    "### Most influential Support Vectors\n",
    "The graph below helps us determine which attributes have the most impact on the boundary between support vectors. This gives us some indication of what attributes might help increase the number of students enrolled in postsecondary education."
   ]
  },
  {
   "cell_type": "code",
   "execution_count": 88,
   "metadata": {
    "scrolled": false
   },
   "outputs": [
    {
     "data": {
      "image/png": "[encoded data removed]",
      "text/plain": [
       "<Figure size 1080x360 with 1 Axes>"
      ]
     },
     "metadata": {
      "needs_background": "light"
     },
     "output_type": "display_data"
    }
   ],
   "source": [
    "# Source: https://medium.com/@aneesha/visualising-top-features-in-linear-svm-with-scikit-learn-and-matplotlib-3454ab18a14d\n",
    "\n",
    "# Graph the columns in terms of prediction weight\n",
    "cv = CountVectorizer()\n",
    "cv.fit(X)\n",
    "\n",
    "plot_coefficients(cls, cv.get_feature_names(), top_features = 10)"
   ]
  },
  {
   "cell_type": "code",
   "execution_count": null,
   "metadata": {},
   "outputs": [],
   "source": [
    "# Cool Plot\n",
    "# http://scikit-learn.org/stable/auto_examples/svm/plot_separating_hyperplane.html#example-svm-plot-separating-hyperplane-py"
   ]
  },
  {
   "cell_type": "markdown",
   "metadata": {},
   "source": [
    "## Interpret Feature Importance (30 points)\n",
    "\n",
    "<span style=\"color: blue\">Use the weights from logistic regression to interpret the importance of different features for the classification task. <b>Explain your interpretation in detail.</b>Why do you think some variables are more important?"
   ]
  },
  {
   "cell_type": "markdown",
   "metadata": {},
   "source": [
    "## Model Advantages (10 points)\n",
    "<span style=\"color: blue\">Discuss the advantages of each model for each classification task. Does one type of model offer superior performance over another in terms of prediction accuracy? In terms of training time or efficiency? Explain in detail.</span>"
   ]
  },
  {
   "cell_type": "markdown",
   "metadata": {},
   "source": [
    "## Interpret Support Vectors (10 points)\n",
    "<span style=\"color:blue\">Look at the chosen support vectors for the classification task. Do these provide any insight into the data? Explain. If you used stochastic gradient descent (and therefore did not explicitly solve for support vectors), try subsampling your data to train the SVC model— then analyze the support vectors from the subsampled dataset."
   ]
  },
  {
   "cell_type": "code",
   "execution_count": null,
   "metadata": {},
   "outputs": [],
   "source": []
  }
 ],
 "metadata": {
  "kernelspec": {
   "display_name": "Python 3",
   "language": "python",
   "name": "python3"
  },
  "language_info": {
   "codemirror_mode": {
    "name": "ipython",
    "version": 3
   },
   "file_extension": ".py",
   "mimetype": "text/x-python",
   "name": "python",
   "nbconvert_exporter": "python",
   "pygments_lexer": "ipython3",
   "version": "3.6.6"
  }
 },
 "nbformat": 4,
 "nbformat_minor": 2
}
